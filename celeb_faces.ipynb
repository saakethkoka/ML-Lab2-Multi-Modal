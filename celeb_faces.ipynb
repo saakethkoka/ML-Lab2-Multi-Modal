{
 "cells": [
  {
   "cell_type": "code",
   "execution_count": 1,
   "metadata": {},
   "outputs": [
    {
     "name": "stderr",
     "output_type": "stream",
     "text": [
      "2023-03-10 15:59:51.806607: I tensorflow/core/platform/cpu_feature_guard.cc:193] This TensorFlow binary is optimized with oneAPI Deep Neural Network Library (oneDNN) to use the following CPU instructions in performance-critical operations:  AVX2 FMA\n",
      "To enable them in other operations, rebuild TensorFlow with the appropriate compiler flags.\n",
      "2023-03-10 15:59:54.135772: W tensorflow/compiler/xla/stream_executor/platform/default/dso_loader.cc:64] Could not load dynamic library 'libnvinfer.so.7'; dlerror: libnvinfer.so.7: cannot open shared object file: No such file or directory; LD_LIBRARY_PATH: /hpc/mp/spack/opt/spack/linux-ubuntu20.04-zen2/gcc-10.3.0/cudnn-8.2.4.15-11.4-eluwegpwn6adr7hlku5p5wru5xzefpop/lib64:/hpc/mp/spack/opt/spack/linux-ubuntu20.04-zen2/gcc-10.3.0/cuda-11.4.4-ctldo35wmmwws3jbgwkgjjcjawddu3qz/lib64:/hpc/mp/spack/opt/spack/linux-ubuntu20.04-zen2/gcc-10.3.0/neovim-0.7.0-terkir3wk5rst6ktv4uxyaqjditacv5p/lib\n",
      "2023-03-10 15:59:54.135915: W tensorflow/compiler/xla/stream_executor/platform/default/dso_loader.cc:64] Could not load dynamic library 'libnvinfer_plugin.so.7'; dlerror: libnvinfer_plugin.so.7: cannot open shared object file: No such file or directory; LD_LIBRARY_PATH: /hpc/mp/spack/opt/spack/linux-ubuntu20.04-zen2/gcc-10.3.0/cudnn-8.2.4.15-11.4-eluwegpwn6adr7hlku5p5wru5xzefpop/lib64:/hpc/mp/spack/opt/spack/linux-ubuntu20.04-zen2/gcc-10.3.0/cuda-11.4.4-ctldo35wmmwws3jbgwkgjjcjawddu3qz/lib64:/hpc/mp/spack/opt/spack/linux-ubuntu20.04-zen2/gcc-10.3.0/neovim-0.7.0-terkir3wk5rst6ktv4uxyaqjditacv5p/lib\n",
      "2023-03-10 15:59:54.135928: W tensorflow/compiler/tf2tensorrt/utils/py_utils.cc:38] TF-TRT Warning: Cannot dlopen some TensorRT libraries. If you would like to use Nvidia GPU with TensorRT, please make sure the missing libraries mentioned above are installed properly.\n"
     ]
    }
   ],
   "source": [
    "import pandas as pd\n",
    "import numpy as np\n",
    "import datetime\n",
    "import pickle\n",
    "import tensorflow as tf\n",
    "from keras.layers import Input, Dense, Conv2D, MaxPooling2D, UpSampling2D, Flatten, Reshape, Dropout, BatchNormalization, Activation\n",
    "from keras.models import Model\n",
    "import tensorflow\n",
    "import matplotlib.pyplot as plt\n",
    "from keras.models import load_model"
   ]
  },
  {
   "cell_type": "code",
   "execution_count": 2,
   "metadata": {},
   "outputs": [],
   "source": [
    "# make tensorlfow work better with gpus:\n",
    "physical_devices = tf.config.list_physical_devices('GPU')\n",
    "for device in physical_devices:\n",
    "    tf.config.experimental.set_memory_growth(device, True)\n",
    "\n",
    "# eager execution:\n",
    "tf.compat.v1.enable_eager_execution(\n",
    "    config=None, device_policy=None, execution_mode=None\n",
    ")"
   ]
  },
  {
   "attachments": {},
   "cell_type": "markdown",
   "metadata": {},
   "source": [
    "# Overview of Dataset\n",
    "\n",
    "What is the classification task and what is the format of the feature data. Is this multi-task, multi-modal, or both? Explain.\n",
    "Who collected the data? Why? When?\n",
    "What evaluation criteria will you be using and why? \n",
    "\n",
    "https://data.vision.ee.ethz.ch/cvl/rrothe/imdb-wiki/\n",
    "\n",
    "We are using the IMDB-Wiki dataset for multi-task learning of Age and Gender from facial image data. We will be doing multi-task by training a model to classify geneder and regress age of a certain person based on their picture. The images in this dataset are preprocessed so that they are cropped to the persons face.\n",
    "\n",
    "\n",
    "This dataset was collected by Rasmus Rothe, Radu Timofte and Luc Van Gool. This data was collecteted by crawling through Wikipedia celebrity profile pages and extracting their Age and Gender as well as their profile image. The images that did not have a timestamp were removed. The data was extracted to provide a dataset for age prediction.\n",
    "\n",
    "\n",
    "We will be evaluating our gender prediction task with Accuracy and AUC score. We will evaluate the age regression model with mean absolute error. \n",
    "\n",
    "\n",
    "# Tasks\n",
    "\n",
    "This dataset has two target tasks, predicting the age and gender of a person given their image. Both tasks are within the same domain of identifying features of a person based on their image."
   ]
  },
  {
   "cell_type": "code",
   "execution_count": 3,
   "metadata": {},
   "outputs": [],
   "source": [
    "# CONSTANTS\n",
    "\n",
    "DATA_DIR = \"/work/users/skoka/Data/wiki_crop/\"\n",
    "META_DATA =  \"/work/users/skoka/Data/wiki_crop/wiki.mat\"\n",
    "\n",
    "PICKLES_PATH = \"/work/users/skoka/Data/wiki_crop_pickles/\"\n",
    "GET_IMAGES_FROM_PICKLE = True"
   ]
  },
  {
   "cell_type": "markdown",
   "metadata": {},
   "source": []
  },
  {
   "cell_type": "code",
   "execution_count": 4,
   "metadata": {},
   "outputs": [],
   "source": [
    "# extract data from a .mat file\n",
    "import scipy.io as sio\n",
    "\n",
    "\n",
    "mat = sio.loadmat(META_DATA)\n",
    "# convert the data to a pandas dataframe\n",
    "mat_data = mat['wiki'][0][0]\n",
    "\n",
    "# 0 -> Matlab datatime format\n",
    "# 1 -> Years\n",
    "# 2 -> Path to image\n",
    "# 3 -> Gender\n",
    "\n",
    "# convert Matlab serial date number to datetime object\n",
    "def matlab_to_datetime(matlab_serial_date):\n",
    "    python_datetime = datetime.datetime.fromordinal(int(matlab_serial_date)) + \\\n",
    "                      datetime.timedelta(days=matlab_serial_date % 1) - \\\n",
    "                      datetime.timedelta(days=366)\n",
    "    return python_datetime\n",
    "\n",
    "def get_age(born_matlab_date, current_year):\n",
    "    return current_year - matlab_to_datetime(born_matlab_date).year\n",
    "\n",
    "new_data = [\n",
    "    # {\n",
    "        # image_path, gender, age\n",
    "    # }\n",
    "]\n",
    "\n",
    "for i in range(len(mat_data[0][0])):\n",
    "    new_data.append({\n",
    "        \"image_path\": mat_data[2][0][i][0],\n",
    "        \"age\": get_age(int(mat_data[0][0][i]), mat_data[1][0][i]),\n",
    "        \"gender\": mat_data[3][0][i]\n",
    "    })\n",
    "\n",
    "df = pd.DataFrame(new_data)"
   ]
  },
  {
   "cell_type": "code",
   "execution_count": 5,
   "metadata": {},
   "outputs": [],
   "source": [
    "# reading in images:\n",
    "from PIL import Image\n",
    "import os\n",
    "\n",
    "def read_image(path):\n",
    "    image = Image.open(os.path.join(DATA_DIR, path))\n",
    "    image = image.resize((256, 256))\n",
    "    return np.array(image)\n",
    "\n",
    "if not GET_IMAGES_FROM_PICKLE:\n",
    "    list_of_images = []\n",
    "    for i in range(len(df)):\n",
    "        list_of_images.append(read_image(df[\"image_path\"][i]))\n",
    "    with open(PICKLES_PATH + \"list_of_images.pickle\", \"wb\") as f:\n",
    "        pickle.dump(list_of_images, f)\n",
    "else:\n",
    "    with open(PICKLES_PATH + \"list_of_images.pickle\", \"rb\") as f:\n",
    "        list_of_images = pickle.load(f)"
   ]
  },
  {
   "cell_type": "code",
   "execution_count": 6,
   "metadata": {},
   "outputs": [],
   "source": [
    "# making every image 3 channels if it isnt already\n",
    "for i in range(len(list_of_images)):\n",
    "    if len(list_of_images[i].shape) != 3:\n",
    "        list_of_images[i] = np.stack((list_of_images[i],) * 3, axis=-1)\n",
    "\n",
    "# adding the images to the dataframe\n",
    "df[\"image\"] = list_of_images\n",
    "# drop na from the dataframe\n",
    "df = df.dropna()"
   ]
  },
  {
   "cell_type": "code",
   "execution_count": 7,
   "metadata": {},
   "outputs": [],
   "source": [
    "# remove images that have a mean value of 0, blank images\n",
    "df = df[df[\"image\"].apply(lambda x: x.mean()) != 0]\n",
    "# get rid of images that have a mean of the most common mean, to get rid of placeholder images that are meaningless\n",
    "mean = df[\"image\"].apply(lambda x: x.mean()).value_counts().index[0]\n",
    "df = df[df[\"image\"].apply(lambda x: x.mean()) != mean]\n",
    "\n",
    "# get rid of ages over 110 becuase these are most likely errors\n",
    "df = df[df[\"age\"] < 110]\n",
    "# get rid of ages < 0\n",
    "df = df[df[\"age\"] > 0]"
   ]
  },
  {
   "cell_type": "code",
   "execution_count": 8,
   "metadata": {},
   "outputs": [],
   "source": [
    "# Shuffleing the Dataset becuase it is currently ordered by person's date of birth\n",
    "df = df.sample(frac=1, random_state=42).reset_index(drop=True)\n",
    "\n",
    "X = np.array(df[\"image\"])\n",
    "X = np.concatenate(X)\n",
    "X = X.reshape(-1, 256, 256, 3)\n",
    "X = X / 255.0 # normalizing the data\n",
    "Y_age = df[\"age\"].values.astype('float32')\n",
    "Y_gender = df[\"gender\"].values.astype('float32')"
   ]
  },
  {
   "cell_type": "code",
   "execution_count": 9,
   "metadata": {},
   "outputs": [
    {
     "data": {
      "text/plain": [
       "Text(0, 0.5, 'Count')"
      ]
     },
     "execution_count": 9,
     "metadata": {},
     "output_type": "execute_result"
    },
    {
     "data": {
      "image/png": "[encoded data removed]",
      "text/plain": [
       "<Figure size 640x480 with 1 Axes>"
      ]
     },
     "metadata": {},
     "output_type": "display_data"
    }
   ],
   "source": [
    "df[\"age\"].hist(bins=100)\n",
    "plt.title(\"Age Distribution\")\n",
    "plt.xlabel(\"Age\")\n",
    "plt.ylabel(\"Count\")"
   ]
  },
  {
   "attachments": {},
   "cell_type": "markdown",
   "metadata": {},
   "source": [
    "This plot shows the age distribution after filtering error values. Even now the data shows some suspicious spikes but it is difficult to remove those potential errors due to the volume of those values."
   ]
  },
  {
   "cell_type": "code",
   "execution_count": 10,
   "metadata": {},
   "outputs": [
    {
     "data": {
      "text/plain": [
       "1.0    39842\n",
       "0.0    12067\n",
       "Name: gender, dtype: int64"
      ]
     },
     "execution_count": 10,
     "metadata": {},
     "output_type": "execute_result"
    }
   ],
   "source": [
    "df[\"gender\"].value_counts()"
   ]
  },
  {
   "attachments": {},
   "cell_type": "markdown",
   "metadata": {},
   "source": [
    "Here, the label 1 refers to males and the 0 refers to females. As we can see we have a class imbalance problem."
   ]
  },
  {
   "cell_type": "code",
   "execution_count": 11,
   "metadata": {},
   "outputs": [],
   "source": [
    "# sklearn train test split:\n",
    "from sklearn.model_selection import train_test_split\n",
    "\n",
    "# same random states so that the same images are in the same sets\n",
    "X_train, X_test, Y_age_train, Y_age_test = train_test_split(X, Y_age, test_size=0.2, random_state=42, stratify=Y_gender)\n",
    "_, _, Y_gender_train, Y_gender_test = train_test_split(X, Y_gender, test_size=0.2, random_state=42, stratify=Y_gender)"
   ]
  },
  {
   "attachments": {},
   "cell_type": "markdown",
   "metadata": {},
   "source": [
    "## Train Test Split:\n",
    "\n",
    "For this model, we need to have the same feature data for training across both tasks, becuase if we don't it would result in validation data leaking into the model. Because of the significant class imbalance we will stratify the data across gender. We decided to do an 80/20 split because we feel we have sufficient data with over 50,000 images after filtering. We didn't observe this egregious of am imbalance with age after filtering."
   ]
  },
  {
   "cell_type": "code",
   "execution_count": 12,
   "metadata": {},
   "outputs": [],
   "source": [
    "# Save X_train, X_test, Y_age_train, Y_age_test, Y_gender_train, Y_gender_test to pickle files\n",
    "with open(PICKLES_PATH + \"X_train.pickle\", \"wb\") as f:\n",
    "    pickle.dump(X_train, f)\n",
    "with open(PICKLES_PATH + \"X_test.pickle\", \"wb\") as f:\n",
    "    pickle.dump(X_test, f)\n",
    "with open(PICKLES_PATH + \"Y_age_train.pickle\", \"wb\") as f:\n",
    "    pickle.dump(Y_age_train, f)\n",
    "with open(PICKLES_PATH + \"Y_age_test.pickle\", \"wb\") as f:\n",
    "    pickle.dump(Y_age_test, f)\n",
    "with open(PICKLES_PATH + \"Y_gender_train.pickle\", \"wb\") as f:\n",
    "    pickle.dump(Y_gender_train, f)\n",
    "with open(PICKLES_PATH + \"Y_gender_test.pickle\", \"wb\") as f:\n",
    "    pickle.dump(Y_gender_test, f)"
   ]
  },
  {
   "cell_type": "code",
   "execution_count": 4,
   "metadata": {},
   "outputs": [],
   "source": [
    "# load all the pickle files from above into variables:\n",
    "\n",
    "with open(PICKLES_PATH + \"X_train.pickle\", \"rb\") as f:\n",
    "    X_train = pickle.load(f)\n",
    "with open(PICKLES_PATH + \"X_test.pickle\", \"rb\") as f:\n",
    "    X_test = pickle.load(f)\n",
    "with open(PICKLES_PATH + \"Y_age_train.pickle\", \"rb\") as f:\n",
    "    Y_age_train = pickle.load(f)\n",
    "with open(PICKLES_PATH + \"Y_age_test.pickle\", \"rb\") as f:\n",
    "    Y_age_test = pickle.load(f)\n",
    "with open(PICKLES_PATH + \"Y_gender_train.pickle\", \"rb\") as f:\n",
    "    Y_gender_train = pickle.load(f)\n",
    "with open(PICKLES_PATH + \"Y_gender_test.pickle\", \"rb\") as f:\n",
    "    Y_gender_test = pickle.load(f)"
   ]
  },
  {
   "attachments": {},
   "cell_type": "markdown",
   "metadata": {},
   "source": [
    "# Seperate Models\n",
    "\n",
    "## Gender Classification:"
   ]
  },
  {
   "cell_type": "code",
   "execution_count": 18,
   "metadata": {},
   "outputs": [],
   "source": [
    "# code taken from our lab 6 from 7324\n",
    "def resnet_block(input, output_filters, strides=1):\n",
    "    input_filters = input.shape[-1]\n",
    "    if input_filters != output_filters:\n",
    "        new_add = tf.keras.layers.Conv2D(output_filters, (1, 1), activation='relu', strides=strides, kernel_regularizer=tf.keras.regularizers.l2(0.001))(input)\n",
    "    x = tf.keras.layers.Conv2D(output_filters, (3,3), padding=\"same\", strides=strides, kernel_regularizer=tf.keras.regularizers.l2(0.001))(input)\n",
    "    x = tf.keras.layers.BatchNormalization()(x)\n",
    "    x = tf.keras.layers.Activation('relu')(x)\n",
    "    x = tf.keras.layers.Conv2D(output_filters, (3,3), padding=\"same\", kernel_regularizer=tf.keras.regularizers.l2(0.001))(x)\n",
    "    x = tf.keras.layers.BatchNormalization()(x)\n",
    "\n",
    "    if input_filters != output_filters:\n",
    "        x = tf.keras.layers.Add()([x, new_add])\n",
    "    else:\n",
    "        x = tf.keras.layers.Add()([x, input])\n",
    "    x = tf.keras.layers.Activation('relu')(x)\n",
    "    return x"
   ]
  },
  {
   "cell_type": "code",
   "execution_count": null,
   "metadata": {},
   "outputs": [
    {
     "name": "stdout",
     "output_type": "stream",
     "text": [
      "INFO:tensorflow:Using MirroredStrategy with devices ('/job:localhost/replica:0/task:0/device:GPU:0', '/job:localhost/replica:0/task:0/device:GPU:1', '/job:localhost/replica:0/task:0/device:GPU:2', '/job:localhost/replica:0/task:0/device:GPU:3')\n",
      "INFO:tensorflow:Reduce to /job:localhost/replica:0/task:0/device:CPU:0 then broadcast to ('/job:localhost/replica:0/task:0/device:CPU:0',).\n",
      "INFO:tensorflow:Reduce to /job:localhost/replica:0/task:0/device:CPU:0 then broadcast to ('/job:localhost/replica:0/task:0/device:CPU:0',).\n",
      "INFO:tensorflow:Reduce to /job:localhost/replica:0/task:0/device:CPU:0 then broadcast to ('/job:localhost/replica:0/task:0/device:CPU:0',).\n",
      "INFO:tensorflow:Reduce to /job:localhost/replica:0/task:0/device:CPU:0 then broadcast to ('/job:localhost/replica:0/task:0/device:CPU:0',).\n",
      "INFO:tensorflow:Reduce to /job:localhost/replica:0/task:0/device:CPU:0 then broadcast to ('/job:localhost/replica:0/task:0/device:CPU:0',).\n",
      "INFO:tensorflow:Reduce to /job:localhost/replica:0/task:0/device:CPU:0 then broadcast to ('/job:localhost/replica:0/task:0/device:CPU:0',).\n",
      "INFO:tensorflow:Reduce to /job:localhost/replica:0/task:0/device:CPU:0 then broadcast to ('/job:localhost/replica:0/task:0/device:CPU:0',).\n",
      "INFO:tensorflow:Reduce to /job:localhost/replica:0/task:0/device:CPU:0 then broadcast to ('/job:localhost/replica:0/task:0/device:CPU:0',).\n",
      "INFO:tensorflow:Reduce to /job:localhost/replica:0/task:0/device:CPU:0 then broadcast to ('/job:localhost/replica:0/task:0/device:CPU:0',).\n",
      "INFO:tensorflow:Reduce to /job:localhost/replica:0/task:0/device:CPU:0 then broadcast to ('/job:localhost/replica:0/task:0/device:CPU:0',).\n"
     ]
    },
    {
     "name": "stderr",
     "output_type": "stream",
     "text": [
      "2023-03-08 23:15:00.820354: I tensorflow/core/platform/cpu_feature_guard.cc:193] This TensorFlow binary is optimized with oneAPI Deep Neural Network Library (oneDNN) to use the following CPU instructions in performance-critical operations:  AVX2 FMA\n",
      "To enable them in other operations, rebuild TensorFlow with the appropriate compiler flags.\n",
      "2023-03-08 23:15:05.142545: I tensorflow/core/common_runtime/gpu/gpu_device.cc:1613] Created device /job:localhost/replica:0/task:0/device:GPU:0 with 79117 MB memory:  -> device: 0, name: NVIDIA A100-SXM4-80GB, pci bus id: 0000:07:00.0, compute capability: 8.0\n",
      "2023-03-08 23:15:05.148225: I tensorflow/core/common_runtime/gpu/gpu_device.cc:1613] Created device /job:localhost/replica:0/task:0/device:GPU:1 with 79117 MB memory:  -> device: 1, name: NVIDIA A100-SXM4-80GB, pci bus id: 0000:0f:00.0, compute capability: 8.0\n",
      "2023-03-08 23:15:05.153874: I tensorflow/core/common_runtime/gpu/gpu_device.cc:1613] Created device /job:localhost/replica:0/task:0/device:GPU:2 with 79117 MB memory:  -> device: 2, name: NVIDIA A100-SXM4-80GB, pci bus id: 0000:47:00.0, compute capability: 8.0\n",
      "2023-03-08 23:15:05.158359: I tensorflow/core/common_runtime/gpu/gpu_device.cc:1613] Created device /job:localhost/replica:0/task:0/device:GPU:3 with 79117 MB memory:  -> device: 3, name: NVIDIA A100-SXM4-80GB, pci bus id: 0000:4e:00.0, compute capability: 8.0\n",
      "2023-03-08 23:15:05.164147: I tensorflow/core/common_runtime/gpu/gpu_device.cc:1613] Created device /job:localhost/replica:0/task:0/device:GPU:4 with 79117 MB memory:  -> device: 4, name: NVIDIA A100-SXM4-80GB, pci bus id: 0000:87:00.0, compute capability: 8.0\n",
      "2023-03-08 23:15:05.168867: I tensorflow/core/common_runtime/gpu/gpu_device.cc:1613] Created device /job:localhost/replica:0/task:0/device:GPU:5 with 79117 MB memory:  -> device: 5, name: NVIDIA A100-SXM4-80GB, pci bus id: 0000:90:00.0, compute capability: 8.0\n",
      "2023-03-08 23:15:05.173451: I tensorflow/core/common_runtime/gpu/gpu_device.cc:1613] Created device /job:localhost/replica:0/task:0/device:GPU:6 with 79117 MB memory:  -> device: 6, name: NVIDIA A100-SXM4-80GB, pci bus id: 0000:b7:00.0, compute capability: 8.0\n",
      "2023-03-08 23:15:05.177011: I tensorflow/core/common_runtime/gpu/gpu_device.cc:1613] Created device /job:localhost/replica:0/task:0/device:GPU:7 with 79117 MB memory:  -> device: 7, name: NVIDIA A100-SXM4-80GB, pci bus id: 0000:bd:00.0, compute capability: 8.0\n"
     ]
    },
    {
     "name": "stdout",
     "output_type": "stream",
     "text": [
      "Model: \"model\"\n",
      "__________________________________________________________________________________________________\n",
      " Layer (type)                   Output Shape         Param #     Connected to                     \n",
      "==================================================================================================\n",
      " input_1 (InputLayer)           [(None, 256, 256, 3  0           []                               \n",
      "                                )]                                                                \n",
      "                                                                                                  \n",
      " conv2d (Conv2D)                (None, 250, 250, 16  2368        ['input_1[0][0]']                \n",
      "                                )                                                                 \n",
      "                                                                                                  \n",
      " batch_normalization (BatchNorm  (None, 250, 250, 16  64         ['conv2d[0][0]']                 \n",
      " alization)                     )                                                                 \n",
      "                                                                                                  \n",
      " conv2d_1 (Conv2D)              (None, 250, 250, 16  2320        ['batch_normalization[0][0]']    \n",
      "                                )                                                                 \n",
      "                                                                                                  \n",
      " batch_normalization_1 (BatchNo  (None, 250, 250, 16  64         ['conv2d_1[0][0]']               \n",
      " rmalization)                   )                                                                 \n",
      "                                                                                                  \n",
      " activation (Activation)        (None, 250, 250, 16  0           ['batch_normalization_1[0][0]']  \n",
      "                                )                                                                 \n",
      "                                                                                                  \n",
      " conv2d_2 (Conv2D)              (None, 250, 250, 16  2320        ['activation[0][0]']             \n",
      "                                )                                                                 \n",
      "                                                                                                  \n",
      " batch_normalization_2 (BatchNo  (None, 250, 250, 16  64         ['conv2d_2[0][0]']               \n",
      " rmalization)                   )                                                                 \n",
      "                                                                                                  \n",
      " add (Add)                      (None, 250, 250, 16  0           ['batch_normalization_2[0][0]',  \n",
      "                                )                                 'batch_normalization[0][0]']    \n",
      "                                                                                                  \n",
      " activation_1 (Activation)      (None, 250, 250, 16  0           ['add[0][0]']                    \n",
      "                                )                                                                 \n",
      "                                                                                                  \n",
      " conv2d_3 (Conv2D)              (None, 250, 250, 16  2320        ['activation_1[0][0]']           \n",
      "                                )                                                                 \n",
      "                                                                                                  \n",
      " batch_normalization_3 (BatchNo  (None, 250, 250, 16  64         ['conv2d_3[0][0]']               \n",
      " rmalization)                   )                                                                 \n",
      "                                                                                                  \n",
      " activation_2 (Activation)      (None, 250, 250, 16  0           ['batch_normalization_3[0][0]']  \n",
      "                                )                                                                 \n",
      "                                                                                                  \n",
      " conv2d_4 (Conv2D)              (None, 250, 250, 16  2320        ['activation_2[0][0]']           \n",
      "                                )                                                                 \n",
      "                                                                                                  \n",
      " batch_normalization_4 (BatchNo  (None, 250, 250, 16  64         ['conv2d_4[0][0]']               \n",
      " rmalization)                   )                                                                 \n",
      "                                                                                                  \n",
      " add_1 (Add)                    (None, 250, 250, 16  0           ['batch_normalization_4[0][0]',  \n",
      "                                )                                 'activation_1[0][0]']           \n",
      "                                                                                                  \n",
      " activation_3 (Activation)      (None, 250, 250, 16  0           ['add_1[0][0]']                  \n",
      "                                )                                                                 \n",
      "                                                                                                  \n",
      " conv2d_6 (Conv2D)              (None, 125, 125, 32  4640        ['activation_3[0][0]']           \n",
      "                                )                                                                 \n",
      "                                                                                                  \n",
      " batch_normalization_5 (BatchNo  (None, 125, 125, 32  128        ['conv2d_6[0][0]']               \n",
      " rmalization)                   )                                                                 \n",
      "                                                                                                  \n",
      " activation_4 (Activation)      (None, 125, 125, 32  0           ['batch_normalization_5[0][0]']  \n",
      "                                )                                                                 \n",
      "                                                                                                  \n",
      " conv2d_7 (Conv2D)              (None, 125, 125, 32  9248        ['activation_4[0][0]']           \n",
      "                                )                                                                 \n",
      "                                                                                                  \n",
      " batch_normalization_6 (BatchNo  (None, 125, 125, 32  128        ['conv2d_7[0][0]']               \n",
      " rmalization)                   )                                                                 \n",
      "                                                                                                  \n",
      " conv2d_5 (Conv2D)              (None, 125, 125, 32  544         ['activation_3[0][0]']           \n",
      "                                )                                                                 \n",
      "                                                                                                  \n",
      " add_2 (Add)                    (None, 125, 125, 32  0           ['batch_normalization_6[0][0]',  \n",
      "                                )                                 'conv2d_5[0][0]']               \n",
      "                                                                                                  \n",
      " activation_5 (Activation)      (None, 125, 125, 32  0           ['add_2[0][0]']                  \n",
      "                                )                                                                 \n",
      "                                                                                                  \n",
      " conv2d_8 (Conv2D)              (None, 125, 125, 32  9248        ['activation_5[0][0]']           \n",
      "                                )                                                                 \n",
      "                                                                                                  \n",
      " batch_normalization_7 (BatchNo  (None, 125, 125, 32  128        ['conv2d_8[0][0]']               \n",
      " rmalization)                   )                                                                 \n",
      "                                                                                                  \n",
      " activation_6 (Activation)      (None, 125, 125, 32  0           ['batch_normalization_7[0][0]']  \n",
      "                                )                                                                 \n",
      "                                                                                                  \n",
      " conv2d_9 (Conv2D)              (None, 125, 125, 32  9248        ['activation_6[0][0]']           \n",
      "                                )                                                                 \n",
      "                                                                                                  \n",
      " batch_normalization_8 (BatchNo  (None, 125, 125, 32  128        ['conv2d_9[0][0]']               \n",
      " rmalization)                   )                                                                 \n",
      "                                                                                                  \n",
      " add_3 (Add)                    (None, 125, 125, 32  0           ['batch_normalization_8[0][0]',  \n",
      "                                )                                 'activation_5[0][0]']           \n",
      "                                                                                                  \n",
      " activation_7 (Activation)      (None, 125, 125, 32  0           ['add_3[0][0]']                  \n",
      "                                )                                                                 \n",
      "                                                                                                  \n",
      " conv2d_11 (Conv2D)             (None, 63, 63, 64)   18496       ['activation_7[0][0]']           \n",
      "                                                                                                  \n",
      " batch_normalization_9 (BatchNo  (None, 63, 63, 64)  256         ['conv2d_11[0][0]']              \n",
      " rmalization)                                                                                     \n",
      "                                                                                                  \n",
      " activation_8 (Activation)      (None, 63, 63, 64)   0           ['batch_normalization_9[0][0]']  \n",
      "                                                                                                  \n",
      " conv2d_12 (Conv2D)             (None, 63, 63, 64)   36928       ['activation_8[0][0]']           \n",
      "                                                                                                  \n",
      " batch_normalization_10 (BatchN  (None, 63, 63, 64)  256         ['conv2d_12[0][0]']              \n",
      " ormalization)                                                                                    \n",
      "                                                                                                  \n",
      " conv2d_10 (Conv2D)             (None, 63, 63, 64)   2112        ['activation_7[0][0]']           \n",
      "                                                                                                  \n",
      " add_4 (Add)                    (None, 63, 63, 64)   0           ['batch_normalization_10[0][0]', \n",
      "                                                                  'conv2d_10[0][0]']              \n",
      "                                                                                                  \n",
      " activation_9 (Activation)      (None, 63, 63, 64)   0           ['add_4[0][0]']                  \n",
      "                                                                                                  \n",
      " conv2d_13 (Conv2D)             (None, 63, 63, 64)   36928       ['activation_9[0][0]']           \n",
      "                                                                                                  \n",
      " batch_normalization_11 (BatchN  (None, 63, 63, 64)  256         ['conv2d_13[0][0]']              \n",
      " ormalization)                                                                                    \n",
      "                                                                                                  \n",
      " activation_10 (Activation)     (None, 63, 63, 64)   0           ['batch_normalization_11[0][0]'] \n",
      "                                                                                                  \n",
      " conv2d_14 (Conv2D)             (None, 63, 63, 64)   36928       ['activation_10[0][0]']          \n",
      "                                                                                                  \n",
      " batch_normalization_12 (BatchN  (None, 63, 63, 64)  256         ['conv2d_14[0][0]']              \n",
      " ormalization)                                                                                    \n",
      "                                                                                                  \n",
      " add_5 (Add)                    (None, 63, 63, 64)   0           ['batch_normalization_12[0][0]', \n",
      "                                                                  'activation_9[0][0]']           \n",
      "                                                                                                  \n",
      " activation_11 (Activation)     (None, 63, 63, 64)   0           ['add_5[0][0]']                  \n",
      "                                                                                                  \n",
      " max_pooling2d (MaxPooling2D)   (None, 31, 31, 64)   0           ['activation_11[0][0]']          \n",
      "                                                                                                  \n",
      " flatten (Flatten)              (None, 61504)        0           ['max_pooling2d[0][0]']          \n",
      "                                                                                                  \n",
      " dropout (Dropout)              (None, 61504)        0           ['flatten[0][0]']                \n",
      "                                                                                                  \n",
      " dense (Dense)                  (None, 1)            61505       ['dropout[0][0]']                \n",
      "                                                                                                  \n",
      "==================================================================================================\n",
      "Total params: 239,329\n",
      "Trainable params: 238,401\n",
      "Non-trainable params: 928\n",
      "__________________________________________________________________________________________________\n"
     ]
    }
   ],
   "source": [
    "\n",
    "strategy = tf.distribute.MirroredStrategy(\n",
    "    devices=[\"/gpu:0\", \"/gpu:1\", \"/gpu:2\", \"/gpu:3\", \"/gpu:4\", \"/gpu:5\", \"/gpu:6\", \"/gpu:7\"]\n",
    ")\n",
    "with strategy.scope():\n",
    "    input = tf.keras.Input(shape=(256, 256, 3))\n",
    "\n",
    "    x = tf.keras.layers.Conv2D(16, (7, 7), activation='relu', kernel_regularizer=tf.keras.regularizers.l2(0.001))(input)\n",
    "    x = tf.keras.layers.BatchNormalization()(x)\n",
    "\n",
    "    # resnet block - note that all of our models will have an identical resnet to process the images\n",
    "    x = resnet_block(x, 16)\n",
    "    x = resnet_block(x, 16)\n",
    "    x = resnet_block(x, 32, 2)\n",
    "    x = resnet_block(x, 32)\n",
    "    x = resnet_block(x, 64, 2)\n",
    "    x = resnet_block(x, 64)\n",
    "\n",
    "    x = tf.keras.layers.MaxPooling2D((2, 2))(x)\n",
    "    dense = tf.keras.layers.Flatten()(x)\n",
    "    dense = tf.keras.layers.Dropout(0.3)(dense)\n",
    "    output = tf.keras.layers.Dense(1, activation='sigmoid')(dense)\n",
    "\n",
    "    gender_classification_model = tf.keras.Model(inputs=input, outputs=output)\n",
    "\n",
    "    gender_classification_model.compile(optimizer='adam', loss='binary_crossentropy', metrics=['accuracy'])\n",
    "\n",
    "    gender_classification_model.summary()\n"
   ]
  },
  {
   "cell_type": "code",
   "execution_count": null,
   "metadata": {},
   "outputs": [
    {
     "name": "stdout",
     "output_type": "stream",
     "text": [
      "Epoch 1/25\n",
      "INFO:tensorflow:batch_all_reduce: 58 all-reduces with algorithm = nccl, num_packs = 1\n",
      "INFO:tensorflow:batch_all_reduce: 58 all-reduces with algorithm = nccl, num_packs = 1\n"
     ]
    },
    {
     "name": "stderr",
     "output_type": "stream",
     "text": [
      "2023-03-08 23:16:10.684593: I tensorflow/compiler/xla/stream_executor/cuda/cuda_dnn.cc:428] Loaded cuDNN version 8204\n",
      "2023-03-08 23:16:11.748277: I tensorflow/compiler/xla/stream_executor/cuda/cuda_dnn.cc:428] Loaded cuDNN version 8204\n",
      "2023-03-08 23:16:12.997964: I tensorflow/compiler/xla/stream_executor/cuda/cuda_dnn.cc:428] Loaded cuDNN version 8204\n",
      "2023-03-08 23:16:14.528513: I tensorflow/compiler/xla/stream_executor/cuda/cuda_dnn.cc:428] Loaded cuDNN version 8204\n",
      "2023-03-08 23:16:16.749655: I tensorflow/compiler/xla/stream_executor/cuda/cuda_blas.cc:630] TensorFloat-32 will be used for the matrix multiplication. This will only be logged once.\n",
      "2023-03-08 23:16:20.101130: I tensorflow/compiler/xla/service/service.cc:173] XLA service 0x7efc04693e90 initialized for platform CUDA (this does not guarantee that XLA will be used). Devices:\n",
      "2023-03-08 23:16:20.101163: I tensorflow/compiler/xla/service/service.cc:181]   StreamExecutor device (0): NVIDIA A100-SXM4-80GB, Compute Capability 8.0\n",
      "2023-03-08 23:16:20.101168: I tensorflow/compiler/xla/service/service.cc:181]   StreamExecutor device (1): NVIDIA A100-SXM4-80GB, Compute Capability 8.0\n",
      "2023-03-08 23:16:20.101173: I tensorflow/compiler/xla/service/service.cc:181]   StreamExecutor device (2): NVIDIA A100-SXM4-80GB, Compute Capability 8.0\n",
      "2023-03-08 23:16:20.101177: I tensorflow/compiler/xla/service/service.cc:181]   StreamExecutor device (3): NVIDIA A100-SXM4-80GB, Compute Capability 8.0\n",
      "2023-03-08 23:16:20.101181: I tensorflow/compiler/xla/service/service.cc:181]   StreamExecutor device (4): NVIDIA A100-SXM4-80GB, Compute Capability 8.0\n",
      "2023-03-08 23:16:20.101185: I tensorflow/compiler/xla/service/service.cc:181]   StreamExecutor device (5): NVIDIA A100-SXM4-80GB, Compute Capability 8.0\n",
      "2023-03-08 23:16:20.101189: I tensorflow/compiler/xla/service/service.cc:181]   StreamExecutor device (6): NVIDIA A100-SXM4-80GB, Compute Capability 8.0\n",
      "2023-03-08 23:16:20.101193: I tensorflow/compiler/xla/service/service.cc:181]   StreamExecutor device (7): NVIDIA A100-SXM4-80GB, Compute Capability 8.0\n",
      "2023-03-08 23:16:20.107426: I tensorflow/compiler/mlir/tensorflow/utils/dump_mlir_util.cc:268] disabling MLIR crash reproducer, set env var `MLIR_CRASH_REPRODUCER_DIRECTORY` to enable.\n",
      "2023-03-08 23:16:20.219950: I tensorflow/compiler/jit/xla_compilation_cache.cc:477] Compiled cluster using XLA!  This line is logged at most once for the lifetime of the process.\n"
     ]
    },
    {
     "name": "stdout",
     "output_type": "stream",
     "text": [
      "649/649 [==============================] - 88s 86ms/step - loss: 1.2822 - accuracy: 0.7592 - val_loss: 0.7771 - val_accuracy: 0.8070\n",
      "Epoch 2/25\n",
      "649/649 [==============================] - 43s 66ms/step - loss: 0.6892 - accuracy: 0.8123 - val_loss: 0.5730 - val_accuracy: 0.8453\n",
      "Epoch 3/25\n",
      "649/649 [==============================] - 47s 73ms/step - loss: 0.5273 - accuracy: 0.8407 - val_loss: 0.4824 - val_accuracy: 0.8502\n",
      "Epoch 4/25\n",
      "649/649 [==============================] - 43s 67ms/step - loss: 0.4549 - accuracy: 0.8574 - val_loss: 0.4754 - val_accuracy: 0.8401\n",
      "Epoch 5/25\n",
      "649/649 [==============================] - 49s 76ms/step - loss: 0.4267 - accuracy: 0.8631 - val_loss: 0.5759 - val_accuracy: 0.7987\n",
      "Epoch 6/25\n",
      "649/649 [==============================] - 49s 75ms/step - loss: 0.3895 - accuracy: 0.8721 - val_loss: 0.4857 - val_accuracy: 0.8228\n",
      "Epoch 7/25\n",
      "649/649 [==============================] - 47s 73ms/step - loss: 0.4022 - accuracy: 0.8724 - val_loss: 0.4307 - val_accuracy: 0.8538\n",
      "Epoch 8/25\n",
      "649/649 [==============================] - 46s 70ms/step - loss: 0.3669 - accuracy: 0.8835 - val_loss: 0.4038 - val_accuracy: 0.8648\n",
      "Epoch 9/25\n",
      "649/649 [==============================] - 49s 75ms/step - loss: 0.3436 - accuracy: 0.8895 - val_loss: 0.4099 - val_accuracy: 0.8608\n",
      "Epoch 10/25\n",
      "649/649 [==============================] - 47s 72ms/step - loss: 0.3462 - accuracy: 0.8915 - val_loss: 0.3791 - val_accuracy: 0.8755\n",
      "Epoch 11/25\n",
      "649/649 [==============================] - 42s 65ms/step - loss: 0.3096 - accuracy: 0.9021 - val_loss: 0.4074 - val_accuracy: 0.8631\n",
      "Epoch 12/25\n",
      "649/649 [==============================] - 47s 72ms/step - loss: 0.3477 - accuracy: 0.8937 - val_loss: 0.4322 - val_accuracy: 0.8699\n",
      "Epoch 13/25\n",
      "649/649 [==============================] - 44s 68ms/step - loss: 0.2919 - accuracy: 0.9072 - val_loss: 0.4486 - val_accuracy: 0.8523\n",
      "Epoch 14/25\n",
      "649/649 [==============================] - 44s 67ms/step - loss: 0.2806 - accuracy: 0.9110 - val_loss: 0.3961 - val_accuracy: 0.8703\n"
     ]
    }
   ],
   "source": [
    "\n",
    "history = gender_classification_model.fit(X_train,\n",
    "        Y_gender_train,\n",
    "        epochs=25,\n",
    "        batch_size=64,\n",
    "        callbacks=[tf.keras.callbacks.EarlyStopping(monitor='val_loss', patience=4)],\n",
    "        validation_data=(X_test, Y_gender_test))\n",
    "gender_classification_model.save(PICKLES_PATH + \"gender_classification_model.h5\")"
   ]
  },
  {
   "cell_type": "code",
   "execution_count": null,
   "metadata": {},
   "outputs": [
    {
     "data": {
      "text/plain": [
       "Text(0.5, 1.0, 'Loss over epochs')"
      ]
     },
     "execution_count": 15,
     "metadata": {},
     "output_type": "execute_result"
    },
    {
     "data": {
      "image/png": "[encoded data removed]",
      "text/plain": [
       "<Figure size 640x480 with 1 Axes>"
      ]
     },
     "metadata": {},
     "output_type": "display_data"
    }
   ],
   "source": [
    "plt.plot(history.history['loss'], label='loss')\n",
    "plt.plot(history.history['val_loss'], label = 'val_loss')\n",
    "plt.xlabel('Epoch')\n",
    "plt.ylabel('Loss')\n",
    "plt.legend()\n",
    "plt.title(\"Loss over epochs\")"
   ]
  },
  {
   "attachments": {},
   "cell_type": "markdown",
   "metadata": {},
   "source": [
    "The validation loss converges in about 9 epochs. We define convergence as no improvment over 4 epochs."
   ]
  },
  {
   "cell_type": "code",
   "execution_count": 5,
   "metadata": {},
   "outputs": [
    {
     "name": "stderr",
     "output_type": "stream",
     "text": [
      "2023-03-10 15:26:01.319089: I tensorflow/core/platform/cpu_feature_guard.cc:193] This TensorFlow binary is optimized with oneAPI Deep Neural Network Library (oneDNN) to use the following CPU instructions in performance-critical operations:  AVX2 FMA\n",
      "To enable them in other operations, rebuild TensorFlow with the appropriate compiler flags.\n",
      "2023-03-10 15:26:02.254082: I tensorflow/core/common_runtime/gpu/gpu_device.cc:1613] Created device /job:localhost/replica:0/task:0/device:GPU:0 with 79117 MB memory:  -> device: 0, name: NVIDIA A100-SXM4-80GB, pci bus id: 0000:bd:00.0, compute capability: 8.0\n"
     ]
    }
   ],
   "source": [
    "gender_classification_model = load_model(PICKLES_PATH + \"gender_classification_model.h5\")"
   ]
  },
  {
   "cell_type": "code",
   "execution_count": 7,
   "metadata": {},
   "outputs": [
    {
     "name": "stdout",
     "output_type": "stream",
     "text": [
      "325/325 [==============================] - 7s 20ms/step\n"
     ]
    }
   ],
   "source": [
    "y_hat_gender_classification_model = gender_classification_model.predict(X_test)\n",
    "# save to pickle:\n",
    "\n",
    "with open(PICKLES_PATH + \"y_hat_gender_classification_model.pkl\", \"wb\") as f:\n",
    "    pickle.dump(y_hat_gender_classification_model, f)"
   ]
  },
  {
   "attachments": {},
   "cell_type": "markdown",
   "metadata": {},
   "source": [
    "## Age Regression Model:"
   ]
  },
  {
   "cell_type": "code",
   "execution_count": null,
   "metadata": {},
   "outputs": [
    {
     "name": "stdout",
     "output_type": "stream",
     "text": [
      "INFO:tensorflow:Using MirroredStrategy with devices ('/job:localhost/replica:0/task:0/device:GPU:0', '/job:localhost/replica:0/task:0/device:GPU:1', '/job:localhost/replica:0/task:0/device:GPU:2', '/job:localhost/replica:0/task:0/device:GPU:3', '/job:localhost/replica:0/task:0/device:GPU:4', '/job:localhost/replica:0/task:0/device:GPU:5', '/job:localhost/replica:0/task:0/device:GPU:6', '/job:localhost/replica:0/task:0/device:GPU:7')\n",
      "INFO:tensorflow:Reduce to /job:localhost/replica:0/task:0/device:CPU:0 then broadcast to ('/job:localhost/replica:0/task:0/device:CPU:0',).\n",
      "INFO:tensorflow:Reduce to /job:localhost/replica:0/task:0/device:CPU:0 then broadcast to ('/job:localhost/replica:0/task:0/device:CPU:0',).\n",
      "INFO:tensorflow:Reduce to /job:localhost/replica:0/task:0/device:CPU:0 then broadcast to ('/job:localhost/replica:0/task:0/device:CPU:0',).\n",
      "INFO:tensorflow:Reduce to /job:localhost/replica:0/task:0/device:CPU:0 then broadcast to ('/job:localhost/replica:0/task:0/device:CPU:0',).\n",
      "INFO:tensorflow:Reduce to /job:localhost/replica:0/task:0/device:CPU:0 then broadcast to ('/job:localhost/replica:0/task:0/device:CPU:0',).\n",
      "INFO:tensorflow:Reduce to /job:localhost/replica:0/task:0/device:CPU:0 then broadcast to ('/job:localhost/replica:0/task:0/device:CPU:0',).\n"
     ]
    },
    {
     "name": "stderr",
     "output_type": "stream",
     "text": [
      "2023-03-08 22:58:13.236120: I tensorflow/core/platform/cpu_feature_guard.cc:193] This TensorFlow binary is optimized with oneAPI Deep Neural Network Library (oneDNN) to use the following CPU instructions in performance-critical operations:  AVX2 FMA\n",
      "To enable them in other operations, rebuild TensorFlow with the appropriate compiler flags.\n",
      "2023-03-08 22:58:17.391490: I tensorflow/core/common_runtime/gpu/gpu_device.cc:1613] Created device /job:localhost/replica:0/task:0/device:GPU:0 with 79117 MB memory:  -> device: 0, name: NVIDIA A100-SXM4-80GB, pci bus id: 0000:07:00.0, compute capability: 8.0\n",
      "2023-03-08 22:58:17.395399: I tensorflow/core/common_runtime/gpu/gpu_device.cc:1613] Created device /job:localhost/replica:0/task:0/device:GPU:1 with 79117 MB memory:  -> device: 1, name: NVIDIA A100-SXM4-80GB, pci bus id: 0000:0f:00.0, compute capability: 8.0\n",
      "2023-03-08 22:58:17.399014: I tensorflow/core/common_runtime/gpu/gpu_device.cc:1613] Created device /job:localhost/replica:0/task:0/device:GPU:2 with 79117 MB memory:  -> device: 2, name: NVIDIA A100-SXM4-80GB, pci bus id: 0000:47:00.0, compute capability: 8.0\n",
      "2023-03-08 22:58:17.403569: I tensorflow/core/common_runtime/gpu/gpu_device.cc:1613] Created device /job:localhost/replica:0/task:0/device:GPU:3 with 79117 MB memory:  -> device: 3, name: NVIDIA A100-SXM4-80GB, pci bus id: 0000:4e:00.0, compute capability: 8.0\n",
      "2023-03-08 22:58:17.407149: I tensorflow/core/common_runtime/gpu/gpu_device.cc:1613] Created device /job:localhost/replica:0/task:0/device:GPU:4 with 79117 MB memory:  -> device: 4, name: NVIDIA A100-SXM4-80GB, pci bus id: 0000:87:00.0, compute capability: 8.0\n",
      "2023-03-08 22:58:17.410726: I tensorflow/core/common_runtime/gpu/gpu_device.cc:1613] Created device /job:localhost/replica:0/task:0/device:GPU:5 with 79117 MB memory:  -> device: 5, name: NVIDIA A100-SXM4-80GB, pci bus id: 0000:90:00.0, compute capability: 8.0\n",
      "2023-03-08 22:58:17.414288: I tensorflow/core/common_runtime/gpu/gpu_device.cc:1613] Created device /job:localhost/replica:0/task:0/device:GPU:6 with 79117 MB memory:  -> device: 6, name: NVIDIA A100-SXM4-80GB, pci bus id: 0000:b7:00.0, compute capability: 8.0\n",
      "2023-03-08 22:58:17.417983: I tensorflow/core/common_runtime/gpu/gpu_device.cc:1613] Created device /job:localhost/replica:0/task:0/device:GPU:7 with 79117 MB memory:  -> device: 7, name: NVIDIA A100-SXM4-80GB, pci bus id: 0000:bd:00.0, compute capability: 8.0\n"
     ]
    },
    {
     "name": "stdout",
     "output_type": "stream",
     "text": [
      "INFO:tensorflow:Reduce to /job:localhost/replica:0/task:0/device:CPU:0 then broadcast to ('/job:localhost/replica:0/task:0/device:CPU:0',).\n",
      "INFO:tensorflow:Reduce to /job:localhost/replica:0/task:0/device:CPU:0 then broadcast to ('/job:localhost/replica:0/task:0/device:CPU:0',).\n",
      "INFO:tensorflow:Reduce to /job:localhost/replica:0/task:0/device:CPU:0 then broadcast to ('/job:localhost/replica:0/task:0/device:CPU:0',).\n",
      "INFO:tensorflow:Reduce to /job:localhost/replica:0/task:0/device:CPU:0 then broadcast to ('/job:localhost/replica:0/task:0/device:CPU:0',).\n",
      "Model: \"model\"\n",
      "__________________________________________________________________________________________________\n",
      " Layer (type)                   Output Shape         Param #     Connected to                     \n",
      "==================================================================================================\n",
      " input_1 (InputLayer)           [(None, 256, 256, 3  0           []                               \n",
      "                                )]                                                                \n",
      "                                                                                                  \n",
      " conv2d (Conv2D)                (None, 250, 250, 16  2368        ['input_1[0][0]']                \n",
      "                                )                                                                 \n",
      "                                                                                                  \n",
      " batch_normalization (BatchNorm  (None, 250, 250, 16  64         ['conv2d[0][0]']                 \n",
      " alization)                     )                                                                 \n",
      "                                                                                                  \n",
      " conv2d_1 (Conv2D)              (None, 250, 250, 16  2320        ['batch_normalization[0][0]']    \n",
      "                                )                                                                 \n",
      "                                                                                                  \n",
      " batch_normalization_1 (BatchNo  (None, 250, 250, 16  64         ['conv2d_1[0][0]']               \n",
      " rmalization)                   )                                                                 \n",
      "                                                                                                  \n",
      " activation (Activation)        (None, 250, 250, 16  0           ['batch_normalization_1[0][0]']  \n",
      "                                )                                                                 \n",
      "                                                                                                  \n",
      " conv2d_2 (Conv2D)              (None, 250, 250, 16  2320        ['activation[0][0]']             \n",
      "                                )                                                                 \n",
      "                                                                                                  \n",
      " batch_normalization_2 (BatchNo  (None, 250, 250, 16  64         ['conv2d_2[0][0]']               \n",
      " rmalization)                   )                                                                 \n",
      "                                                                                                  \n",
      " add (Add)                      (None, 250, 250, 16  0           ['batch_normalization_2[0][0]',  \n",
      "                                )                                 'batch_normalization[0][0]']    \n",
      "                                                                                                  \n",
      " activation_1 (Activation)      (None, 250, 250, 16  0           ['add[0][0]']                    \n",
      "                                )                                                                 \n",
      "                                                                                                  \n",
      " conv2d_3 (Conv2D)              (None, 250, 250, 16  2320        ['activation_1[0][0]']           \n",
      "                                )                                                                 \n",
      "                                                                                                  \n",
      " batch_normalization_3 (BatchNo  (None, 250, 250, 16  64         ['conv2d_3[0][0]']               \n",
      " rmalization)                   )                                                                 \n",
      "                                                                                                  \n",
      " activation_2 (Activation)      (None, 250, 250, 16  0           ['batch_normalization_3[0][0]']  \n",
      "                                )                                                                 \n",
      "                                                                                                  \n",
      " conv2d_4 (Conv2D)              (None, 250, 250, 16  2320        ['activation_2[0][0]']           \n",
      "                                )                                                                 \n",
      "                                                                                                  \n",
      " batch_normalization_4 (BatchNo  (None, 250, 250, 16  64         ['conv2d_4[0][0]']               \n",
      " rmalization)                   )                                                                 \n",
      "                                                                                                  \n",
      " add_1 (Add)                    (None, 250, 250, 16  0           ['batch_normalization_4[0][0]',  \n",
      "                                )                                 'activation_1[0][0]']           \n",
      "                                                                                                  \n",
      " activation_3 (Activation)      (None, 250, 250, 16  0           ['add_1[0][0]']                  \n",
      "                                )                                                                 \n",
      "                                                                                                  \n",
      " conv2d_6 (Conv2D)              (None, 125, 125, 32  4640        ['activation_3[0][0]']           \n",
      "                                )                                                                 \n",
      "                                                                                                  \n",
      " batch_normalization_5 (BatchNo  (None, 125, 125, 32  128        ['conv2d_6[0][0]']               \n",
      " rmalization)                   )                                                                 \n",
      "                                                                                                  \n",
      " activation_4 (Activation)      (None, 125, 125, 32  0           ['batch_normalization_5[0][0]']  \n",
      "                                )                                                                 \n",
      "                                                                                                  \n",
      " conv2d_7 (Conv2D)              (None, 125, 125, 32  9248        ['activation_4[0][0]']           \n",
      "                                )                                                                 \n",
      "                                                                                                  \n",
      " batch_normalization_6 (BatchNo  (None, 125, 125, 32  128        ['conv2d_7[0][0]']               \n",
      " rmalization)                   )                                                                 \n",
      "                                                                                                  \n",
      " conv2d_5 (Conv2D)              (None, 125, 125, 32  544         ['activation_3[0][0]']           \n",
      "                                )                                                                 \n",
      "                                                                                                  \n",
      " add_2 (Add)                    (None, 125, 125, 32  0           ['batch_normalization_6[0][0]',  \n",
      "                                )                                 'conv2d_5[0][0]']               \n",
      "                                                                                                  \n",
      " activation_5 (Activation)      (None, 125, 125, 32  0           ['add_2[0][0]']                  \n",
      "                                )                                                                 \n",
      "                                                                                                  \n",
      " conv2d_8 (Conv2D)              (None, 125, 125, 32  9248        ['activation_5[0][0]']           \n",
      "                                )                                                                 \n",
      "                                                                                                  \n",
      " batch_normalization_7 (BatchNo  (None, 125, 125, 32  128        ['conv2d_8[0][0]']               \n",
      " rmalization)                   )                                                                 \n",
      "                                                                                                  \n",
      " activation_6 (Activation)      (None, 125, 125, 32  0           ['batch_normalization_7[0][0]']  \n",
      "                                )                                                                 \n",
      "                                                                                                  \n",
      " conv2d_9 (Conv2D)              (None, 125, 125, 32  9248        ['activation_6[0][0]']           \n",
      "                                )                                                                 \n",
      "                                                                                                  \n",
      " batch_normalization_8 (BatchNo  (None, 125, 125, 32  128        ['conv2d_9[0][0]']               \n",
      " rmalization)                   )                                                                 \n",
      "                                                                                                  \n",
      " add_3 (Add)                    (None, 125, 125, 32  0           ['batch_normalization_8[0][0]',  \n",
      "                                )                                 'activation_5[0][0]']           \n",
      "                                                                                                  \n",
      " activation_7 (Activation)      (None, 125, 125, 32  0           ['add_3[0][0]']                  \n",
      "                                )                                                                 \n",
      "                                                                                                  \n",
      " conv2d_11 (Conv2D)             (None, 63, 63, 64)   18496       ['activation_7[0][0]']           \n",
      "                                                                                                  \n",
      " batch_normalization_9 (BatchNo  (None, 63, 63, 64)  256         ['conv2d_11[0][0]']              \n",
      " rmalization)                                                                                     \n",
      "                                                                                                  \n",
      " activation_8 (Activation)      (None, 63, 63, 64)   0           ['batch_normalization_9[0][0]']  \n",
      "                                                                                                  \n",
      " conv2d_12 (Conv2D)             (None, 63, 63, 64)   36928       ['activation_8[0][0]']           \n",
      "                                                                                                  \n",
      " batch_normalization_10 (BatchN  (None, 63, 63, 64)  256         ['conv2d_12[0][0]']              \n",
      " ormalization)                                                                                    \n",
      "                                                                                                  \n",
      " conv2d_10 (Conv2D)             (None, 63, 63, 64)   2112        ['activation_7[0][0]']           \n",
      "                                                                                                  \n",
      " add_4 (Add)                    (None, 63, 63, 64)   0           ['batch_normalization_10[0][0]', \n",
      "                                                                  'conv2d_10[0][0]']              \n",
      "                                                                                                  \n",
      " activation_9 (Activation)      (None, 63, 63, 64)   0           ['add_4[0][0]']                  \n",
      "                                                                                                  \n",
      " conv2d_13 (Conv2D)             (None, 63, 63, 64)   36928       ['activation_9[0][0]']           \n",
      "                                                                                                  \n",
      " batch_normalization_11 (BatchN  (None, 63, 63, 64)  256         ['conv2d_13[0][0]']              \n",
      " ormalization)                                                                                    \n",
      "                                                                                                  \n",
      " activation_10 (Activation)     (None, 63, 63, 64)   0           ['batch_normalization_11[0][0]'] \n",
      "                                                                                                  \n",
      " conv2d_14 (Conv2D)             (None, 63, 63, 64)   36928       ['activation_10[0][0]']          \n",
      "                                                                                                  \n",
      " batch_normalization_12 (BatchN  (None, 63, 63, 64)  256         ['conv2d_14[0][0]']              \n",
      " ormalization)                                                                                    \n",
      "                                                                                                  \n",
      " add_5 (Add)                    (None, 63, 63, 64)   0           ['batch_normalization_12[0][0]', \n",
      "                                                                  'activation_9[0][0]']           \n",
      "                                                                                                  \n",
      " activation_11 (Activation)     (None, 63, 63, 64)   0           ['add_5[0][0]']                  \n",
      "                                                                                                  \n",
      " max_pooling2d (MaxPooling2D)   (None, 31, 31, 64)   0           ['activation_11[0][0]']          \n",
      "                                                                                                  \n",
      " flatten (Flatten)              (None, 61504)        0           ['max_pooling2d[0][0]']          \n",
      "                                                                                                  \n",
      " dropout (Dropout)              (None, 61504)        0           ['flatten[0][0]']                \n",
      "                                                                                                  \n",
      " dense (Dense)                  (None, 1)            61505       ['dropout[0][0]']                \n",
      "                                                                                                  \n",
      "==================================================================================================\n",
      "Total params: 239,329\n",
      "Trainable params: 238,401\n",
      "Non-trainable params: 928\n",
      "__________________________________________________________________________________________________\n"
     ]
    }
   ],
   "source": [
    "strategy = tf.distribute.MirroredStrategy(\n",
    "    devices=[\"/gpu:0\", \"/gpu:1\", \"/gpu:2\", \"/gpu:3\", \"/gpu:4\", \"/gpu:5\", \"/gpu:6\", \"/gpu:7\"]\n",
    ")\n",
    "with strategy.scope():\n",
    "\n",
    "    input = tf.keras.Input(shape=(256, 256, 3))\n",
    "\n",
    "    x = tf.keras.layers.Conv2D(16, (7, 7), activation='relu', kernel_regularizer=tf.keras.regularizers.l2(0.001))(input)\n",
    "    x = tf.keras.layers.BatchNormalization()(x)\n",
    "\n",
    "    # resnet block\n",
    "    x = resnet_block(x, 16)\n",
    "    x = resnet_block(x, 16)\n",
    "    x = resnet_block(x, 32, 2)\n",
    "    x = resnet_block(x, 32)\n",
    "    x = resnet_block(x, 64, 2)\n",
    "    x = resnet_block(x, 64)\n",
    "\n",
    "    x = tf.keras.layers.MaxPooling2D((2, 2))(x)\n",
    "    dense = tf.keras.layers.Flatten()(x)\n",
    "    dense = tf.keras.layers.Dropout(0.3)(dense)\n",
    "    output = tf.keras.layers.Dense(1, activation='linear')(dense)\n",
    "\n",
    "    age_regression_model = tf.keras.Model(inputs=input, outputs=output)\n",
    "\n",
    "    age_regression_model.compile(optimizer='adam', loss='mse')\n",
    "\n",
    "    age_regression_model.summary()"
   ]
  },
  {
   "cell_type": "code",
   "execution_count": null,
   "metadata": {},
   "outputs": [
    {
     "name": "stdout",
     "output_type": "stream",
     "text": [
      "Epoch 1/25\n",
      "INFO:tensorflow:batch_all_reduce: 58 all-reduces with algorithm = nccl, num_packs = 1\n",
      "INFO:tensorflow:batch_all_reduce: 58 all-reduces with algorithm = nccl, num_packs = 1\n"
     ]
    },
    {
     "name": "stderr",
     "output_type": "stream",
     "text": [
      "2023-03-08 22:59:38.957140: I tensorflow/compiler/xla/stream_executor/cuda/cuda_dnn.cc:428] Loaded cuDNN version 8204\n",
      "2023-03-08 22:59:39.997172: I tensorflow/compiler/xla/stream_executor/cuda/cuda_dnn.cc:428] Loaded cuDNN version 8204\n",
      "2023-03-08 22:59:41.226403: I tensorflow/compiler/xla/stream_executor/cuda/cuda_dnn.cc:428] Loaded cuDNN version 8204\n",
      "2023-03-08 22:59:42.892046: I tensorflow/compiler/xla/stream_executor/cuda/cuda_dnn.cc:428] Loaded cuDNN version 8204\n",
      "2023-03-08 22:59:44.341097: I tensorflow/compiler/xla/stream_executor/cuda/cuda_dnn.cc:428] Loaded cuDNN version 8204\n",
      "2023-03-08 22:59:45.728364: I tensorflow/compiler/xla/stream_executor/cuda/cuda_dnn.cc:428] Loaded cuDNN version 8204\n",
      "2023-03-08 22:59:47.125111: I tensorflow/compiler/xla/stream_executor/cuda/cuda_dnn.cc:428] Loaded cuDNN version 8204\n",
      "2023-03-08 22:59:48.332212: I tensorflow/compiler/xla/stream_executor/cuda/cuda_dnn.cc:428] Loaded cuDNN version 8204\n",
      "2023-03-08 22:59:50.389206: I tensorflow/compiler/xla/stream_executor/cuda/cuda_blas.cc:630] TensorFloat-32 will be used for the matrix multiplication. This will only be logged once.\n",
      "2023-03-08 22:59:58.276412: I tensorflow/compiler/xla/service/service.cc:173] XLA service 0x7f523f4174a0 initialized for platform CUDA (this does not guarantee that XLA will be used). Devices:\n",
      "2023-03-08 22:59:58.276448: I tensorflow/compiler/xla/service/service.cc:181]   StreamExecutor device (0): NVIDIA A100-SXM4-80GB, Compute Capability 8.0\n",
      "2023-03-08 22:59:58.276454: I tensorflow/compiler/xla/service/service.cc:181]   StreamExecutor device (1): NVIDIA A100-SXM4-80GB, Compute Capability 8.0\n",
      "2023-03-08 22:59:58.276458: I tensorflow/compiler/xla/service/service.cc:181]   StreamExecutor device (2): NVIDIA A100-SXM4-80GB, Compute Capability 8.0\n",
      "2023-03-08 22:59:58.276462: I tensorflow/compiler/xla/service/service.cc:181]   StreamExecutor device (3): NVIDIA A100-SXM4-80GB, Compute Capability 8.0\n",
      "2023-03-08 22:59:58.276466: I tensorflow/compiler/xla/service/service.cc:181]   StreamExecutor device (4): NVIDIA A100-SXM4-80GB, Compute Capability 8.0\n",
      "2023-03-08 22:59:58.276470: I tensorflow/compiler/xla/service/service.cc:181]   StreamExecutor device (5): NVIDIA A100-SXM4-80GB, Compute Capability 8.0\n",
      "2023-03-08 22:59:58.276474: I tensorflow/compiler/xla/service/service.cc:181]   StreamExecutor device (6): NVIDIA A100-SXM4-80GB, Compute Capability 8.0\n",
      "2023-03-08 22:59:58.276478: I tensorflow/compiler/xla/service/service.cc:181]   StreamExecutor device (7): NVIDIA A100-SXM4-80GB, Compute Capability 8.0\n",
      "2023-03-08 22:59:58.283090: I tensorflow/compiler/mlir/tensorflow/utils/dump_mlir_util.cc:268] disabling MLIR crash reproducer, set env var `MLIR_CRASH_REPRODUCER_DIRECTORY` to enable.\n",
      "2023-03-08 22:59:58.398358: I tensorflow/compiler/jit/xla_compilation_cache.cc:477] Compiled cluster using XLA!  This line is logged at most once for the lifetime of the process.\n"
     ]
    },
    {
     "name": "stdout",
     "output_type": "stream",
     "text": [
      "649/649 [==============================] - 104s 71ms/step - loss: 241.1260 - val_loss: 460.7217\n",
      "Epoch 2/25\n",
      "649/649 [==============================] - 29s 45ms/step - loss: 189.2840 - val_loss: 332.9865\n",
      "Epoch 3/25\n",
      "649/649 [==============================] - 29s 45ms/step - loss: 169.0851 - val_loss: 179.4767\n",
      "Epoch 4/25\n",
      "649/649 [==============================] - 29s 44ms/step - loss: 156.1411 - val_loss: 191.0158\n",
      "Epoch 5/25\n",
      "649/649 [==============================] - 30s 45ms/step - loss: 148.0820 - val_loss: 153.7239\n",
      "Epoch 6/25\n",
      "649/649 [==============================] - 31s 47ms/step - loss: 137.8512 - val_loss: 188.7496\n",
      "Epoch 7/25\n",
      "649/649 [==============================] - 33s 51ms/step - loss: 131.5545 - val_loss: 170.7551\n",
      "Epoch 8/25\n",
      "649/649 [==============================] - 31s 47ms/step - loss: 124.6967 - val_loss: 150.6117\n",
      "Epoch 9/25\n",
      "649/649 [==============================] - 34s 52ms/step - loss: 118.3035 - val_loss: 167.5344\n",
      "Epoch 10/25\n",
      "649/649 [==============================] - 33s 50ms/step - loss: 113.0171 - val_loss: 148.1710\n",
      "Epoch 11/25\n",
      "649/649 [==============================] - 33s 51ms/step - loss: 106.6679 - val_loss: 158.4089\n",
      "Epoch 12/25\n",
      "649/649 [==============================] - 30s 46ms/step - loss: 100.2320 - val_loss: 150.7005\n",
      "Epoch 13/25\n",
      "649/649 [==============================] - 33s 50ms/step - loss: 95.8825 - val_loss: 149.1515\n",
      "Epoch 14/25\n",
      "649/649 [==============================] - 33s 52ms/step - loss: 91.8367 - val_loss: 150.7497\n"
     ]
    }
   ],
   "source": [
    "history = age_regression_model.fit(X_train,\n",
    "        Y_age_train,\n",
    "        epochs=25,\n",
    "        batch_size=64,\n",
    "        validation_data=(X_test, Y_age_test),\n",
    "        callbacks=[tf.keras.callbacks.EarlyStopping(monitor='val_loss', patience=4, restore_best_weights=True)])\n",
    "age_regression_model.save(PICKLES_PATH + \"age_regression_model.h5\")"
   ]
  },
  {
   "cell_type": "code",
   "execution_count": null,
   "metadata": {},
   "outputs": [
    {
     "data": {
      "text/plain": [
       "Text(0.5, 1.0, 'Loss over epochs')"
      ]
     },
     "execution_count": 15,
     "metadata": {},
     "output_type": "execute_result"
    },
    {
     "data": {
      "image/png": "[encoded data removed]",
      "text/plain": [
       "<Figure size 640x480 with 1 Axes>"
      ]
     },
     "metadata": {},
     "output_type": "display_data"
    }
   ],
   "source": [
    "plt.plot(history.history['loss'], label='loss')\n",
    "plt.plot(history.history['val_loss'], label = 'val_loss')\n",
    "plt.xlabel('Epoch')\n",
    "plt.ylabel('Loss')\n",
    "plt.legend()\n",
    "plt.title(\"Loss over epochs\")"
   ]
  },
  {
   "attachments": {},
   "cell_type": "markdown",
   "metadata": {},
   "source": [
    "The validation loss converges in about 12 epochs. We define convergence as no improvment over 4 epochs."
   ]
  },
  {
   "cell_type": "markdown",
   "metadata": {},
   "source": []
  },
  {
   "cell_type": "code",
   "execution_count": 8,
   "metadata": {},
   "outputs": [
    {
     "name": "stdout",
     "output_type": "stream",
     "text": [
      "325/325 [==============================] - 7s 17ms/step\n"
     ]
    }
   ],
   "source": [
    "age_regression_model = load_model(PICKLES_PATH + \"age_regression_model.h5\")\n",
    "y_hat_age_regression_model = age_regression_model.predict(X_test)\n",
    "# save to pickle:\n",
    "\n",
    "with open(PICKLES_PATH + \"y_hat_age_regression_model.pkl\", \"wb\") as f:\n",
    "    pickle.dump(y_hat_age_regression_model, f)"
   ]
  },
  {
   "attachments": {},
   "cell_type": "markdown",
   "metadata": {},
   "source": [
    "## Multi Task Model:"
   ]
  },
  {
   "cell_type": "code",
   "execution_count": null,
   "metadata": {},
   "outputs": [
    {
     "name": "stdout",
     "output_type": "stream",
     "text": [
      "INFO:tensorflow:Using MirroredStrategy with devices ('/job:localhost/replica:0/task:0/device:GPU:0', '/job:localhost/replica:0/task:0/device:GPU:1', '/job:localhost/replica:0/task:0/device:GPU:2', '/job:localhost/replica:0/task:0/device:GPU:3', '/job:localhost/replica:0/task:0/device:GPU:4', '/job:localhost/replica:0/task:0/device:GPU:5', '/job:localhost/replica:0/task:0/device:GPU:6', '/job:localhost/replica:0/task:0/device:GPU:7')\n",
      "INFO:tensorflow:Reduce to /job:localhost/replica:0/task:0/device:CPU:0 then broadcast to ('/job:localhost/replica:0/task:0/device:CPU:0',).\n"
     ]
    },
    {
     "name": "stderr",
     "output_type": "stream",
     "text": [
      "2023-03-08 22:46:23.876370: I tensorflow/core/platform/cpu_feature_guard.cc:193] This TensorFlow binary is optimized with oneAPI Deep Neural Network Library (oneDNN) to use the following CPU instructions in performance-critical operations:  AVX2 FMA\n",
      "To enable them in other operations, rebuild TensorFlow with the appropriate compiler flags.\n",
      "2023-03-08 22:46:28.029394: I tensorflow/core/common_runtime/gpu/gpu_device.cc:1613] Created device /job:localhost/replica:0/task:0/device:GPU:0 with 79117 MB memory:  -> device: 0, name: NVIDIA A100-SXM4-80GB, pci bus id: 0000:07:00.0, compute capability: 8.0\n",
      "2023-03-08 22:46:28.033229: I tensorflow/core/common_runtime/gpu/gpu_device.cc:1613] Created device /job:localhost/replica:0/task:0/device:GPU:1 with 79117 MB memory:  -> device: 1, name: NVIDIA A100-SXM4-80GB, pci bus id: 0000:0f:00.0, compute capability: 8.0\n",
      "2023-03-08 22:46:28.036820: I tensorflow/core/common_runtime/gpu/gpu_device.cc:1613] Created device /job:localhost/replica:0/task:0/device:GPU:2 with 79117 MB memory:  -> device: 2, name: NVIDIA A100-SXM4-80GB, pci bus id: 0000:47:00.0, compute capability: 8.0\n",
      "2023-03-08 22:46:28.040481: I tensorflow/core/common_runtime/gpu/gpu_device.cc:1613] Created device /job:localhost/replica:0/task:0/device:GPU:3 with 79117 MB memory:  -> device: 3, name: NVIDIA A100-SXM4-80GB, pci bus id: 0000:4e:00.0, compute capability: 8.0\n",
      "2023-03-08 22:46:28.044084: I tensorflow/core/common_runtime/gpu/gpu_device.cc:1613] Created device /job:localhost/replica:0/task:0/device:GPU:4 with 79117 MB memory:  -> device: 4, name: NVIDIA A100-SXM4-80GB, pci bus id: 0000:87:00.0, compute capability: 8.0\n",
      "2023-03-08 22:46:28.047686: I tensorflow/core/common_runtime/gpu/gpu_device.cc:1613] Created device /job:localhost/replica:0/task:0/device:GPU:5 with 79117 MB memory:  -> device: 5, name: NVIDIA A100-SXM4-80GB, pci bus id: 0000:90:00.0, compute capability: 8.0\n",
      "2023-03-08 22:46:28.051297: I tensorflow/core/common_runtime/gpu/gpu_device.cc:1613] Created device /job:localhost/replica:0/task:0/device:GPU:6 with 79117 MB memory:  -> device: 6, name: NVIDIA A100-SXM4-80GB, pci bus id: 0000:b7:00.0, compute capability: 8.0\n",
      "2023-03-08 22:46:28.054892: I tensorflow/core/common_runtime/gpu/gpu_device.cc:1613] Created device /job:localhost/replica:0/task:0/device:GPU:7 with 79117 MB memory:  -> device: 7, name: NVIDIA A100-SXM4-80GB, pci bus id: 0000:bd:00.0, compute capability: 8.0\n"
     ]
    },
    {
     "name": "stdout",
     "output_type": "stream",
     "text": [
      "INFO:tensorflow:Reduce to /job:localhost/replica:0/task:0/device:CPU:0 then broadcast to ('/job:localhost/replica:0/task:0/device:CPU:0',).\n",
      "INFO:tensorflow:Reduce to /job:localhost/replica:0/task:0/device:CPU:0 then broadcast to ('/job:localhost/replica:0/task:0/device:CPU:0',).\n",
      "INFO:tensorflow:Reduce to /job:localhost/replica:0/task:0/device:CPU:0 then broadcast to ('/job:localhost/replica:0/task:0/device:CPU:0',).\n",
      "INFO:tensorflow:Reduce to /job:localhost/replica:0/task:0/device:CPU:0 then broadcast to ('/job:localhost/replica:0/task:0/device:CPU:0',).\n",
      "INFO:tensorflow:Reduce to /job:localhost/replica:0/task:0/device:CPU:0 then broadcast to ('/job:localhost/replica:0/task:0/device:CPU:0',).\n",
      "INFO:tensorflow:Reduce to /job:localhost/replica:0/task:0/device:CPU:0 then broadcast to ('/job:localhost/replica:0/task:0/device:CPU:0',).\n",
      "INFO:tensorflow:Reduce to /job:localhost/replica:0/task:0/device:CPU:0 then broadcast to ('/job:localhost/replica:0/task:0/device:CPU:0',).\n",
      "INFO:tensorflow:Reduce to /job:localhost/replica:0/task:0/device:CPU:0 then broadcast to ('/job:localhost/replica:0/task:0/device:CPU:0',).\n",
      "INFO:tensorflow:Reduce to /job:localhost/replica:0/task:0/device:CPU:0 then broadcast to ('/job:localhost/replica:0/task:0/device:CPU:0',).\n",
      "Model: \"model\"\n",
      "__________________________________________________________________________________________________\n",
      " Layer (type)                   Output Shape         Param #     Connected to                     \n",
      "==================================================================================================\n",
      " input_1 (InputLayer)           [(None, 256, 256, 3  0           []                               \n",
      "                                )]                                                                \n",
      "                                                                                                  \n",
      " conv2d (Conv2D)                (None, 250, 250, 16  2368        ['input_1[0][0]']                \n",
      "                                )                                                                 \n",
      "                                                                                                  \n",
      " batch_normalization (BatchNorm  (None, 250, 250, 16  64         ['conv2d[0][0]']                 \n",
      " alization)                     )                                                                 \n",
      "                                                                                                  \n",
      " conv2d_1 (Conv2D)              (None, 250, 250, 16  2320        ['batch_normalization[0][0]']    \n",
      "                                )                                                                 \n",
      "                                                                                                  \n",
      " batch_normalization_1 (BatchNo  (None, 250, 250, 16  64         ['conv2d_1[0][0]']               \n",
      " rmalization)                   )                                                                 \n",
      "                                                                                                  \n",
      " activation (Activation)        (None, 250, 250, 16  0           ['batch_normalization_1[0][0]']  \n",
      "                                )                                                                 \n",
      "                                                                                                  \n",
      " conv2d_2 (Conv2D)              (None, 250, 250, 16  2320        ['activation[0][0]']             \n",
      "                                )                                                                 \n",
      "                                                                                                  \n",
      " batch_normalization_2 (BatchNo  (None, 250, 250, 16  64         ['conv2d_2[0][0]']               \n",
      " rmalization)                   )                                                                 \n",
      "                                                                                                  \n",
      " add (Add)                      (None, 250, 250, 16  0           ['batch_normalization_2[0][0]',  \n",
      "                                )                                 'batch_normalization[0][0]']    \n",
      "                                                                                                  \n",
      " activation_1 (Activation)      (None, 250, 250, 16  0           ['add[0][0]']                    \n",
      "                                )                                                                 \n",
      "                                                                                                  \n",
      " conv2d_3 (Conv2D)              (None, 250, 250, 16  2320        ['activation_1[0][0]']           \n",
      "                                )                                                                 \n",
      "                                                                                                  \n",
      " batch_normalization_3 (BatchNo  (None, 250, 250, 16  64         ['conv2d_3[0][0]']               \n",
      " rmalization)                   )                                                                 \n",
      "                                                                                                  \n",
      " activation_2 (Activation)      (None, 250, 250, 16  0           ['batch_normalization_3[0][0]']  \n",
      "                                )                                                                 \n",
      "                                                                                                  \n",
      " conv2d_4 (Conv2D)              (None, 250, 250, 16  2320        ['activation_2[0][0]']           \n",
      "                                )                                                                 \n",
      "                                                                                                  \n",
      " batch_normalization_4 (BatchNo  (None, 250, 250, 16  64         ['conv2d_4[0][0]']               \n",
      " rmalization)                   )                                                                 \n",
      "                                                                                                  \n",
      " add_1 (Add)                    (None, 250, 250, 16  0           ['batch_normalization_4[0][0]',  \n",
      "                                )                                 'activation_1[0][0]']           \n",
      "                                                                                                  \n",
      " activation_3 (Activation)      (None, 250, 250, 16  0           ['add_1[0][0]']                  \n",
      "                                )                                                                 \n",
      "                                                                                                  \n",
      " conv2d_6 (Conv2D)              (None, 125, 125, 32  4640        ['activation_3[0][0]']           \n",
      "                                )                                                                 \n",
      "                                                                                                  \n",
      " batch_normalization_5 (BatchNo  (None, 125, 125, 32  128        ['conv2d_6[0][0]']               \n",
      " rmalization)                   )                                                                 \n",
      "                                                                                                  \n",
      " activation_4 (Activation)      (None, 125, 125, 32  0           ['batch_normalization_5[0][0]']  \n",
      "                                )                                                                 \n",
      "                                                                                                  \n",
      " conv2d_7 (Conv2D)              (None, 125, 125, 32  9248        ['activation_4[0][0]']           \n",
      "                                )                                                                 \n",
      "                                                                                                  \n",
      " batch_normalization_6 (BatchNo  (None, 125, 125, 32  128        ['conv2d_7[0][0]']               \n",
      " rmalization)                   )                                                                 \n",
      "                                                                                                  \n",
      " conv2d_5 (Conv2D)              (None, 125, 125, 32  544         ['activation_3[0][0]']           \n",
      "                                )                                                                 \n",
      "                                                                                                  \n",
      " add_2 (Add)                    (None, 125, 125, 32  0           ['batch_normalization_6[0][0]',  \n",
      "                                )                                 'conv2d_5[0][0]']               \n",
      "                                                                                                  \n",
      " activation_5 (Activation)      (None, 125, 125, 32  0           ['add_2[0][0]']                  \n",
      "                                )                                                                 \n",
      "                                                                                                  \n",
      " conv2d_8 (Conv2D)              (None, 125, 125, 32  9248        ['activation_5[0][0]']           \n",
      "                                )                                                                 \n",
      "                                                                                                  \n",
      " batch_normalization_7 (BatchNo  (None, 125, 125, 32  128        ['conv2d_8[0][0]']               \n",
      " rmalization)                   )                                                                 \n",
      "                                                                                                  \n",
      " activation_6 (Activation)      (None, 125, 125, 32  0           ['batch_normalization_7[0][0]']  \n",
      "                                )                                                                 \n",
      "                                                                                                  \n",
      " conv2d_9 (Conv2D)              (None, 125, 125, 32  9248        ['activation_6[0][0]']           \n",
      "                                )                                                                 \n",
      "                                                                                                  \n",
      " batch_normalization_8 (BatchNo  (None, 125, 125, 32  128        ['conv2d_9[0][0]']               \n",
      " rmalization)                   )                                                                 \n",
      "                                                                                                  \n",
      " add_3 (Add)                    (None, 125, 125, 32  0           ['batch_normalization_8[0][0]',  \n",
      "                                )                                 'activation_5[0][0]']           \n",
      "                                                                                                  \n",
      " activation_7 (Activation)      (None, 125, 125, 32  0           ['add_3[0][0]']                  \n",
      "                                )                                                                 \n",
      "                                                                                                  \n",
      " conv2d_11 (Conv2D)             (None, 63, 63, 64)   18496       ['activation_7[0][0]']           \n",
      "                                                                                                  \n",
      " batch_normalization_9 (BatchNo  (None, 63, 63, 64)  256         ['conv2d_11[0][0]']              \n",
      " rmalization)                                                                                     \n",
      "                                                                                                  \n",
      " activation_8 (Activation)      (None, 63, 63, 64)   0           ['batch_normalization_9[0][0]']  \n",
      "                                                                                                  \n",
      " conv2d_12 (Conv2D)             (None, 63, 63, 64)   36928       ['activation_8[0][0]']           \n",
      "                                                                                                  \n",
      " batch_normalization_10 (BatchN  (None, 63, 63, 64)  256         ['conv2d_12[0][0]']              \n",
      " ormalization)                                                                                    \n",
      "                                                                                                  \n",
      " conv2d_10 (Conv2D)             (None, 63, 63, 64)   2112        ['activation_7[0][0]']           \n",
      "                                                                                                  \n",
      " add_4 (Add)                    (None, 63, 63, 64)   0           ['batch_normalization_10[0][0]', \n",
      "                                                                  'conv2d_10[0][0]']              \n",
      "                                                                                                  \n",
      " activation_9 (Activation)      (None, 63, 63, 64)   0           ['add_4[0][0]']                  \n",
      "                                                                                                  \n",
      " conv2d_13 (Conv2D)             (None, 63, 63, 64)   36928       ['activation_9[0][0]']           \n",
      "                                                                                                  \n",
      " batch_normalization_11 (BatchN  (None, 63, 63, 64)  256         ['conv2d_13[0][0]']              \n",
      " ormalization)                                                                                    \n",
      "                                                                                                  \n",
      " activation_10 (Activation)     (None, 63, 63, 64)   0           ['batch_normalization_11[0][0]'] \n",
      "                                                                                                  \n",
      " conv2d_14 (Conv2D)             (None, 63, 63, 64)   36928       ['activation_10[0][0]']          \n",
      "                                                                                                  \n",
      " batch_normalization_12 (BatchN  (None, 63, 63, 64)  256         ['conv2d_14[0][0]']              \n",
      " ormalization)                                                                                    \n",
      "                                                                                                  \n",
      " add_5 (Add)                    (None, 63, 63, 64)   0           ['batch_normalization_12[0][0]', \n",
      "                                                                  'activation_9[0][0]']           \n",
      "                                                                                                  \n",
      " activation_11 (Activation)     (None, 63, 63, 64)   0           ['add_5[0][0]']                  \n",
      "                                                                                                  \n",
      " max_pooling2d (MaxPooling2D)   (None, 31, 31, 64)   0           ['activation_11[0][0]']          \n",
      "                                                                                                  \n",
      " flatten (Flatten)              (None, 61504)        0           ['max_pooling2d[0][0]']          \n",
      "                                                                                                  \n",
      " dropout (Dropout)              (None, 61504)        0           ['flatten[0][0]']                \n",
      "                                                                                                  \n",
      " dense (Dense)                  (None, 1)            61505       ['dropout[0][0]']                \n",
      "                                                                                                  \n",
      " dense_1 (Dense)                (None, 1)            61505       ['dropout[0][0]']                \n",
      "                                                                                                  \n",
      "==================================================================================================\n",
      "Total params: 300,834\n",
      "Trainable params: 299,906\n",
      "Non-trainable params: 928\n",
      "__________________________________________________________________________________________________\n"
     ]
    }
   ],
   "source": [
    "strategy = tf.distribute.MirroredStrategy(\n",
    "    devices=[\"/gpu:0\", \"/gpu:1\", \"/gpu:2\", \"/gpu:3\", \"/gpu:4\", \"/gpu:5\", \"/gpu:6\", \"/gpu:7\"]\n",
    ")\n",
    "\n",
    "with strategy.scope():\n",
    "\n",
    "    input = tf.keras.Input(shape=(256, 256, 3))\n",
    "\n",
    "    x = tf.keras.layers.Conv2D(16, (7, 7), activation='relu', kernel_regularizer=tf.keras.regularizers.l2(0.001))(input)\n",
    "    x = tf.keras.layers.BatchNormalization()(x)\n",
    "\n",
    "    # resnet block\n",
    "    x = resnet_block(x, 16)\n",
    "    x = resnet_block(x, 16)\n",
    "    x = resnet_block(x, 32, 2)\n",
    "    x = resnet_block(x, 32)\n",
    "    x = resnet_block(x, 64, 2)\n",
    "    x = resnet_block(x, 64)\n",
    "\n",
    "    x = tf.keras.layers.MaxPooling2D((2, 2))(x)\n",
    "    dense = tf.keras.layers.Flatten()(x)\n",
    "    # more dropout\n",
    "    dense = tf.keras.layers.Dropout(0.5)(dense)\n",
    "\n",
    "    age_dense = tf.keras.layers.Dense(1, activation='linear')(dense)\n",
    "    gender_dense = tf.keras.layers.Dense(1, activation='sigmoid', )(dense)\n",
    "\n",
    "    multi_task_model = Model(inputs=[input], outputs=[age_dense, gender_dense])\n",
    "\n",
    "    multi_task_model.compile(optimizer='adam', loss=['mse', 'binary_crossentropy'], loss_weights=[0.003, 0.997]) # we estimated these weights by running the model a few times and looking at the proportion between the ending validation losses\n",
    "\n",
    "    multi_task_model.summary()"
   ]
  },
  {
   "cell_type": "code",
   "execution_count": null,
   "metadata": {},
   "outputs": [
    {
     "name": "stdout",
     "output_type": "stream",
     "text": [
      "Epoch 1/25\n",
      "INFO:tensorflow:batch_all_reduce: 60 all-reduces with algorithm = nccl, num_packs = 1\n",
      "INFO:tensorflow:batch_all_reduce: 60 all-reduces with algorithm = nccl, num_packs = 1\n"
     ]
    },
    {
     "name": "stderr",
     "output_type": "stream",
     "text": [
      "2023-03-08 22:47:56.970162: I tensorflow/compiler/xla/stream_executor/cuda/cuda_dnn.cc:428] Loaded cuDNN version 8204\n",
      "2023-03-08 22:47:58.081353: I tensorflow/compiler/xla/stream_executor/cuda/cuda_dnn.cc:428] Loaded cuDNN version 8204\n",
      "2023-03-08 22:47:59.326546: I tensorflow/compiler/xla/stream_executor/cuda/cuda_dnn.cc:428] Loaded cuDNN version 8204\n",
      "2023-03-08 22:48:00.947826: I tensorflow/compiler/xla/stream_executor/cuda/cuda_dnn.cc:428] Loaded cuDNN version 8204\n",
      "2023-03-08 22:48:02.363153: I tensorflow/compiler/xla/stream_executor/cuda/cuda_dnn.cc:428] Loaded cuDNN version 8204\n",
      "2023-03-08 22:48:03.785330: I tensorflow/compiler/xla/stream_executor/cuda/cuda_dnn.cc:428] Loaded cuDNN version 8204\n",
      "2023-03-08 22:48:05.218432: I tensorflow/compiler/xla/stream_executor/cuda/cuda_dnn.cc:428] Loaded cuDNN version 8204\n",
      "2023-03-08 22:48:06.628340: I tensorflow/compiler/xla/stream_executor/cuda/cuda_dnn.cc:428] Loaded cuDNN version 8204\n",
      "2023-03-08 22:48:09.597975: I tensorflow/compiler/xla/stream_executor/cuda/cuda_blas.cc:630] TensorFloat-32 will be used for the matrix multiplication. This will only be logged once.\n",
      "2023-03-08 22:48:17.388150: I tensorflow/compiler/xla/service/service.cc:173] XLA service 0x7f4c68be1a80 initialized for platform CUDA (this does not guarantee that XLA will be used). Devices:\n",
      "2023-03-08 22:48:17.388198: I tensorflow/compiler/xla/service/service.cc:181]   StreamExecutor device (0): NVIDIA A100-SXM4-80GB, Compute Capability 8.0\n",
      "2023-03-08 22:48:17.388205: I tensorflow/compiler/xla/service/service.cc:181]   StreamExecutor device (1): NVIDIA A100-SXM4-80GB, Compute Capability 8.0\n",
      "2023-03-08 22:48:17.388209: I tensorflow/compiler/xla/service/service.cc:181]   StreamExecutor device (2): NVIDIA A100-SXM4-80GB, Compute Capability 8.0\n",
      "2023-03-08 22:48:17.388214: I tensorflow/compiler/xla/service/service.cc:181]   StreamExecutor device (3): NVIDIA A100-SXM4-80GB, Compute Capability 8.0\n",
      "2023-03-08 22:48:17.388218: I tensorflow/compiler/xla/service/service.cc:181]   StreamExecutor device (4): NVIDIA A100-SXM4-80GB, Compute Capability 8.0\n",
      "2023-03-08 22:48:17.388223: I tensorflow/compiler/xla/service/service.cc:181]   StreamExecutor device (5): NVIDIA A100-SXM4-80GB, Compute Capability 8.0\n",
      "2023-03-08 22:48:17.388227: I tensorflow/compiler/xla/service/service.cc:181]   StreamExecutor device (6): NVIDIA A100-SXM4-80GB, Compute Capability 8.0\n",
      "2023-03-08 22:48:17.388231: I tensorflow/compiler/xla/service/service.cc:181]   StreamExecutor device (7): NVIDIA A100-SXM4-80GB, Compute Capability 8.0\n",
      "2023-03-08 22:48:17.731975: I tensorflow/compiler/mlir/tensorflow/utils/dump_mlir_util.cc:268] disabling MLIR crash reproducer, set env var `MLIR_CRASH_REPRODUCER_DIRECTORY` to enable.\n",
      "2023-03-08 22:48:19.037145: I tensorflow/compiler/jit/xla_compilation_cache.cc:477] Compiled cluster using XLA!  This line is logged at most once for the lifetime of the process.\n"
     ]
    },
    {
     "name": "stdout",
     "output_type": "stream",
     "text": [
      "649/649 [==============================] - 117s 83ms/step - loss: 1.8198 - dense_loss: 284.9066 - dense_1_loss: 0.8444 - val_loss: 1.2001 - val_dense_loss: 229.0342 - val_dense_1_loss: 0.4248\n",
      "Epoch 2/25\n",
      "649/649 [==============================] - 35s 54ms/step - loss: 1.1775 - dense_loss: 215.8962 - dense_1_loss: 0.4928 - val_loss: 1.0403 - val_dense_loss: 211.2932 - val_dense_1_loss: 0.4187\n",
      "Epoch 3/25\n",
      "649/649 [==============================] - 33s 50ms/step - loss: 0.9492 - dense_loss: 194.1459 - dense_1_loss: 0.3983 - val_loss: 0.8725 - val_dense_loss: 194.6790 - val_dense_1_loss: 0.3496\n",
      "Epoch 4/25\n",
      "649/649 [==============================] - 33s 51ms/step - loss: 0.8516 - dense_loss: 184.5024 - dense_1_loss: 0.3666 - val_loss: 0.8945 - val_dense_loss: 193.6483 - val_dense_1_loss: 0.4047\n",
      "Epoch 5/25\n",
      "649/649 [==============================] - 34s 53ms/step - loss: 0.7999 - dense_loss: 178.0267 - dense_1_loss: 0.3492 - val_loss: 0.7875 - val_dense_loss: 185.0467 - val_dense_1_loss: 0.3291\n",
      "Epoch 6/25\n",
      "649/649 [==============================] - 34s 53ms/step - loss: 0.7606 - dense_loss: 172.7132 - dense_1_loss: 0.3320 - val_loss: 0.7488 - val_dense_loss: 171.5794 - val_dense_1_loss: 0.3267\n",
      "Epoch 7/25\n",
      "649/649 [==============================] - 31s 48ms/step - loss: 0.7281 - dense_loss: 168.2823 - dense_1_loss: 0.3141 - val_loss: 0.8293 - val_dense_loss: 194.9783 - val_dense_1_loss: 0.3635\n",
      "Epoch 8/25\n",
      "649/649 [==============================] - 35s 54ms/step - loss: 0.7270 - dense_loss: 164.9131 - dense_1_loss: 0.3204 - val_loss: 0.7865 - val_dense_loss: 182.4759 - val_dense_1_loss: 0.3442\n",
      "Epoch 9/25\n",
      "649/649 [==============================] - 35s 53ms/step - loss: 0.6959 - dense_loss: 160.1897 - dense_1_loss: 0.3001 - val_loss: 0.7515 - val_dense_loss: 166.9646 - val_dense_1_loss: 0.3440\n",
      "Epoch 10/25\n",
      "649/649 [==============================] - 35s 53ms/step - loss: 0.7308 - dense_loss: 160.4074 - dense_1_loss: 0.3333 - val_loss: 0.8395 - val_dense_loss: 185.6251 - val_dense_1_loss: 0.3866\n"
     ]
    }
   ],
   "source": [
    "history = multi_task_model.fit(X_train,\n",
    "        [Y_age_train, Y_gender_train],\n",
    "        epochs=25,\n",
    "        validation_data=(X_test, [Y_age_test, Y_gender_test]),\n",
    "        callbacks=[tf.keras.callbacks.EarlyStopping(monitor='val_loss', patience=4, restore_best_weights=True)],\n",
    "        batch_size=64)\n",
    "multi_task_model.save(PICKLES_PATH + \"multi_task_model.h5\")"
   ]
  },
  {
   "cell_type": "code",
   "execution_count": null,
   "metadata": {},
   "outputs": [
    {
     "data": {
      "text/plain": [
       "<matplotlib.legend.Legend at 0x7f799380f130>"
      ]
     },
     "execution_count": 16,
     "metadata": {},
     "output_type": "execute_result"
    },
    {
     "data": {
      "image/png": "[encoded data removed]",
      "text/plain": [
       "<Figure size 640x480 with 1 Axes>"
      ]
     },
     "metadata": {},
     "output_type": "display_data"
    }
   ],
   "source": [
    "# plot history:\n",
    "plt.plot(history.history['loss'], label='loss')\n",
    "plt.plot(history.history['val_loss'], label = 'val_loss')\n",
    "plt.xlabel('Epoch')\n",
    "plt.ylabel('Loss')\n",
    "plt.legend()"
   ]
  },
  {
   "attachments": {},
   "cell_type": "markdown",
   "metadata": {},
   "source": [
    "The validation loss converges in about 8 epochs. We define convergence as no improvment over 4 epochs."
   ]
  },
  {
   "cell_type": "code",
   "execution_count": 9,
   "metadata": {},
   "outputs": [
    {
     "name": "stdout",
     "output_type": "stream",
     "text": [
      "325/325 [==============================] - 6s 18ms/step\n"
     ]
    }
   ],
   "source": [
    "multi_task_model = load_model(PICKLES_PATH + \"multi_task_model.h5\")\n",
    "y_hat_multi_task_model = multi_task_model.predict(X_test)\n",
    "\n",
    "# save to pickle:\n",
    "with open(PICKLES_PATH + \"y_hat_multi_task_model.pkl\", \"wb\") as f:\n",
    "    pickle.dump(y_hat_multi_task_model, f)"
   ]
  },
  {
   "attachments": {},
   "cell_type": "markdown",
   "metadata": {},
   "source": [
    "## Semi-Supervised MultiTask (With AutoEncoder for image reconstruction as Auxilary task)"
   ]
  },
  {
   "attachments": {},
   "cell_type": "markdown",
   "metadata": {},
   "source": [
    "For the extra analysis, we will try to perform self supervised learning by using the auxllary task of image recnstruction and train an autoencoder with essentially the same architecture for the encoders as before, and train it to convergence. Then wwe will attempt to use just the learned encoder weights and try to train a multitask model starting from these weights. "
   ]
  },
  {
   "cell_type": "code",
   "execution_count": 13,
   "metadata": {},
   "outputs": [
    {
     "name": "stdout",
     "output_type": "stream",
     "text": [
      "INFO:tensorflow:Using MirroredStrategy with devices ('/job:localhost/replica:0/task:0/device:GPU:0', '/job:localhost/replica:0/task:0/device:GPU:1', '/job:localhost/replica:0/task:0/device:GPU:2', '/job:localhost/replica:0/task:0/device:GPU:3', '/job:localhost/replica:0/task:0/device:GPU:4', '/job:localhost/replica:0/task:0/device:GPU:5', '/job:localhost/replica:0/task:0/device:GPU:6', '/job:localhost/replica:0/task:0/device:GPU:7')\n",
      "INFO:tensorflow:Reduce to /job:localhost/replica:0/task:0/device:CPU:0 then broadcast to ('/job:localhost/replica:0/task:0/device:CPU:0',).\n",
      "INFO:tensorflow:Reduce to /job:localhost/replica:0/task:0/device:CPU:0 then broadcast to ('/job:localhost/replica:0/task:0/device:CPU:0',).\n",
      "INFO:tensorflow:Reduce to /job:localhost/replica:0/task:0/device:CPU:0 then broadcast to ('/job:localhost/replica:0/task:0/device:CPU:0',).\n",
      "INFO:tensorflow:Reduce to /job:localhost/replica:0/task:0/device:CPU:0 then broadcast to ('/job:localhost/replica:0/task:0/device:CPU:0',).\n",
      "INFO:tensorflow:Reduce to /job:localhost/replica:0/task:0/device:CPU:0 then broadcast to ('/job:localhost/replica:0/task:0/device:CPU:0',).\n",
      "INFO:tensorflow:Reduce to /job:localhost/replica:0/task:0/device:CPU:0 then broadcast to ('/job:localhost/replica:0/task:0/device:CPU:0',).\n"
     ]
    },
    {
     "name": "stderr",
     "output_type": "stream",
     "text": [
      "2023-03-10 10:54:56.909841: I tensorflow/core/platform/cpu_feature_guard.cc:193] This TensorFlow binary is optimized with oneAPI Deep Neural Network Library (oneDNN) to use the following CPU instructions in performance-critical operations:  AVX2 FMA\n",
      "To enable them in other operations, rebuild TensorFlow with the appropriate compiler flags.\n",
      "2023-03-10 10:55:01.015021: I tensorflow/core/common_runtime/gpu/gpu_device.cc:1613] Created device /job:localhost/replica:0/task:0/device:GPU:0 with 79117 MB memory:  -> device: 0, name: NVIDIA A100-SXM4-80GB, pci bus id: 0000:07:00.0, compute capability: 8.0\n",
      "2023-03-10 10:55:01.018835: I tensorflow/core/common_runtime/gpu/gpu_device.cc:1613] Created device /job:localhost/replica:0/task:0/device:GPU:1 with 79117 MB memory:  -> device: 1, name: NVIDIA A100-SXM4-80GB, pci bus id: 0000:0f:00.0, compute capability: 8.0\n",
      "2023-03-10 10:55:01.027172: I tensorflow/core/common_runtime/gpu/gpu_device.cc:1613] Created device /job:localhost/replica:0/task:0/device:GPU:2 with 79117 MB memory:  -> device: 2, name: NVIDIA A100-SXM4-80GB, pci bus id: 0000:47:00.0, compute capability: 8.0\n",
      "2023-03-10 10:55:01.030779: I tensorflow/core/common_runtime/gpu/gpu_device.cc:1613] Created device /job:localhost/replica:0/task:0/device:GPU:3 with 79117 MB memory:  -> device: 3, name: NVIDIA A100-SXM4-80GB, pci bus id: 0000:4e:00.0, compute capability: 8.0\n",
      "2023-03-10 10:55:01.034405: I tensorflow/core/common_runtime/gpu/gpu_device.cc:1613] Created device /job:localhost/replica:0/task:0/device:GPU:4 with 79117 MB memory:  -> device: 4, name: NVIDIA A100-SXM4-80GB, pci bus id: 0000:87:00.0, compute capability: 8.0\n",
      "2023-03-10 10:55:01.038010: I tensorflow/core/common_runtime/gpu/gpu_device.cc:1613] Created device /job:localhost/replica:0/task:0/device:GPU:5 with 79117 MB memory:  -> device: 5, name: NVIDIA A100-SXM4-80GB, pci bus id: 0000:90:00.0, compute capability: 8.0\n",
      "2023-03-10 10:55:01.041587: I tensorflow/core/common_runtime/gpu/gpu_device.cc:1613] Created device /job:localhost/replica:0/task:0/device:GPU:6 with 79117 MB memory:  -> device: 6, name: NVIDIA A100-SXM4-80GB, pci bus id: 0000:b7:00.0, compute capability: 8.0\n",
      "2023-03-10 10:55:01.045142: I tensorflow/core/common_runtime/gpu/gpu_device.cc:1613] Created device /job:localhost/replica:0/task:0/device:GPU:7 with 79117 MB memory:  -> device: 7, name: NVIDIA A100-SXM4-80GB, pci bus id: 0000:bd:00.0, compute capability: 8.0\n"
     ]
    },
    {
     "name": "stdout",
     "output_type": "stream",
     "text": [
      "INFO:tensorflow:Reduce to /job:localhost/replica:0/task:0/device:CPU:0 then broadcast to ('/job:localhost/replica:0/task:0/device:CPU:0',).\n",
      "INFO:tensorflow:Reduce to /job:localhost/replica:0/task:0/device:CPU:0 then broadcast to ('/job:localhost/replica:0/task:0/device:CPU:0',).\n",
      "INFO:tensorflow:Reduce to /job:localhost/replica:0/task:0/device:CPU:0 then broadcast to ('/job:localhost/replica:0/task:0/device:CPU:0',).\n",
      "INFO:tensorflow:Reduce to /job:localhost/replica:0/task:0/device:CPU:0 then broadcast to ('/job:localhost/replica:0/task:0/device:CPU:0',).\n",
      "Model: \"model\"\n",
      "__________________________________________________________________________________________________\n",
      " Layer (type)                   Output Shape         Param #     Connected to                     \n",
      "==================================================================================================\n",
      " input_1 (InputLayer)           [(None, 256, 256, 3  0           []                               \n",
      "                                )]                                                                \n",
      "                                                                                                  \n",
      " conv2d (Conv2D)                (None, 256, 256, 16  2368        ['input_1[0][0]']                \n",
      "                                )                                                                 \n",
      "                                                                                                  \n",
      " batch_normalization (BatchNorm  (None, 256, 256, 16  64         ['conv2d[0][0]']                 \n",
      " alization)                     )                                                                 \n",
      "                                                                                                  \n",
      " conv2d_1 (Conv2D)              (None, 256, 256, 16  2320        ['batch_normalization[0][0]']    \n",
      "                                )                                                                 \n",
      "                                                                                                  \n",
      " batch_normalization_1 (BatchNo  (None, 256, 256, 16  64         ['conv2d_1[0][0]']               \n",
      " rmalization)                   )                                                                 \n",
      "                                                                                                  \n",
      " activation (Activation)        (None, 256, 256, 16  0           ['batch_normalization_1[0][0]']  \n",
      "                                )                                                                 \n",
      "                                                                                                  \n",
      " conv2d_2 (Conv2D)              (None, 256, 256, 16  2320        ['activation[0][0]']             \n",
      "                                )                                                                 \n",
      "                                                                                                  \n",
      " batch_normalization_2 (BatchNo  (None, 256, 256, 16  64         ['conv2d_2[0][0]']               \n",
      " rmalization)                   )                                                                 \n",
      "                                                                                                  \n",
      " add (Add)                      (None, 256, 256, 16  0           ['batch_normalization_2[0][0]',  \n",
      "                                )                                 'batch_normalization[0][0]']    \n",
      "                                                                                                  \n",
      " activation_1 (Activation)      (None, 256, 256, 16  0           ['add[0][0]']                    \n",
      "                                )                                                                 \n",
      "                                                                                                  \n",
      " conv2d_3 (Conv2D)              (None, 256, 256, 16  2320        ['activation_1[0][0]']           \n",
      "                                )                                                                 \n",
      "                                                                                                  \n",
      " batch_normalization_3 (BatchNo  (None, 256, 256, 16  64         ['conv2d_3[0][0]']               \n",
      " rmalization)                   )                                                                 \n",
      "                                                                                                  \n",
      " activation_2 (Activation)      (None, 256, 256, 16  0           ['batch_normalization_3[0][0]']  \n",
      "                                )                                                                 \n",
      "                                                                                                  \n",
      " conv2d_4 (Conv2D)              (None, 256, 256, 16  2320        ['activation_2[0][0]']           \n",
      "                                )                                                                 \n",
      "                                                                                                  \n",
      " batch_normalization_4 (BatchNo  (None, 256, 256, 16  64         ['conv2d_4[0][0]']               \n",
      " rmalization)                   )                                                                 \n",
      "                                                                                                  \n",
      " add_1 (Add)                    (None, 256, 256, 16  0           ['batch_normalization_4[0][0]',  \n",
      "                                )                                 'activation_1[0][0]']           \n",
      "                                                                                                  \n",
      " activation_3 (Activation)      (None, 256, 256, 16  0           ['add_1[0][0]']                  \n",
      "                                )                                                                 \n",
      "                                                                                                  \n",
      " conv2d_6 (Conv2D)              (None, 128, 128, 32  4640        ['activation_3[0][0]']           \n",
      "                                )                                                                 \n",
      "                                                                                                  \n",
      " batch_normalization_5 (BatchNo  (None, 128, 128, 32  128        ['conv2d_6[0][0]']               \n",
      " rmalization)                   )                                                                 \n",
      "                                                                                                  \n",
      " activation_4 (Activation)      (None, 128, 128, 32  0           ['batch_normalization_5[0][0]']  \n",
      "                                )                                                                 \n",
      "                                                                                                  \n",
      " conv2d_7 (Conv2D)              (None, 128, 128, 32  9248        ['activation_4[0][0]']           \n",
      "                                )                                                                 \n",
      "                                                                                                  \n",
      " batch_normalization_6 (BatchNo  (None, 128, 128, 32  128        ['conv2d_7[0][0]']               \n",
      " rmalization)                   )                                                                 \n",
      "                                                                                                  \n",
      " conv2d_5 (Conv2D)              (None, 128, 128, 32  544         ['activation_3[0][0]']           \n",
      "                                )                                                                 \n",
      "                                                                                                  \n",
      " add_2 (Add)                    (None, 128, 128, 32  0           ['batch_normalization_6[0][0]',  \n",
      "                                )                                 'conv2d_5[0][0]']               \n",
      "                                                                                                  \n",
      " activation_5 (Activation)      (None, 128, 128, 32  0           ['add_2[0][0]']                  \n",
      "                                )                                                                 \n",
      "                                                                                                  \n",
      " conv2d_8 (Conv2D)              (None, 128, 128, 32  9248        ['activation_5[0][0]']           \n",
      "                                )                                                                 \n",
      "                                                                                                  \n",
      " batch_normalization_7 (BatchNo  (None, 128, 128, 32  128        ['conv2d_8[0][0]']               \n",
      " rmalization)                   )                                                                 \n",
      "                                                                                                  \n",
      " activation_6 (Activation)      (None, 128, 128, 32  0           ['batch_normalization_7[0][0]']  \n",
      "                                )                                                                 \n",
      "                                                                                                  \n",
      " conv2d_9 (Conv2D)              (None, 128, 128, 32  9248        ['activation_6[0][0]']           \n",
      "                                )                                                                 \n",
      "                                                                                                  \n",
      " batch_normalization_8 (BatchNo  (None, 128, 128, 32  128        ['conv2d_9[0][0]']               \n",
      " rmalization)                   )                                                                 \n",
      "                                                                                                  \n",
      " add_3 (Add)                    (None, 128, 128, 32  0           ['batch_normalization_8[0][0]',  \n",
      "                                )                                 'activation_5[0][0]']           \n",
      "                                                                                                  \n",
      " activation_7 (Activation)      (None, 128, 128, 32  0           ['add_3[0][0]']                  \n",
      "                                )                                                                 \n",
      "                                                                                                  \n",
      " conv2d_11 (Conv2D)             (None, 64, 64, 64)   18496       ['activation_7[0][0]']           \n",
      "                                                                                                  \n",
      " batch_normalization_9 (BatchNo  (None, 64, 64, 64)  256         ['conv2d_11[0][0]']              \n",
      " rmalization)                                                                                     \n",
      "                                                                                                  \n",
      " activation_8 (Activation)      (None, 64, 64, 64)   0           ['batch_normalization_9[0][0]']  \n",
      "                                                                                                  \n",
      " conv2d_12 (Conv2D)             (None, 64, 64, 64)   36928       ['activation_8[0][0]']           \n",
      "                                                                                                  \n",
      " batch_normalization_10 (BatchN  (None, 64, 64, 64)  256         ['conv2d_12[0][0]']              \n",
      " ormalization)                                                                                    \n",
      "                                                                                                  \n",
      " conv2d_10 (Conv2D)             (None, 64, 64, 64)   2112        ['activation_7[0][0]']           \n",
      "                                                                                                  \n",
      " add_4 (Add)                    (None, 64, 64, 64)   0           ['batch_normalization_10[0][0]', \n",
      "                                                                  'conv2d_10[0][0]']              \n",
      "                                                                                                  \n",
      " activation_9 (Activation)      (None, 64, 64, 64)   0           ['add_4[0][0]']                  \n",
      "                                                                                                  \n",
      " conv2d_13 (Conv2D)             (None, 64, 64, 64)   36928       ['activation_9[0][0]']           \n",
      "                                                                                                  \n",
      " batch_normalization_11 (BatchN  (None, 64, 64, 64)  256         ['conv2d_13[0][0]']              \n",
      " ormalization)                                                                                    \n",
      "                                                                                                  \n",
      " activation_10 (Activation)     (None, 64, 64, 64)   0           ['batch_normalization_11[0][0]'] \n",
      "                                                                                                  \n",
      " conv2d_14 (Conv2D)             (None, 64, 64, 64)   36928       ['activation_10[0][0]']          \n",
      "                                                                                                  \n",
      " batch_normalization_12 (BatchN  (None, 64, 64, 64)  256         ['conv2d_14[0][0]']              \n",
      " ormalization)                                                                                    \n",
      "                                                                                                  \n",
      " add_5 (Add)                    (None, 64, 64, 64)   0           ['batch_normalization_12[0][0]', \n",
      "                                                                  'activation_9[0][0]']           \n",
      "                                                                                                  \n",
      " activation_11 (Activation)     (None, 64, 64, 64)   0           ['add_5[0][0]']                  \n",
      "                                                                                                  \n",
      " conv2d_transpose (Conv2DTransp  (None, 128, 128, 32  32800      ['activation_11[0][0]']          \n",
      " ose)                           )                                                                 \n",
      "                                                                                                  \n",
      " conv2d_15 (Conv2D)             (None, 128, 128, 32  1056        ['conv2d_transpose[0][0]']       \n",
      "                                )                                                                 \n",
      "                                                                                                  \n",
      " add_6 (Add)                    (None, 128, 128, 32  0           ['conv2d_transpose[0][0]',       \n",
      "                                )                                 'conv2d_15[0][0]']              \n",
      "                                                                                                  \n",
      " conv2d_transpose_1 (Conv2DTran  (None, 256, 256, 16  8208       ['add_6[0][0]']                  \n",
      " spose)                         )                                                                 \n",
      "                                                                                                  \n",
      " conv2d_16 (Conv2D)             (None, 256, 256, 16  272         ['conv2d_transpose_1[0][0]']     \n",
      "                                )                                                                 \n",
      "                                                                                                  \n",
      " add_7 (Add)                    (None, 256, 256, 16  0           ['conv2d_transpose_1[0][0]',     \n",
      "                                )                                 'conv2d_16[0][0]']              \n",
      "                                                                                                  \n",
      " conv2d_17 (Conv2D)             (None, 256, 256, 3)  2355        ['add_7[0][0]']                  \n",
      "                                                                                                  \n",
      "==================================================================================================\n",
      "Total params: 222,515\n",
      "Trainable params: 221,587\n",
      "Non-trainable params: 928\n",
      "__________________________________________________________________________________________________\n"
     ]
    }
   ],
   "source": [
    "strategy = tf.distribute.MirroredStrategy(\n",
    "    devices=[\"/gpu:0\", \"/gpu:1\", \"/gpu:2\", \"/gpu:3\", \"/gpu:4\", \"/gpu:5\", \"/gpu:6\", \"/gpu:7\"]\n",
    ")\n",
    "\n",
    "with strategy.scope():\n",
    "\n",
    "    input = tf.keras.Input(shape=(256, 256, 3))\n",
    "\n",
    "    x = tf.keras.layers.Conv2D(16, (7, 7), activation='relu', kernel_regularizer=tf.keras.regularizers.l2(0.001), padding=\"same\")(input) # difference from previous model - padding\n",
    "    x = tf.keras.layers.BatchNormalization()(x)\n",
    "\n",
    "    # resnet block\n",
    "    x = resnet_block(x, 16)\n",
    "    x = resnet_block(x, 16)\n",
    "    x = resnet_block(x, 32, 2)\n",
    "    x = resnet_block(x, 32)\n",
    "    x = resnet_block(x, 64, 2)\n",
    "    x = resnet_block(x, 64)\n",
    "    x = tf.keras.layers.Conv2DTranspose(32, (4, 4), strides=(2, 2), padding='same')(x)\n",
    "    x_add = Conv2D(32, (1, 1), activation='relu', padding=\"same\")(x)\n",
    "    x = tf.keras.layers.Add()([x, x_add])\n",
    "    x = tf.keras.layers.Conv2DTranspose(16, (4, 4), strides=(2, 2), padding='same')(x)\n",
    "    x_add = Conv2D(16, (1, 1), activation='relu', padding=\"same\")(x)\n",
    "    x = tf.keras.layers.Add()([x, x_add])\n",
    "    output = Conv2D(3, (7, 7), activation='sigmoid', padding=\"same\")(x)\n",
    "    auto_encoder = Model(inputs=[input], outputs=[output])\n",
    "\n",
    "    auto_encoder.compile(optimizer='adam', loss='mse')\n",
    "    \n",
    "\n",
    "    auto_encoder.summary()\n",
    "\n",
    "    "
   ]
  },
  {
   "cell_type": "code",
   "execution_count": 14,
   "metadata": {},
   "outputs": [
    {
     "name": "stdout",
     "output_type": "stream",
     "text": [
      "Epoch 1/25\n",
      "INFO:tensorflow:batch_all_reduce: 66 all-reduces with algorithm = nccl, num_packs = 1\n",
      "INFO:tensorflow:batch_all_reduce: 66 all-reduces with algorithm = nccl, num_packs = 1\n"
     ]
    },
    {
     "name": "stderr",
     "output_type": "stream",
     "text": [
      "2023-03-10 10:57:22.187679: I tensorflow/compiler/xla/stream_executor/cuda/cuda_dnn.cc:428] Loaded cuDNN version 8204\n",
      "2023-03-10 10:57:23.315271: I tensorflow/compiler/xla/stream_executor/cuda/cuda_dnn.cc:428] Loaded cuDNN version 8204\n",
      "2023-03-10 10:57:24.543267: I tensorflow/compiler/xla/stream_executor/cuda/cuda_dnn.cc:428] Loaded cuDNN version 8204\n",
      "2023-03-10 10:57:26.206838: I tensorflow/compiler/xla/stream_executor/cuda/cuda_dnn.cc:428] Loaded cuDNN version 8204\n",
      "2023-03-10 10:57:27.623883: I tensorflow/compiler/xla/stream_executor/cuda/cuda_dnn.cc:428] Loaded cuDNN version 8204\n",
      "2023-03-10 10:57:28.912325: I tensorflow/compiler/xla/stream_executor/cuda/cuda_dnn.cc:428] Loaded cuDNN version 8204\n",
      "2023-03-10 10:57:30.390786: I tensorflow/compiler/xla/stream_executor/cuda/cuda_dnn.cc:428] Loaded cuDNN version 8204\n",
      "2023-03-10 10:57:31.621136: I tensorflow/compiler/xla/stream_executor/cuda/cuda_dnn.cc:428] Loaded cuDNN version 8204\n",
      "2023-03-10 10:57:42.868179: I tensorflow/compiler/xla/service/service.cc:173] XLA service 0x7ed80af94b90 initialized for platform CUDA (this does not guarantee that XLA will be used). Devices:\n",
      "2023-03-10 10:57:42.868215: I tensorflow/compiler/xla/service/service.cc:181]   StreamExecutor device (0): NVIDIA A100-SXM4-80GB, Compute Capability 8.0\n",
      "2023-03-10 10:57:42.868220: I tensorflow/compiler/xla/service/service.cc:181]   StreamExecutor device (1): NVIDIA A100-SXM4-80GB, Compute Capability 8.0\n",
      "2023-03-10 10:57:42.868224: I tensorflow/compiler/xla/service/service.cc:181]   StreamExecutor device (2): NVIDIA A100-SXM4-80GB, Compute Capability 8.0\n",
      "2023-03-10 10:57:42.868228: I tensorflow/compiler/xla/service/service.cc:181]   StreamExecutor device (3): NVIDIA A100-SXM4-80GB, Compute Capability 8.0\n",
      "2023-03-10 10:57:42.868233: I tensorflow/compiler/xla/service/service.cc:181]   StreamExecutor device (4): NVIDIA A100-SXM4-80GB, Compute Capability 8.0\n",
      "2023-03-10 10:57:42.868237: I tensorflow/compiler/xla/service/service.cc:181]   StreamExecutor device (5): NVIDIA A100-SXM4-80GB, Compute Capability 8.0\n",
      "2023-03-10 10:57:42.868241: I tensorflow/compiler/xla/service/service.cc:181]   StreamExecutor device (6): NVIDIA A100-SXM4-80GB, Compute Capability 8.0\n",
      "2023-03-10 10:57:42.868245: I tensorflow/compiler/xla/service/service.cc:181]   StreamExecutor device (7): NVIDIA A100-SXM4-80GB, Compute Capability 8.0\n",
      "2023-03-10 10:57:42.877099: I tensorflow/compiler/mlir/tensorflow/utils/dump_mlir_util.cc:268] disabling MLIR crash reproducer, set env var `MLIR_CRASH_REPRODUCER_DIRECTORY` to enable.\n",
      "2023-03-10 10:57:42.993615: I tensorflow/compiler/jit/xla_compilation_cache.cc:477] Compiled cluster using XLA!  This line is logged at most once for the lifetime of the process.\n"
     ]
    },
    {
     "name": "stdout",
     "output_type": "stream",
     "text": [
      "2596/2596 [==============================] - 135s 28ms/step - loss: 0.0225\n",
      "Epoch 2/25\n",
      "2596/2596 [==============================] - 65s 25ms/step - loss: 0.0072\n",
      "Epoch 3/25\n",
      "2596/2596 [==============================] - 64s 25ms/step - loss: 0.0059\n",
      "Epoch 4/25\n",
      "2596/2596 [==============================] - 64s 24ms/step - loss: 0.0052\n",
      "Epoch 5/25\n",
      "2596/2596 [==============================] - 63s 24ms/step - loss: 0.0050\n",
      "Epoch 6/25\n",
      "2596/2596 [==============================] - 63s 24ms/step - loss: 0.0043\n",
      "Epoch 7/25\n",
      "2596/2596 [==============================] - 65s 25ms/step - loss: 0.0043\n",
      "Epoch 8/25\n",
      "2596/2596 [==============================] - 62s 24ms/step - loss: 0.0036\n",
      "Epoch 9/25\n",
      "2596/2596 [==============================] - 63s 24ms/step - loss: 0.0036\n",
      "Epoch 10/25\n",
      "2596/2596 [==============================] - 64s 25ms/step - loss: 0.0035\n",
      "Epoch 11/25\n",
      "2596/2596 [==============================] - 64s 25ms/step - loss: 0.0044\n",
      "Epoch 12/25\n",
      "2596/2596 [==============================] - 64s 25ms/step - loss: 0.0041\n"
     ]
    }
   ],
   "source": [
    "history = auto_encoder.fit(X_train, X_train, epochs=25, batch_size=16, callbacks=[tf.keras.callbacks.EarlyStopping(monitor='loss', patience=2, restore_best_weights=True)])\n",
    "auto_encoder.save(PICKLES_PATH + \"auto_encoder.h5\")"
   ]
  },
  {
   "cell_type": "code",
   "execution_count": 17,
   "metadata": {},
   "outputs": [
    {
     "data": {
      "text/plain": [
       "Text(0.5, 1.0, 'Autoencoder Loss')"
      ]
     },
     "execution_count": 17,
     "metadata": {},
     "output_type": "execute_result"
    },
    {
     "data": {
      "image/png": "[encoded data removed]",
      "text/plain": [
       "<Figure size 640x480 with 1 Axes>"
      ]
     },
     "metadata": {},
     "output_type": "display_data"
    }
   ],
   "source": [
    "plt.plot(history.history['loss'], label='loss')\n",
    "plt.xlabel('Epoch')\n",
    "plt.ylabel('Loss')\n",
    "plt.title('Autoencoder Training Loss')"
   ]
  },
  {
   "attachments": {},
   "cell_type": "markdown",
   "metadata": {},
   "source": [
    "The loss converges in about 8 epochs. We define convergence as no improvment over 4 epochs."
   ]
  },
  {
   "cell_type": "code",
   "execution_count": 13,
   "metadata": {},
   "outputs": [
    {
     "name": "stderr",
     "output_type": "stream",
     "text": [
      "2023-03-10 11:33:45.677663: I tensorflow/core/platform/cpu_feature_guard.cc:193] This TensorFlow binary is optimized with oneAPI Deep Neural Network Library (oneDNN) to use the following CPU instructions in performance-critical operations:  AVX2 FMA\n",
      "To enable them in other operations, rebuild TensorFlow with the appropriate compiler flags.\n",
      "2023-03-10 11:33:49.850194: I tensorflow/core/common_runtime/gpu/gpu_device.cc:1613] Created device /job:localhost/replica:0/task:0/device:GPU:0 with 79117 MB memory:  -> device: 0, name: NVIDIA A100-SXM4-80GB, pci bus id: 0000:07:00.0, compute capability: 8.0\n",
      "2023-03-10 11:33:49.854684: I tensorflow/core/common_runtime/gpu/gpu_device.cc:1613] Created device /job:localhost/replica:0/task:0/device:GPU:1 with 79117 MB memory:  -> device: 1, name: NVIDIA A100-SXM4-80GB, pci bus id: 0000:0f:00.0, compute capability: 8.0\n",
      "2023-03-10 11:33:49.859952: I tensorflow/core/common_runtime/gpu/gpu_device.cc:1613] Created device /job:localhost/replica:0/task:0/device:GPU:2 with 79117 MB memory:  -> device: 2, name: NVIDIA A100-SXM4-80GB, pci bus id: 0000:47:00.0, compute capability: 8.0\n",
      "2023-03-10 11:33:49.863781: I tensorflow/core/common_runtime/gpu/gpu_device.cc:1613] Created device /job:localhost/replica:0/task:0/device:GPU:3 with 79117 MB memory:  -> device: 3, name: NVIDIA A100-SXM4-80GB, pci bus id: 0000:4e:00.0, compute capability: 8.0\n",
      "2023-03-10 11:33:49.867426: I tensorflow/core/common_runtime/gpu/gpu_device.cc:1613] Created device /job:localhost/replica:0/task:0/device:GPU:4 with 79117 MB memory:  -> device: 4, name: NVIDIA A100-SXM4-80GB, pci bus id: 0000:87:00.0, compute capability: 8.0\n",
      "2023-03-10 11:33:49.871011: I tensorflow/core/common_runtime/gpu/gpu_device.cc:1613] Created device /job:localhost/replica:0/task:0/device:GPU:5 with 79117 MB memory:  -> device: 5, name: NVIDIA A100-SXM4-80GB, pci bus id: 0000:90:00.0, compute capability: 8.0\n",
      "2023-03-10 11:33:49.874796: I tensorflow/core/common_runtime/gpu/gpu_device.cc:1613] Created device /job:localhost/replica:0/task:0/device:GPU:6 with 79117 MB memory:  -> device: 6, name: NVIDIA A100-SXM4-80GB, pci bus id: 0000:b7:00.0, compute capability: 8.0\n",
      "2023-03-10 11:33:49.878498: I tensorflow/core/common_runtime/gpu/gpu_device.cc:1613] Created device /job:localhost/replica:0/task:0/device:GPU:7 with 79117 MB memory:  -> device: 7, name: NVIDIA A100-SXM4-80GB, pci bus id: 0000:bd:00.0, compute capability: 8.0\n"
     ]
    }
   ],
   "source": [
    "auto_encoder = load_model(PICKLES_PATH + \"auto_encoder.h5\")"
   ]
  },
  {
   "cell_type": "code",
   "execution_count": 14,
   "metadata": {},
   "outputs": [
    {
     "name": "stdout",
     "output_type": "stream",
     "text": [
      "Model: \"model\"\n",
      "__________________________________________________________________________________________________\n",
      " Layer (type)                   Output Shape         Param #     Connected to                     \n",
      "==================================================================================================\n",
      " input_1 (InputLayer)           [(None, 256, 256, 3  0           []                               \n",
      "                                )]                                                                \n",
      "                                                                                                  \n",
      " conv2d (Conv2D)                (None, 256, 256, 16  2368        ['input_1[0][0]']                \n",
      "                                )                                                                 \n",
      "                                                                                                  \n",
      " batch_normalization (BatchNorm  (None, 256, 256, 16  64         ['conv2d[0][0]']                 \n",
      " alization)                     )                                                                 \n",
      "                                                                                                  \n",
      " conv2d_1 (Conv2D)              (None, 256, 256, 16  2320        ['batch_normalization[0][0]']    \n",
      "                                )                                                                 \n",
      "                                                                                                  \n",
      " batch_normalization_1 (BatchNo  (None, 256, 256, 16  64         ['conv2d_1[0][0]']               \n",
      " rmalization)                   )                                                                 \n",
      "                                                                                                  \n",
      " activation (Activation)        (None, 256, 256, 16  0           ['batch_normalization_1[0][0]']  \n",
      "                                )                                                                 \n",
      "                                                                                                  \n",
      " conv2d_2 (Conv2D)              (None, 256, 256, 16  2320        ['activation[0][0]']             \n",
      "                                )                                                                 \n",
      "                                                                                                  \n",
      " batch_normalization_2 (BatchNo  (None, 256, 256, 16  64         ['conv2d_2[0][0]']               \n",
      " rmalization)                   )                                                                 \n",
      "                                                                                                  \n",
      " add (Add)                      (None, 256, 256, 16  0           ['batch_normalization_2[0][0]',  \n",
      "                                )                                 'batch_normalization[0][0]']    \n",
      "                                                                                                  \n",
      " activation_1 (Activation)      (None, 256, 256, 16  0           ['add[0][0]']                    \n",
      "                                )                                                                 \n",
      "                                                                                                  \n",
      " conv2d_3 (Conv2D)              (None, 256, 256, 16  2320        ['activation_1[0][0]']           \n",
      "                                )                                                                 \n",
      "                                                                                                  \n",
      " batch_normalization_3 (BatchNo  (None, 256, 256, 16  64         ['conv2d_3[0][0]']               \n",
      " rmalization)                   )                                                                 \n",
      "                                                                                                  \n",
      " activation_2 (Activation)      (None, 256, 256, 16  0           ['batch_normalization_3[0][0]']  \n",
      "                                )                                                                 \n",
      "                                                                                                  \n",
      " conv2d_4 (Conv2D)              (None, 256, 256, 16  2320        ['activation_2[0][0]']           \n",
      "                                )                                                                 \n",
      "                                                                                                  \n",
      " batch_normalization_4 (BatchNo  (None, 256, 256, 16  64         ['conv2d_4[0][0]']               \n",
      " rmalization)                   )                                                                 \n",
      "                                                                                                  \n",
      " add_1 (Add)                    (None, 256, 256, 16  0           ['batch_normalization_4[0][0]',  \n",
      "                                )                                 'activation_1[0][0]']           \n",
      "                                                                                                  \n",
      " activation_3 (Activation)      (None, 256, 256, 16  0           ['add_1[0][0]']                  \n",
      "                                )                                                                 \n",
      "                                                                                                  \n",
      " conv2d_6 (Conv2D)              (None, 128, 128, 32  4640        ['activation_3[0][0]']           \n",
      "                                )                                                                 \n",
      "                                                                                                  \n",
      " batch_normalization_5 (BatchNo  (None, 128, 128, 32  128        ['conv2d_6[0][0]']               \n",
      " rmalization)                   )                                                                 \n",
      "                                                                                                  \n",
      " activation_4 (Activation)      (None, 128, 128, 32  0           ['batch_normalization_5[0][0]']  \n",
      "                                )                                                                 \n",
      "                                                                                                  \n",
      " conv2d_7 (Conv2D)              (None, 128, 128, 32  9248        ['activation_4[0][0]']           \n",
      "                                )                                                                 \n",
      "                                                                                                  \n",
      " batch_normalization_6 (BatchNo  (None, 128, 128, 32  128        ['conv2d_7[0][0]']               \n",
      " rmalization)                   )                                                                 \n",
      "                                                                                                  \n",
      " conv2d_5 (Conv2D)              (None, 128, 128, 32  544         ['activation_3[0][0]']           \n",
      "                                )                                                                 \n",
      "                                                                                                  \n",
      " add_2 (Add)                    (None, 128, 128, 32  0           ['batch_normalization_6[0][0]',  \n",
      "                                )                                 'conv2d_5[0][0]']               \n",
      "                                                                                                  \n",
      " activation_5 (Activation)      (None, 128, 128, 32  0           ['add_2[0][0]']                  \n",
      "                                )                                                                 \n",
      "                                                                                                  \n",
      " conv2d_8 (Conv2D)              (None, 128, 128, 32  9248        ['activation_5[0][0]']           \n",
      "                                )                                                                 \n",
      "                                                                                                  \n",
      " batch_normalization_7 (BatchNo  (None, 128, 128, 32  128        ['conv2d_8[0][0]']               \n",
      " rmalization)                   )                                                                 \n",
      "                                                                                                  \n",
      " activation_6 (Activation)      (None, 128, 128, 32  0           ['batch_normalization_7[0][0]']  \n",
      "                                )                                                                 \n",
      "                                                                                                  \n",
      " conv2d_9 (Conv2D)              (None, 128, 128, 32  9248        ['activation_6[0][0]']           \n",
      "                                )                                                                 \n",
      "                                                                                                  \n",
      " batch_normalization_8 (BatchNo  (None, 128, 128, 32  128        ['conv2d_9[0][0]']               \n",
      " rmalization)                   )                                                                 \n",
      "                                                                                                  \n",
      " add_3 (Add)                    (None, 128, 128, 32  0           ['batch_normalization_8[0][0]',  \n",
      "                                )                                 'activation_5[0][0]']           \n",
      "                                                                                                  \n",
      " activation_7 (Activation)      (None, 128, 128, 32  0           ['add_3[0][0]']                  \n",
      "                                )                                                                 \n",
      "                                                                                                  \n",
      " conv2d_11 (Conv2D)             (None, 64, 64, 64)   18496       ['activation_7[0][0]']           \n",
      "                                                                                                  \n",
      " batch_normalization_9 (BatchNo  (None, 64, 64, 64)  256         ['conv2d_11[0][0]']              \n",
      " rmalization)                                                                                     \n",
      "                                                                                                  \n",
      " activation_8 (Activation)      (None, 64, 64, 64)   0           ['batch_normalization_9[0][0]']  \n",
      "                                                                                                  \n",
      " conv2d_12 (Conv2D)             (None, 64, 64, 64)   36928       ['activation_8[0][0]']           \n",
      "                                                                                                  \n",
      " batch_normalization_10 (BatchN  (None, 64, 64, 64)  256         ['conv2d_12[0][0]']              \n",
      " ormalization)                                                                                    \n",
      "                                                                                                  \n",
      " conv2d_10 (Conv2D)             (None, 64, 64, 64)   2112        ['activation_7[0][0]']           \n",
      "                                                                                                  \n",
      " add_4 (Add)                    (None, 64, 64, 64)   0           ['batch_normalization_10[0][0]', \n",
      "                                                                  'conv2d_10[0][0]']              \n",
      "                                                                                                  \n",
      " activation_9 (Activation)      (None, 64, 64, 64)   0           ['add_4[0][0]']                  \n",
      "                                                                                                  \n",
      " conv2d_13 (Conv2D)             (None, 64, 64, 64)   36928       ['activation_9[0][0]']           \n",
      "                                                                                                  \n",
      " batch_normalization_11 (BatchN  (None, 64, 64, 64)  256         ['conv2d_13[0][0]']              \n",
      " ormalization)                                                                                    \n",
      "                                                                                                  \n",
      " activation_10 (Activation)     (None, 64, 64, 64)   0           ['batch_normalization_11[0][0]'] \n",
      "                                                                                                  \n",
      " conv2d_14 (Conv2D)             (None, 64, 64, 64)   36928       ['activation_10[0][0]']          \n",
      "                                                                                                  \n",
      " batch_normalization_12 (BatchN  (None, 64, 64, 64)  256         ['conv2d_14[0][0]']              \n",
      " ormalization)                                                                                    \n",
      "                                                                                                  \n",
      " add_5 (Add)                    (None, 64, 64, 64)   0           ['batch_normalization_12[0][0]', \n",
      "                                                                  'activation_9[0][0]']           \n",
      "                                                                                                  \n",
      " activation_11 (Activation)     (None, 64, 64, 64)   0           ['add_5[0][0]']                  \n",
      "                                                                                                  \n",
      " flatten (Flatten)              (None, 262144)       0           ['activation_11[0][0]']          \n",
      "                                                                                                  \n",
      " dropout (Dropout)              (None, 262144)       0           ['flatten[0][0]']                \n",
      "                                                                                                  \n",
      " dense (Dense)                  (None, 1)            262145      ['dropout[0][0]']                \n",
      "                                                                                                  \n",
      " dense_1 (Dense)                (None, 1)            262145      ['dropout[0][0]']                \n",
      "                                                                                                  \n",
      "==================================================================================================\n",
      "Total params: 702,114\n",
      "Trainable params: 701,186\n",
      "Non-trainable params: 928\n",
      "__________________________________________________________________________________________________\n"
     ]
    }
   ],
   "source": [
    "final_cnn = auto_encoder.layers[-8].output\n",
    "\n",
    "dense = tf.keras.layers.Flatten()(final_cnn)\n",
    "dense = tf.keras.layers.Dropout(0.5)(dense)\n",
    "\n",
    "age_dense = tf.keras.layers.Dense(1, activation='linear')(dense)\n",
    "gender_dense = tf.keras.layers.Dense(1, activation='sigmoid', )(dense)\n",
    "\n",
    "\n",
    "pre_trained_multi_task_model = Model(inputs=auto_encoder.input, outputs=[age_dense, gender_dense])\n",
    "\n",
    "pre_trained_multi_task_model.compile(optimizer='adam', loss=['mse', 'binary_crossentropy'], loss_weights=[0.003, 0.997])\n",
    "\n",
    "pre_trained_multi_task_model.summary()"
   ]
  },
  {
   "cell_type": "code",
   "execution_count": 15,
   "metadata": {},
   "outputs": [
    {
     "name": "stdout",
     "output_type": "stream",
     "text": [
      "Epoch 1/25\n"
     ]
    },
    {
     "name": "stderr",
     "output_type": "stream",
     "text": [
      "2023-03-10 11:34:23.672360: I tensorflow/compiler/xla/stream_executor/cuda/cuda_dnn.cc:428] Loaded cuDNN version 8204\n",
      "2023-03-10 11:34:26.046916: I tensorflow/compiler/xla/stream_executor/cuda/cuda_blas.cc:630] TensorFloat-32 will be used for the matrix multiplication. This will only be logged once.\n",
      "2023-03-10 11:34:26.047721: I tensorflow/compiler/xla/service/service.cc:173] XLA service 0x7f27dc00b990 initialized for platform CUDA (this does not guarantee that XLA will be used). Devices:\n",
      "2023-03-10 11:34:26.047741: I tensorflow/compiler/xla/service/service.cc:181]   StreamExecutor device (0): NVIDIA A100-SXM4-80GB, Compute Capability 8.0\n",
      "2023-03-10 11:34:26.047746: I tensorflow/compiler/xla/service/service.cc:181]   StreamExecutor device (1): NVIDIA A100-SXM4-80GB, Compute Capability 8.0\n",
      "2023-03-10 11:34:26.047750: I tensorflow/compiler/xla/service/service.cc:181]   StreamExecutor device (2): NVIDIA A100-SXM4-80GB, Compute Capability 8.0\n",
      "2023-03-10 11:34:26.047754: I tensorflow/compiler/xla/service/service.cc:181]   StreamExecutor device (3): NVIDIA A100-SXM4-80GB, Compute Capability 8.0\n",
      "2023-03-10 11:34:26.047758: I tensorflow/compiler/xla/service/service.cc:181]   StreamExecutor device (4): NVIDIA A100-SXM4-80GB, Compute Capability 8.0\n",
      "2023-03-10 11:34:26.047762: I tensorflow/compiler/xla/service/service.cc:181]   StreamExecutor device (5): NVIDIA A100-SXM4-80GB, Compute Capability 8.0\n",
      "2023-03-10 11:34:26.047766: I tensorflow/compiler/xla/service/service.cc:181]   StreamExecutor device (6): NVIDIA A100-SXM4-80GB, Compute Capability 8.0\n",
      "2023-03-10 11:34:26.047770: I tensorflow/compiler/xla/service/service.cc:181]   StreamExecutor device (7): NVIDIA A100-SXM4-80GB, Compute Capability 8.0\n",
      "2023-03-10 11:34:26.052634: I tensorflow/compiler/mlir/tensorflow/utils/dump_mlir_util.cc:268] disabling MLIR crash reproducer, set env var `MLIR_CRASH_REPRODUCER_DIRECTORY` to enable.\n",
      "2023-03-10 11:34:26.052657: I tensorflow/compiler/mlir/tensorflow/utils/dump_mlir_util.cc:268] disabling MLIR crash reproducer, set env var `MLIR_CRASH_REPRODUCER_DIRECTORY` to enable.\n",
      "2023-03-10 11:34:26.167326: I tensorflow/compiler/jit/xla_compilation_cache.cc:477] Compiled cluster using XLA!  This line is logged at most once for the lifetime of the process.\n"
     ]
    },
    {
     "name": "stdout",
     "output_type": "stream",
     "text": [
      "649/649 [==============================] - 132s 185ms/step - loss: 1.2224 - dense_loss: 243.3475 - dense_1_loss: 0.4917 - val_loss: 1.3179 - val_dense_loss: 286.1530 - val_dense_1_loss: 0.4578\n",
      "Epoch 2/25\n",
      "649/649 [==============================] - 113s 174ms/step - loss: 1.0826 - dense_loss: 215.6677 - dense_1_loss: 0.4329 - val_loss: 1.0826 - val_dense_loss: 217.3528 - val_dense_1_loss: 0.4268\n",
      "Epoch 3/25\n",
      "649/649 [==============================] - 114s 175ms/step - loss: 1.0243 - dense_loss: 202.5451 - dense_1_loss: 0.4118 - val_loss: 1.1845 - val_dense_loss: 251.1679 - val_dense_1_loss: 0.4250\n",
      "Epoch 4/25\n",
      "649/649 [==============================] - 116s 178ms/step - loss: 0.9669 - dense_loss: 191.3796 - dense_1_loss: 0.3856 - val_loss: 0.9930 - val_dense_loss: 201.7716 - val_dense_1_loss: 0.3795\n",
      "Epoch 5/25\n",
      "649/649 [==============================] - 132s 203ms/step - loss: 0.9246 - dense_loss: 183.7351 - dense_1_loss: 0.3640 - val_loss: 1.2160 - val_dense_loss: 245.7314 - val_dense_1_loss: 0.4686\n",
      "Epoch 6/25\n",
      "649/649 [==============================] - 119s 183ms/step - loss: 0.8879 - dense_loss: 176.2988 - dense_1_loss: 0.3478 - val_loss: 0.9421 - val_dense_loss: 193.1815 - val_dense_1_loss: 0.3505\n",
      "Epoch 7/25\n",
      "649/649 [==============================] - 117s 180ms/step - loss: 0.8690 - dense_loss: 172.8049 - dense_1_loss: 0.3376 - val_loss: 0.9960 - val_dense_loss: 204.2183 - val_dense_1_loss: 0.3699\n",
      "Epoch 8/25\n",
      "649/649 [==============================] - 113s 175ms/step - loss: 0.8497 - dense_loss: 169.6202 - dense_1_loss: 0.3266 - val_loss: 0.9015 - val_dense_loss: 176.8715 - val_dense_1_loss: 0.3562\n",
      "Epoch 9/25\n",
      "649/649 [==============================] - 118s 181ms/step - loss: 0.8228 - dense_loss: 164.3831 - dense_1_loss: 0.3143 - val_loss: 1.3987 - val_dense_loss: 308.7758 - val_dense_1_loss: 0.4570\n",
      "Epoch 10/25\n",
      "649/649 [==============================] - 113s 175ms/step - loss: 0.8146 - dense_loss: 164.2553 - dense_1_loss: 0.3055 - val_loss: 0.9225 - val_dense_loss: 177.0834 - val_dense_1_loss: 0.3747\n",
      "Epoch 11/25\n",
      "649/649 [==============================] - 113s 174ms/step - loss: 0.7991 - dense_loss: 161.1589 - dense_1_loss: 0.2984 - val_loss: 0.9174 - val_dense_loss: 175.7254 - val_dense_1_loss: 0.3727\n",
      "Epoch 12/25\n",
      "649/649 [==============================] - 117s 180ms/step - loss: 0.7880 - dense_loss: 158.8616 - dense_1_loss: 0.2932 - val_loss: 1.0718 - val_dense_loss: 226.0743 - val_dense_1_loss: 0.3752\n"
     ]
    }
   ],
   "source": [
    "history = pre_trained_multi_task_model.fit(X_train,\n",
    "        [Y_age_train, Y_gender_train],\n",
    "        epochs=25,\n",
    "        validation_data=(X_test, [Y_age_test, Y_gender_test]),\n",
    "        callbacks=[tf.keras.callbacks.EarlyStopping(monitor='val_loss', patience=4, restore_best_weights=True)],\n",
    "        batch_size=64)\n",
    "\n",
    "pre_trained_multi_task_model.save(PICKLES_PATH + \"pre_trained_multi_task_model.h5\")\n",
    "                                    "
   ]
  },
  {
   "cell_type": "code",
   "execution_count": 16,
   "metadata": {},
   "outputs": [
    {
     "data": {
      "text/plain": [
       "<matplotlib.legend.Legend at 0x7f2a54067790>"
      ]
     },
     "execution_count": 16,
     "metadata": {},
     "output_type": "execute_result"
    },
    {
     "data": {
      "image/png": "[encoded data removed]",
      "text/plain": [
       "<Figure size 640x480 with 1 Axes>"
      ]
     },
     "metadata": {},
     "output_type": "display_data"
    }
   ],
   "source": [
    "# plot history:\n",
    "plt.plot(history.history['loss'], label='loss')\n",
    "plt.plot(history.history['val_loss'], label = 'val_loss')\n",
    "plt.xlabel('Epoch')\n",
    "plt.ylabel('Loss')\n",
    "plt.legend()"
   ]
  },
  {
   "attachments": {},
   "cell_type": "markdown",
   "metadata": {},
   "source": [
    "The validation loss converges in about 7 epochs. We define convergence as no improvment over 4 epochs. The chart also shows clear signs of overfitting, which mmay indicate the SSL Strategy was ineffective. "
   ]
  },
  {
   "cell_type": "code",
   "execution_count": 14,
   "metadata": {},
   "outputs": [
    {
     "name": "stderr",
     "output_type": "stream",
     "text": [
      "2023-03-10 15:17:45.497223: I tensorflow/core/platform/cpu_feature_guard.cc:193] This TensorFlow binary is optimized with oneAPI Deep Neural Network Library (oneDNN) to use the following CPU instructions in performance-critical operations:  AVX2 FMA\n",
      "To enable them in other operations, rebuild TensorFlow with the appropriate compiler flags.\n",
      "2023-03-10 15:17:46.556738: I tensorflow/core/common_runtime/gpu/gpu_device.cc:1613] Created device /job:localhost/replica:0/task:0/device:GPU:0 with 79117 MB memory:  -> device: 0, name: NVIDIA A100-SXM4-80GB, pci bus id: 0000:bd:00.0, compute capability: 8.0\n",
      "2023-03-10 15:18:02.672451: I tensorflow/compiler/xla/stream_executor/cuda/cuda_dnn.cc:428] Loaded cuDNN version 8204\n"
     ]
    },
    {
     "name": "stdout",
     "output_type": "stream",
     "text": [
      "325/325 [==============================] - 11s 19ms/step\n"
     ]
    }
   ],
   "source": [
    "pre_trained_multi_task_model = load_model(PICKLES_PATH + \"pre_trained_multi_task_model.h5\")\n",
    "y_hat_pretrained_multi_task_model = pre_trained_multi_task_model.predict(X_test)"
   ]
  },
  {
   "attachments": {},
   "cell_type": "markdown",
   "metadata": {},
   "source": [
    "# Evaluation"
   ]
  },
  {
   "cell_type": "code",
   "execution_count": 5,
   "metadata": {},
   "outputs": [],
   "source": [
    "with open(PICKLES_PATH + \"y_hat_multi_task_model.pkl\", \"rb\") as f:\n",
    "    y_hat_multi_task_model = pickle.load(f)\n",
    "\n",
    "with open(PICKLES_PATH + \"y_hat_pretrained_multi_task_model.pickle\", \"rb\") as f:\n",
    "    y_hat_pretrained_multi_task_model = pickle.load(f)\n",
    "\n",
    "with open(PICKLES_PATH + \"y_hat_age_regression_model.pkl\", \"rb\") as f:\n",
    "    y_hat_age_regression_model = pickle.load(f)\n",
    "\n",
    "with open(PICKLES_PATH + \"y_hat_gender_classification_model.pkl\", \"rb\") as f:\n",
    "    y_hat_gender_classification_model = pickle.load(f)"
   ]
  },
  {
   "attachments": {},
   "cell_type": "markdown",
   "metadata": {},
   "source": [
    "## Comparing Gender Classification:"
   ]
  },
  {
   "cell_type": "code",
   "execution_count": 13,
   "metadata": {},
   "outputs": [
    {
     "data": {
      "text/plain": [
       "<matplotlib.legend.Legend at 0x7fcfd7419790>"
      ]
     },
     "execution_count": 13,
     "metadata": {},
     "output_type": "execute_result"
    },
    {
     "data": {
      "image/png": "[encoded data removed]",
      "text/plain": [
       "<Figure size 1000x1000 with 1 Axes>"
      ]
     },
     "metadata": {},
     "output_type": "display_data"
    }
   ],
   "source": [
    "# plot AUC ROC curve with Y_gender_test\n",
    "from sklearn.metrics import roc_curve, auc\n",
    "\n",
    "\n",
    "plt.figure(figsize=(10, 10))\n",
    "\n",
    "fpr, tpr, thresholds = roc_curve(Y_gender_test, y_hat_gender_classification_model)\n",
    "auc_score = auc(fpr, tpr)\n",
    "plt.plot(fpr, tpr, label=f\"Single Task (AUC = {auc_score:.3f})\")\n",
    "\n",
    "fpr, tpr, thresholds = roc_curve(Y_gender_test, y_hat_multi_task_model[1])\n",
    "auc_score = auc(fpr, tpr)\n",
    "plt.plot(fpr, tpr, label=f\"Multi Task (AUC = {auc_score:.3f})\")\n",
    "\n",
    "fpr, tpr, thresholds = roc_curve(Y_gender_test, y_hat_pretrained_multi_task_model[1])\n",
    "auc_score = auc(fpr, tpr)\n",
    "plt.plot(fpr, tpr, label=f\"Multi Task + SSL (AUC = {auc_score:.3f})\")\n",
    "\n",
    "plt.plot([0, 1], [0, 1], 'k--')\n",
    "plt.xlabel('False Positive Rate')\n",
    "plt.ylabel('True Positive Rate')\n",
    "plt.legend()\n",
    "\n"
   ]
  },
  {
   "attachments": {},
   "cell_type": "markdown",
   "metadata": {},
   "source": [
    "From the AUC-ROC curve, we can observe that all 3 models ar fairly similar with regards to ability in gender classification, but the vanilla Single and MultiTask models are fairly close to one another, and, while the single task model does have a sllightly higher AUC, neither model is dominating over the other. From the graph, this means that the single task model is silghtly better at low threshold  values for the False positive rate, but that the multitask model is better at higher threshold values, which, for gender classification, refers to correctly predcting a male or predicitng a male when the person is a female. However, both of these models are dominant over the Multitask models with SSL, which is another indication that the SSL training obejctive did not really work all that well for gender classification. "
   ]
  },
  {
   "cell_type": "code",
   "execution_count": 18,
   "metadata": {},
   "outputs": [],
   "source": [
    "# Compare accuracies between all 3 gender classification models:\n",
    "from sklearn.metrics import accuracy_score\n",
    "\n",
    "single_task_acc = accuracy_score(np.round(y_hat_gender_classification_model), Y_gender_test)\n",
    "multi_task_acc = accuracy_score(np.round(y_hat_multi_task_model[1]), Y_gender_test)\n",
    "multi_task_ssl_acc = accuracy_score(np.round(y_hat_pretrained_multi_task_model[1]), Y_gender_test)"
   ]
  },
  {
   "cell_type": "code",
   "execution_count": 19,
   "metadata": {},
   "outputs": [
    {
     "name": "stdout",
     "output_type": "stream",
     "text": [
      "Single Task Accuracy: 0.870\n",
      "Multi Task Accuracy: 0.874\n",
      "Multi Task + SSL Accuracy: 0.856\n"
     ]
    }
   ],
   "source": [
    "print(f\"Single Task Accuracy: {single_task_acc:.3f}\")\n",
    "print(f\"Multi Task Accuracy: {multi_task_acc:.3f}\")\n",
    "print(f\"Multi Task + SSL Accuracy: {multi_task_ssl_acc:.3f}\")"
   ]
  },
  {
   "attachments": {},
   "cell_type": "markdown",
   "metadata": {},
   "source": [
    "This concurs with the AUC-ROC analysis, showing that the single and multitask models are really close and the MUltitask with SSL is clearly worse"
   ]
  },
  {
   "cell_type": "code",
   "execution_count": 7,
   "metadata": {},
   "outputs": [],
   "source": [
    "# mcnemar test:\n",
    "from statsmodels.stats.contingency_tables import mcnemar\n",
    "\n",
    "def perform_mcnemar_test(yhat_1, yhat_2):\n",
    "    a = np.sum((yhat_1 == yhat_2) & (yhat_1 == 1))\n",
    "    b = np.sum((yhat_1 != yhat_2) & (yhat_1 == 1))\n",
    "    c = np.sum((yhat_1 != yhat_2) & (yhat_1 == 0))\n",
    "    d = np.sum((yhat_1 == yhat_2) & (yhat_1 == 0))\n",
    "\n",
    "    # Calculate McNemar test statistic and p-value\n",
    "    result = mcnemar([[a, b], [c, d]], exact=True)\n",
    "    return result.statistic, result.pvalue"
   ]
  },
  {
   "cell_type": "code",
   "execution_count": 8,
   "metadata": {},
   "outputs": [
    {
     "data": {
      "text/plain": [
       "1.1312211521375273e-26"
      ]
     },
     "execution_count": 8,
     "metadata": {},
     "output_type": "execute_result"
    }
   ],
   "source": [
    "_, pval = perform_mcnemar_test(np.round(y_hat_multi_task_model[1]), np.round(y_hat_gender_classification_model))\n",
    "pval"
   ]
  },
  {
   "attachments": {},
   "cell_type": "markdown",
   "metadata": {},
   "source": [
    "From the low p-value of the mcnemar test  we can safely reject the null hypothesiis and conclude that the models are statistically different, which shows that there is a difference between the multitask objective and single task objective despite the CNN having the same architecture. "
   ]
  },
  {
   "cell_type": "code",
   "execution_count": 26,
   "metadata": {},
   "outputs": [
    {
     "data": {
      "text/plain": [
       "2.272363850118627e-81"
      ]
     },
     "execution_count": 26,
     "metadata": {},
     "output_type": "execute_result"
    }
   ],
   "source": [
    "_, pval = perform_mcnemar_test(np.round(y_hat_multi_task_model[1]), np.round(y_hat_pretrained_multi_task_model[1]))\n",
    "pval"
   ]
  },
  {
   "attachments": {},
   "cell_type": "markdown",
   "metadata": {},
   "source": [
    "The Multi-task model that was pretrained with SSL is statistically significantly different from the MultiTask model, which is interesting to note, becauase the architecture is essentially identical (with the caveat that we had to make the padding same for the inital 7x7 convolution so we could upsample for the SSL model). "
   ]
  },
  {
   "attachments": {},
   "cell_type": "markdown",
   "metadata": {},
   "source": [
    "## Age Regression evaluation"
   ]
  },
  {
   "attachments": {},
   "cell_type": "markdown",
   "metadata": {},
   "source": [
    "We will first contruct 95% confidence intervals for the regression outputs and comnpare them to see if they are statistically different or not. "
   ]
  },
  {
   "cell_type": "code",
   "execution_count": 15,
   "metadata": {},
   "outputs": [],
   "source": [
    "def get_confidence_intervals(yhat_1, yhat_2):\n",
    "    mean1 = np.mean(yhat_1)\n",
    "    mean2 = np.mean(yhat_2)\n",
    "    std1 = np.std(yhat_1)\n",
    "    std2 = np.std(yhat_2)\n",
    "    conf1 = 1.96 * std1 / np.sqrt(len(yhat_1))\n",
    "    conf2 = 1.96 * std2 / np.sqrt(len(yhat_2))\n",
    "    interval1 = (mean1 - conf1, mean1 + conf1)\n",
    "    interval2 = (mean2 - conf2, mean2 + conf2)\n",
    "    return interval1, interval2"
   ]
  },
  {
   "cell_type": "code",
   "execution_count": 13,
   "metadata": {},
   "outputs": [
    {
     "data": {
      "text/plain": [
       "((38.54142131953066, 38.97503528447324),\n",
       " (38.038372822027725, 38.39202421166368))"
      ]
     },
     "execution_count": 13,
     "metadata": {},
     "output_type": "execute_result"
    }
   ],
   "source": [
    "get_confidence_intervals(y_hat_age_regression_model, y_hat_multi_task_model[0])"
   ]
  },
  {
   "attachments": {},
   "cell_type": "markdown",
   "metadata": {},
   "source": [
    "From the result of these confidence intervals, we can see that the single task and multitask models are statistically differenty with a confidence level of 95% based on their confidence intervals not overlapping"
   ]
  },
  {
   "cell_type": "code",
   "execution_count": 14,
   "metadata": {},
   "outputs": [
    {
     "data": {
      "text/plain": [
       "((39.72408843485031, 40.09293579610672),\n",
       " (38.038372822027725, 38.39202421166368))"
      ]
     },
     "execution_count": 14,
     "metadata": {},
     "output_type": "execute_result"
    }
   ],
   "source": [
    "get_confidence_intervals(y_hat_pretrained_multi_task_model[0], y_hat_multi_task_model[0])"
   ]
  },
  {
   "attachments": {},
   "cell_type": "markdown",
   "metadata": {},
   "source": [
    "From the result of these confidence intervals, we can see that the Vanilla Multitask and SSL-Multiask models are statistically differenty with a confidence level of 95% based on their confidence intervals not overlapping"
   ]
  },
  {
   "cell_type": "code",
   "execution_count": 16,
   "metadata": {},
   "outputs": [],
   "source": [
    "#get the mean absolute error for the age regression models:\n",
    "from sklearn.metrics import mean_absolute_error\n",
    "mae_single_task = mean_absolute_error(y_hat_age_regression_model, Y_age_test)\n",
    "mae_multi_task = mean_absolute_error(y_hat_multi_task_model[0], Y_age_test)\n",
    "mae_multi_task_ssl = mean_absolute_error(y_hat_pretrained_multi_task_model[0], Y_age_test)"
   ]
  },
  {
   "cell_type": "code",
   "execution_count": 17,
   "metadata": {},
   "outputs": [
    {
     "name": "stdout",
     "output_type": "stream",
     "text": [
      "Single Task MAE: 9.311\n",
      "Multi Task MAE: 10.076\n",
      "Multi Task + SSL MAE: 10.499\n"
     ]
    }
   ],
   "source": [
    "print(f\"Single Task MAE: {mae_single_task:.3f}\")\n",
    "print(f\"Multi Task MAE: {mae_multi_task:.3f}\")\n",
    "print(f\"Multi Task + SSL MAE: {mae_multi_task_ssl:.3f}\")"
   ]
  },
  {
   "attachments": {},
   "cell_type": "markdown",
   "metadata": {},
   "source": [
    "From this, we can see that the single task model performs the best on age regression, followed by the Vanilla MultiTask Model and the MultiTask SSL Model. This is diifferent from the gender clsasification task in that the single task model is clearly better than both MultiTask models, but shows a similar trend that the Vanilla MultiTask model once again is better than the MulitTask SSL Model. "
   ]
  },
  {
   "attachments": {},
   "cell_type": "markdown",
   "metadata": {},
   "source": [
    "### Conclusion"
   ]
  },
  {
   "attachments": {},
   "cell_type": "markdown",
   "metadata": {},
   "source": [
    "From this analysis, we can see that the single task models were at par or better at there individual tasks than the vanilla multitask model, which was on par with the single task model on gender classification and slightly worse than the other single task model for age regression. However we did notice that obth the multitask models converged faster than the single task models, despite having to learn 2 tasks with essentially the same base architecure. \n",
    "As for the MultiTask-SSL model it was clearly outperformed by the other models, and showed signs of overfitting. This could've been because we didn't try to add noise to the images or provide validation data due to superpod issues, and that may have led to the lerned wieghts being suboptimal (fitting to noise). Additionally, the auxillary task of image reconstruction may not have been optmial for these tasks, and we also kept our arrchitecures the same across models to keep comparisions as fair as possible and didn't add anything extra to the branches in the MultiTask models beyond an output dense layer fpr each task, which may not have been optimal if the network needed more freddom to speicalze for each individual task. "
   ]
  },
  {
   "cell_type": "markdown",
   "metadata": {},
   "source": []
  }
 ],
 "metadata": {
  "kernelspec": {
   "display_name": "Python 3 (ipykernel)",
   "language": "python",
   "name": "python3"
  },
  "language_info": {
   "codemirror_mode": {
    "name": "ipython",
    "version": 3
   },
   "file_extension": ".py",
   "mimetype": "text/x-python",
   "name": "python",
   "nbconvert_exporter": "python",
   "pygments_lexer": "ipython3",
   "version": "3.8.10"
  },
  "orig_nbformat": 4
 },
 "nbformat": 4,
 "nbformat_minor": 2
}
