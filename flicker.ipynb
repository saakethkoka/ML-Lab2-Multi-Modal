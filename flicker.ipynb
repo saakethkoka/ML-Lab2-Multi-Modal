{
 "cells": [
  {
   "cell_type": "code",
   "execution_count": 1,
   "metadata": {},
   "outputs": [
    {
     "name": "stderr",
     "output_type": "stream",
     "text": [
      "2023-03-03 18:10:04.692557: I tensorflow/core/platform/cpu_feature_guard.cc:193] This TensorFlow binary is optimized with oneAPI Deep Neural Network Library (oneDNN) to use the following CPU instructions in performance-critical operations:  AVX2 FMA\n",
      "To enable them in other operations, rebuild TensorFlow with the appropriate compiler flags.\n",
      "2023-03-03 18:10:06.718337: W tensorflow/compiler/xla/stream_executor/platform/default/dso_loader.cc:64] Could not load dynamic library 'libnvinfer.so.7'; dlerror: libnvinfer.so.7: cannot open shared object file: No such file or directory; LD_LIBRARY_PATH: /hpc/mp/spack/opt/spack/linux-ubuntu20.04-zen2/gcc-10.3.0/cudnn-8.2.4.15-11.4-eluwegpwn6adr7hlku5p5wru5xzefpop/lib64:/hpc/mp/spack/opt/spack/linux-ubuntu20.04-zen2/gcc-10.3.0/cuda-11.4.4-ctldo35wmmwws3jbgwkgjjcjawddu3qz/lib64:/hpc/mp/spack/opt/spack/linux-ubuntu20.04-zen2/gcc-10.3.0/neovim-0.7.0-terkir3wk5rst6ktv4uxyaqjditacv5p/lib\n",
      "2023-03-03 18:10:06.718485: W tensorflow/compiler/xla/stream_executor/platform/default/dso_loader.cc:64] Could not load dynamic library 'libnvinfer_plugin.so.7'; dlerror: libnvinfer_plugin.so.7: cannot open shared object file: No such file or directory; LD_LIBRARY_PATH: /hpc/mp/spack/opt/spack/linux-ubuntu20.04-zen2/gcc-10.3.0/cudnn-8.2.4.15-11.4-eluwegpwn6adr7hlku5p5wru5xzefpop/lib64:/hpc/mp/spack/opt/spack/linux-ubuntu20.04-zen2/gcc-10.3.0/cuda-11.4.4-ctldo35wmmwws3jbgwkgjjcjawddu3qz/lib64:/hpc/mp/spack/opt/spack/linux-ubuntu20.04-zen2/gcc-10.3.0/neovim-0.7.0-terkir3wk5rst6ktv4uxyaqjditacv5p/lib\n",
      "2023-03-03 18:10:06.718499: W tensorflow/compiler/tf2tensorrt/utils/py_utils.cc:38] TF-TRT Warning: Cannot dlopen some TensorRT libraries. If you would like to use Nvidia GPU with TensorRT, please make sure the missing libraries mentioned above are installed properly.\n"
     ]
    }
   ],
   "source": [
    "import pandas as pd\n",
    "import numpy as np\n",
    "from PIL import Image\n",
    "import os\n",
    "import pickle\n",
    "from IPython.display import Image as IPyImage\n",
    "from IPython.display import display\n",
    "import tensorflow as tf\n",
    "import re\n",
    "from tensorflow.keras.preprocessing.text import Tokenizer, text_to_word_sequence\n",
    "from tensorflow.keras.preprocessing.sequence import pad_sequences\n",
    "from tensorflow.keras.utils import to_categorical\n",
    "import matplotlib.pyplot as plt\n",
    "import pydot"
   ]
  },
  {
   "attachments": {},
   "cell_type": "markdown",
   "metadata": {},
   "source": [
    "### Constants"
   ]
  },
  {
   "cell_type": "code",
   "execution_count": 2,
   "metadata": {},
   "outputs": [],
   "source": [
    "IMAGES_DIRECTORY = \"/work/users/skoka/Data/flickr30k_images/flickr30k_images/\"\n",
    "LABELS_FILE = \"/work/users/skoka/Data/flickr30k_images/results.csv\"\n",
    "PICKLE_DIRECTORY = \"/work/users/skoka/Data/flicker30k_pickles/\"\n",
    "GET_FROM_PICKLE = True"
   ]
  },
  {
   "cell_type": "code",
   "execution_count": 3,
   "metadata": {},
   "outputs": [],
   "source": [
    "# reading in the labels\n",
    "labels = pd.read_csv(LABELS_FILE, delimiter='|')\n",
    "# convert labels[ ' comment' ] to strings\n",
    "labels[' comment'] = labels[' comment'].astype(str)\n",
    "\n",
    "# list of .jpg files from the directory\n",
    "image_files = [f for f in os.listdir(IMAGES_DIRECTORY) if f.endswith('.jpg')]"
   ]
  },
  {
   "cell_type": "code",
   "execution_count": 4,
   "metadata": {},
   "outputs": [
    {
     "name": "stdout",
     "output_type": "stream",
     "text": [
      "Average number of words in a sentence:  13.389340213321587\n"
     ]
    }
   ],
   "source": [
    "# Average number of words in a sentence\n",
    "avg_words = 0\n",
    "for i in range(len(labels)):\n",
    "    avg_words += len(labels[' comment'][i].split())\n",
    "avg_words = avg_words / len(labels)\n",
    "print(\"Average number of words in a sentence: \", avg_words)"
   ]
  },
  {
   "cell_type": "code",
   "execution_count": 5,
   "metadata": {},
   "outputs": [],
   "source": [
    "# Converts a jpg file to a numpy array\n",
    "def _read_jpg(filename):\n",
    "    im = Image.open(filename)\n",
    "    # resize to 224x224\n",
    "    im = im.resize((224, 224))\n",
    "    return np.array(im)\n",
    "\n",
    "def process_files(files):\n",
    "    images = {\n",
    "        # \"filename_without_extension\" : numpy_array_of_image\n",
    "    }\n",
    "    num_read = 0\n",
    "    for f in files:\n",
    "        image_name = f.split('.')[0]\n",
    "        image = _read_jpg(IMAGES_DIRECTORY + f)\n",
    "        images[image_name] = {\n",
    "            \"image\": _read_jpg(IMAGES_DIRECTORY + f),\n",
    "            \"captions\": labels[labels.image_name == (image_name + \".jpg\")][\" comment\"].tolist()\n",
    "            }\n",
    "        num_read += 1\n",
    "        if num_read % 1000 == 0:\n",
    "            print(\"Read {} files\".format(num_read))\n",
    "    return images\n",
    "if not GET_FROM_PICKLE:\n",
    "    images = process_files(image_files)\n",
    "    with open(PICKLE_DIRECTORY + \"flicker_images.pkl\", \"wb\") as f:\n",
    "        pickle.dump(images, f)\n",
    "else:\n",
    "    with open(PICKLE_DIRECTORY + \"flicker_images.pkl\", \"rb\") as f:\n",
    "        images = pickle.load(f)"
   ]
  },
  {
   "attachments": {},
   "cell_type": "markdown",
   "metadata": {},
   "source": [
    "### Data Formatting\n",
    "{\n",
    "    \"image_name\" : {\n",
    "        \"image\" : \"image\", // Numpy array of the image\n",
    "        \"captions\" :  [\n",
    "            \"caption 1\",\n",
    "            \"caption 2\",\n",
    "            ...\n",
    "        ]\n",
    "    }\n",
    "}"
   ]
  },
  {
   "cell_type": "code",
   "execution_count": 6,
   "metadata": {},
   "outputs": [],
   "source": [
    "from keras.preprocessing.text import Tokenizer\n",
    "captions = labels[\" comment\"].to_numpy()\n",
    "tokenizer = Tokenizer()\n",
    "tokenizer.fit_on_texts(captions)\n",
    "tokenizer.fit_on_texts(['staaaart', 'endddd'])\n",
    "vocab_size = len(tokenizer.word_index) + 1\n",
    "# tokenizer.word_index['staaaart'] = vocab_size -1\n",
    "# tokenizer.word_index['endddd'] = vocab_size\n",
    "word_index = tokenizer.word_index"
   ]
  },
  {
   "cell_type": "code",
   "execution_count": 7,
   "metadata": {},
   "outputs": [
    {
     "data": {
      "text/plain": [
       "18315"
      ]
     },
     "execution_count": 7,
     "metadata": {},
     "output_type": "execute_result"
    }
   ],
   "source": [
    "len(word_index)"
   ]
  },
  {
   "cell_type": "code",
   "execution_count": 8,
   "metadata": {},
   "outputs": [],
   "source": [
    "\n",
    "with open(\"/work/users/skoka/Data/flicker30k_pickles/features.pkl\", \"rb\") as f:\n",
    "    features = pickle.load(f)"
   ]
  },
  {
   "cell_type": "code",
   "execution_count": 12,
   "metadata": {},
   "outputs": [],
   "source": [
    "MAX_CAPTION_LENGTH = 20\n",
    "def clean_caption(caption):\n",
    "    caption = caption.lower()\n",
    "    # remove non alphanumeric characters\n",
    "    caption = re.sub(r'[^a-zA-Z0-9\\s]', '', caption)\n",
    "    # add start and end tokens\n",
    "    caption = 'staaaart ' + caption + ' endddd'\n",
    "    return caption\n",
    "\n",
    "images_passed_in = set()\n",
    "\n",
    "\n",
    "def data_generator(batch_size=32):\n",
    "    X1, X2, y = [], [], []\n",
    "    n = 0\n",
    "    while True:\n",
    "        for image_name, image_data in images.items():\n",
    "            # add image_name to images_passed_in if not already there\n",
    "            if image_name not in images_passed_in:\n",
    "                images_passed_in.add(image_name)\n",
    "            # image = image_data[\"image\"]\n",
    "            image = features[image_name + \".jpg\"]\n",
    "            captions = image_data[\"captions\"]\n",
    "            for caption in captions:\n",
    "                caption = clean_caption(caption)\n",
    "                caption = tokenizer.texts_to_sequences([caption])[0]\n",
    "                for i in range(1, len(caption)):\n",
    "                    in_seq, out_seq = caption[:i], caption[i]\n",
    "                    in_seq = pad_sequences([in_seq], maxlen=MAX_CAPTION_LENGTH)[0]\n",
    "                    out_seq = to_categorical([out_seq], num_classes=vocab_size)[0]\n",
    "                    X1.append(image)\n",
    "                    X2.append(in_seq)\n",
    "                    y.append(out_seq)\n",
    "                    n += 1\n",
    "                    if n == batch_size:\n",
    "                        X1 = np.array(X1)\n",
    "                        X1 = X1 / 255\n",
    "                        X2 = np.array(X2)\n",
    "                        y = np.array(y)\n",
    "                        yield [X1, X2], y\n",
    "                        X1, X2, y = [], [], []\n",
    "                        n = 0"
   ]
  },
  {
   "cell_type": "code",
   "execution_count": 12,
   "metadata": {},
   "outputs": [],
   "source": [
    "# index = 134\n",
    "# image = X1[index]\n",
    "# # turn image into an Image object\n",
    "# image = Image.fromarray(image.astype('uint8'), 'RGB')\n",
    "# # print caption for the image, X2[0] is the caption\n",
    "# caption = tokenizer.sequences_to_texts([X2[index]])[0]\n",
    "# print(caption)\n",
    "# yhat = np.argmax(y[index])\n",
    "# word = tokenizer.index_word[yhat]\n",
    "# print(word)\n",
    "# image.show()"
   ]
  },
  {
   "cell_type": "code",
   "execution_count": 13,
   "metadata": {},
   "outputs": [],
   "source": [
    "def load_embeddings(filename, embed_size):\n",
    "    # the embed size should match the file you load glove from\n",
    "    embeddings_index = {}\n",
    "    f = open(filename)\n",
    "    # save key/array pairs of the embeddings\n",
    "    #  the key of the dictionary is the word, the array is the embedding\n",
    "    for line in f:\n",
    "        values = line.split()\n",
    "        word = values[0]\n",
    "        coefs = np.asarray(values[1:], dtype='float32')\n",
    "        embeddings_index[word] = coefs\n",
    "    f.close()\n",
    "\n",
    "    print('Found %s word vectors.' % len(embeddings_index))\n",
    "\n",
    "    # now fill in the matrix, using the ordering from the\n",
    "    #  keras word tokenizer from before\n",
    "    found_words = 0\n",
    "    embedding_matrix = np.zeros((len(word_index) + 1, embed_size))\n",
    "    for word, i in word_index.items():\n",
    "        embedding_vector = embeddings_index.get(word)\n",
    "        if embedding_vector is not None:\n",
    "            # words not found in embedding index will be ALL-ZEROS\n",
    "            embedding_matrix[i] = embedding_vector\n",
    "            found_words = found_words+1\n",
    "\n",
    "    print(\"Embedding Shape:\",embedding_matrix.shape, \"\\n\",\n",
    "        \"Total words found:\",found_words, \"\\n\",\n",
    "        \"Percentage:\",100*found_words/embedding_matrix.shape[0])\n",
    "    return embedding_matrix\n",
    "\n",
    "# embedding_matrix = load_embeddings(\"/users/skoka/Documents/ML-Lab2-Multi-Modal/numberbatch-en-19.08.txt\", 300)"
   ]
  },
  {
   "cell_type": "code",
   "execution_count": 35,
   "metadata": {},
   "outputs": [
    {
     "name": "stdout",
     "output_type": "stream",
     "text": [
      "Model: \"model_4\"\n",
      "__________________________________________________________________________________________________\n",
      " Layer (type)                   Output Shape         Param #     Connected to                     \n",
      "==================================================================================================\n",
      " input_7 (InputLayer)           [(None, 1920)]       0           []                               \n",
      "                                                                                                  \n",
      " flatten_3 (Flatten)            (None, 1920)         0           ['input_7[0][0]']                \n",
      "                                                                                                  \n",
      " dense_9 (Dense)                (None, 256)          491776      ['flatten_3[0][0]']              \n",
      "                                                                                                  \n",
      " input_8 (InputLayer)           [(None, 20)]         0           []                               \n",
      "                                                                                                  \n",
      " reshape_3 (Reshape)            (None, 1, 256)       0           ['dense_9[0][0]']                \n",
      "                                                                                                  \n",
      " embedding_3 (Embedding)        (None, 20, 256)      4688896     ['input_8[0][0]']                \n",
      "                                                                                                  \n",
      " concatenate_3 (Concatenate)    (None, 21, 256)      0           ['reshape_3[0][0]',              \n",
      "                                                                  'embedding_3[0][0]']            \n",
      "                                                                                                  \n",
      " lstm_3 (LSTM)                  (None, 256)          525312      ['concatenate_3[0][0]']          \n",
      "                                                                                                  \n",
      " add_3 (Add)                    (None, 256)          0           ['dense_9[0][0]',                \n",
      "                                                                  'lstm_3[0][0]']                 \n",
      "                                                                                                  \n",
      " dense_10 (Dense)               (None, 256)          65792       ['add_3[0][0]']                  \n",
      "                                                                                                  \n",
      " dense_11 (Dense)               (None, 18316)        4707212     ['dense_10[0][0]']               \n",
      "                                                                                                  \n",
      "==================================================================================================\n",
      "Total params: 10,478,988\n",
      "Trainable params: 10,478,988\n",
      "Non-trainable params: 0\n",
      "__________________________________________________________________________________________________\n"
     ]
    }
   ],
   "source": [
    "# Build a VGG model that takes input of size 250x250x3\n",
    "# vgg = tf.keras.applications.VGG19(input_shape=(224, 224, 3), include_top=False, weights='imagenet')\n",
    "\n",
    "# # remove the last layer of the VGG model\n",
    "# vgg = tf.keras.Model(inputs=vgg.inputs, outputs=vgg.layers[-2].output)\n",
    "# vgg.trainable = False\n",
    "\n",
    "image_input = tf.keras.layers.Input(shape=(1920,))\n",
    "\n",
    "\n",
    "image_dense = tf.keras.layers.Flatten()(image_input)\n",
    "image_dense = tf.keras.layers.Dense(256, activation='relu')(image_dense)\n",
    "image_reshaped = tf.keras.layers.Reshape((1, 256))(image_dense)\n",
    "\n",
    "caption_input = tf.keras.layers.Input(shape=(MAX_CAPTION_LENGTH,))\n",
    "caption_embedding = tf.keras.layers.Embedding(vocab_size, 256, mask_zero=False)(caption_input)\n",
    "\n",
    "# Merge the two models\n",
    "decoder_add = tf.keras.layers.concatenate([image_reshaped, caption_embedding], axis=1)\n",
    "\n",
    "# bi directonal LSTM\n",
    "decoder_lstm = tf.keras.layers.LSTM(256)(decoder_add)\n",
    "x = tf.keras.layers.add([image_dense, decoder_lstm])\n",
    "x = tf.keras.layers.Dense(256, activation='relu')(x)\n",
    "outputs = tf.keras.layers.Dense(vocab_size, activation='softmax')(x)\n",
    "\n",
    "model = tf.keras.Model(inputs=[image_input, caption_input], outputs=outputs)\n",
    "model.compile(loss='categorical_crossentropy', optimizer='adam')\n",
    "\n",
    "# plot model:\n",
    "model.summary()"
   ]
  },
  {
   "cell_type": "code",
   "execution_count": 53,
   "metadata": {},
   "outputs": [],
   "source": [
    "from keras.layers import Input, Dense, LSTM, Embedding, Dropout, Reshape, concatenate, add\n",
    "from keras.models import Model\n",
    "\n",
    "input1 = Input(shape=(1920,))\n",
    "input2 = Input(shape=(MAX_CAPTION_LENGTH,))\n",
    "\n",
    "img_features = Dense(256, activation='relu')(input1)\n",
    "img_features_reshaped = Reshape((1, 256), input_shape=(256,))(img_features)\n",
    "\n",
    "sentence_features = Embedding(vocab_size, 256, mask_zero=False)(input2)\n",
    "merged = concatenate([img_features_reshaped,sentence_features],axis=1)\n",
    "sentence_features = LSTM(256)(merged)\n",
    "x = Dropout(0.5)(sentence_features)\n",
    "x = add([x, img_features])\n",
    "x = Dense(128, activation='relu')(x)\n",
    "x = Dropout(0.5)(x)\n",
    "output = Dense(vocab_size, activation='softmax')(x)\n",
    "\n",
    "caption_model = Model(inputs=[input1,input2], outputs=output)\n",
    "caption_model.compile(loss='categorical_crossentropy',optimizer='adam')"
   ]
  },
  {
   "cell_type": "code",
   "execution_count": 54,
   "metadata": {},
   "outputs": [],
   "source": [
    "# model save callback:\n",
    "path = \"model.h5\"\n",
    "checkpoint = tf.keras.callbacks.ModelCheckpoint(path, monitor='loss', save_best_only=True, mode='min')\n"
   ]
  },
  {
   "cell_type": "code",
   "execution_count": 57,
   "metadata": {},
   "outputs": [
    {
     "name": "stdout",
     "output_type": "stream",
     "text": [
      "Epoch 1/90\n",
      "   7/1000 [..............................] - ETA: 9s - loss: 3.8498 "
     ]
    },
    {
     "name": "stderr",
     "output_type": "stream",
     "text": [
      "/tmp/ipykernel_3682367/3239092504.py:1: UserWarning: `Model.fit_generator` is deprecated and will be removed in a future version. Please use `Model.fit`, which supports generators.\n",
      "  history = caption_model.fit_generator(data_generator(batch_size=64),\n"
     ]
    },
    {
     "name": "stdout",
     "output_type": "stream",
     "text": [
      "1000/1000 [==============================] - 9s 9ms/step - loss: 3.9956 - lr: 8.0000e-06\n",
      "Epoch 2/90\n",
      "1000/1000 [==============================] - 9s 9ms/step - loss: 4.0054 - lr: 8.0000e-06\n",
      "Epoch 3/90\n",
      "1000/1000 [==============================] - 9s 9ms/step - loss: 3.9939 - lr: 8.0000e-06\n",
      "Epoch 4/90\n",
      "1000/1000 [==============================] - 9s 9ms/step - loss: 3.9731 - lr: 8.0000e-06\n",
      "Epoch 5/90\n",
      "1000/1000 [==============================] - 8s 8ms/step - loss: 4.0010 - lr: 8.0000e-06\n",
      "Epoch 6/90\n",
      "1000/1000 [==============================] - 8s 8ms/step - loss: 3.9685 - lr: 8.0000e-06\n",
      "Epoch 7/90\n",
      "1000/1000 [==============================] - 8s 8ms/step - loss: 3.9638 - lr: 8.0000e-06\n",
      "Epoch 8/90\n",
      "1000/1000 [==============================] - 9s 9ms/step - loss: 3.9583 - lr: 8.0000e-06\n",
      "Epoch 9/90\n",
      "1000/1000 [==============================] - 9s 9ms/step - loss: 3.9852 - lr: 8.0000e-06\n",
      "Epoch 10/90\n",
      "1000/1000 [==============================] - 8s 8ms/step - loss: 3.9579 - lr: 8.0000e-06\n",
      "Epoch 11/90\n",
      "1000/1000 [==============================] - 8s 8ms/step - loss: 3.9789 - lr: 8.0000e-06\n",
      "Epoch 12/90\n",
      "1000/1000 [==============================] - 8s 8ms/step - loss: 3.9546 - lr: 8.0000e-06\n",
      "Epoch 13/90\n",
      "1000/1000 [==============================] - 9s 9ms/step - loss: 3.9780 - lr: 8.0000e-06\n",
      "Epoch 14/90\n",
      " 998/1000 [============================>.] - ETA: 0s - loss: 3.9611\n",
      "Epoch 14: ReduceLROnPlateau reducing learning rate to 1.6000001778593287e-06.\n",
      "1000/1000 [==============================] - 8s 8ms/step - loss: 3.9599 - lr: 8.0000e-06\n",
      "Epoch 15/90\n",
      "1000/1000 [==============================] - 8s 8ms/step - loss: 3.9670 - lr: 1.6000e-06\n",
      "Epoch 16/90\n",
      "1000/1000 [==============================] - 9s 9ms/step - loss: 3.9512 - lr: 1.6000e-06\n",
      "Epoch 17/90\n",
      "1000/1000 [==============================] - 8s 8ms/step - loss: 3.9648 - lr: 1.6000e-06\n",
      "Epoch 18/90\n",
      " 995/1000 [============================>.] - ETA: 0s - loss: 3.9692\n",
      "Epoch 18: ReduceLROnPlateau reducing learning rate to 3.200000264769187e-07.\n",
      "1000/1000 [==============================] - 8s 8ms/step - loss: 3.9688 - lr: 1.6000e-06\n",
      "Epoch 19/90\n",
      "1000/1000 [==============================] - 9s 9ms/step - loss: 3.9585 - lr: 3.2000e-07\n",
      "Epoch 20/90\n",
      " 995/1000 [============================>.] - ETA: 0s - loss: 3.9682\n",
      "Epoch 20: ReduceLROnPlateau reducing learning rate to 6.400000529538374e-08.\n",
      "1000/1000 [==============================] - 9s 9ms/step - loss: 3.9661 - lr: 3.2000e-07\n",
      "Epoch 21/90\n",
      " 618/1000 [=================>............] - ETA: 3s - loss: 3.9389"
     ]
    },
    {
     "ename": "KeyboardInterrupt",
     "evalue": "",
     "output_type": "error",
     "traceback": [
      "\u001b[0;31m---------------------------------------------------------------------------\u001b[0m",
      "\u001b[0;31mKeyboardInterrupt\u001b[0m                         Traceback (most recent call last)",
      "Cell \u001b[0;32mIn[57], line 1\u001b[0m\n\u001b[0;32m----> 1\u001b[0m history \u001b[39m=\u001b[39m caption_model\u001b[39m.\u001b[39;49mfit_generator(data_generator(batch_size\u001b[39m=\u001b[39;49m\u001b[39m64\u001b[39;49m),\n\u001b[1;32m      2\u001b[0m                                 epochs\u001b[39m=\u001b[39;49m\u001b[39m90\u001b[39;49m,\n\u001b[1;32m      3\u001b[0m                                 steps_per_epoch\u001b[39m=\u001b[39;49m\u001b[39m1000\u001b[39;49m,\n\u001b[1;32m      4\u001b[0m                                 callbacks\u001b[39m=\u001b[39;49m[tf\u001b[39m.\u001b[39;49mkeras\u001b[39m.\u001b[39;49mcallbacks\u001b[39m.\u001b[39;49mReduceLROnPlateau(monitor\u001b[39m=\u001b[39;49m\u001b[39m'\u001b[39;49m\u001b[39mloss\u001b[39;49m\u001b[39m'\u001b[39;49m, factor\u001b[39m=\u001b[39;49m\u001b[39m0.2\u001b[39;49m, patience\u001b[39m=\u001b[39;49m\u001b[39m2\u001b[39;49m, min_lr\u001b[39m=\u001b[39;49m\u001b[39m0.00000001\u001b[39;49m, verbose\u001b[39m=\u001b[39;49m\u001b[39m1\u001b[39;49m)],\n\u001b[1;32m      5\u001b[0m                                 verbose\u001b[39m=\u001b[39;49m\u001b[39m1\u001b[39;49m)\n",
      "File \u001b[0;32m~/.venv/tensorflow/lib/python3.8/site-packages/keras/engine/training.py:2604\u001b[0m, in \u001b[0;36mModel.fit_generator\u001b[0;34m(self, generator, steps_per_epoch, epochs, verbose, callbacks, validation_data, validation_steps, validation_freq, class_weight, max_queue_size, workers, use_multiprocessing, shuffle, initial_epoch)\u001b[0m\n\u001b[1;32m   2592\u001b[0m \u001b[39m\u001b[39m\u001b[39m\"\"\"Fits the model on data yielded batch-by-batch by a Python generator.\u001b[39;00m\n\u001b[1;32m   2593\u001b[0m \n\u001b[1;32m   2594\u001b[0m \u001b[39mDEPRECATED:\u001b[39;00m\n\u001b[1;32m   2595\u001b[0m \u001b[39m  `Model.fit` now supports generators, so there is no longer any need to\u001b[39;00m\n\u001b[1;32m   2596\u001b[0m \u001b[39m  use this endpoint.\u001b[39;00m\n\u001b[1;32m   2597\u001b[0m \u001b[39m\"\"\"\u001b[39;00m\n\u001b[1;32m   2598\u001b[0m warnings\u001b[39m.\u001b[39mwarn(\n\u001b[1;32m   2599\u001b[0m     \u001b[39m\"\u001b[39m\u001b[39m`Model.fit_generator` is deprecated and \u001b[39m\u001b[39m\"\u001b[39m\n\u001b[1;32m   2600\u001b[0m     \u001b[39m\"\u001b[39m\u001b[39mwill be removed in a future version. \u001b[39m\u001b[39m\"\u001b[39m\n\u001b[1;32m   2601\u001b[0m     \u001b[39m\"\u001b[39m\u001b[39mPlease use `Model.fit`, which supports generators.\u001b[39m\u001b[39m\"\u001b[39m,\n\u001b[1;32m   2602\u001b[0m     stacklevel\u001b[39m=\u001b[39m\u001b[39m2\u001b[39m,\n\u001b[1;32m   2603\u001b[0m )\n\u001b[0;32m-> 2604\u001b[0m \u001b[39mreturn\u001b[39;00m \u001b[39mself\u001b[39;49m\u001b[39m.\u001b[39;49mfit(\n\u001b[1;32m   2605\u001b[0m     generator,\n\u001b[1;32m   2606\u001b[0m     steps_per_epoch\u001b[39m=\u001b[39;49msteps_per_epoch,\n\u001b[1;32m   2607\u001b[0m     epochs\u001b[39m=\u001b[39;49mepochs,\n\u001b[1;32m   2608\u001b[0m     verbose\u001b[39m=\u001b[39;49mverbose,\n\u001b[1;32m   2609\u001b[0m     callbacks\u001b[39m=\u001b[39;49mcallbacks,\n\u001b[1;32m   2610\u001b[0m     validation_data\u001b[39m=\u001b[39;49mvalidation_data,\n\u001b[1;32m   2611\u001b[0m     validation_steps\u001b[39m=\u001b[39;49mvalidation_steps,\n\u001b[1;32m   2612\u001b[0m     validation_freq\u001b[39m=\u001b[39;49mvalidation_freq,\n\u001b[1;32m   2613\u001b[0m     class_weight\u001b[39m=\u001b[39;49mclass_weight,\n\u001b[1;32m   2614\u001b[0m     max_queue_size\u001b[39m=\u001b[39;49mmax_queue_size,\n\u001b[1;32m   2615\u001b[0m     workers\u001b[39m=\u001b[39;49mworkers,\n\u001b[1;32m   2616\u001b[0m     use_multiprocessing\u001b[39m=\u001b[39;49muse_multiprocessing,\n\u001b[1;32m   2617\u001b[0m     shuffle\u001b[39m=\u001b[39;49mshuffle,\n\u001b[1;32m   2618\u001b[0m     initial_epoch\u001b[39m=\u001b[39;49minitial_epoch,\n\u001b[1;32m   2619\u001b[0m )\n",
      "File \u001b[0;32m~/.venv/tensorflow/lib/python3.8/site-packages/keras/utils/traceback_utils.py:65\u001b[0m, in \u001b[0;36mfilter_traceback.<locals>.error_handler\u001b[0;34m(*args, **kwargs)\u001b[0m\n\u001b[1;32m     63\u001b[0m filtered_tb \u001b[39m=\u001b[39m \u001b[39mNone\u001b[39;00m\n\u001b[1;32m     64\u001b[0m \u001b[39mtry\u001b[39;00m:\n\u001b[0;32m---> 65\u001b[0m     \u001b[39mreturn\u001b[39;00m fn(\u001b[39m*\u001b[39;49margs, \u001b[39m*\u001b[39;49m\u001b[39m*\u001b[39;49mkwargs)\n\u001b[1;32m     66\u001b[0m \u001b[39mexcept\u001b[39;00m \u001b[39mException\u001b[39;00m \u001b[39mas\u001b[39;00m e:\n\u001b[1;32m     67\u001b[0m     filtered_tb \u001b[39m=\u001b[39m _process_traceback_frames(e\u001b[39m.\u001b[39m__traceback__)\n",
      "File \u001b[0;32m~/.venv/tensorflow/lib/python3.8/site-packages/keras/engine/training.py:1650\u001b[0m, in \u001b[0;36mModel.fit\u001b[0;34m(self, x, y, batch_size, epochs, verbose, callbacks, validation_split, validation_data, shuffle, class_weight, sample_weight, initial_epoch, steps_per_epoch, validation_steps, validation_batch_size, validation_freq, max_queue_size, workers, use_multiprocessing)\u001b[0m\n\u001b[1;32m   1642\u001b[0m \u001b[39mwith\u001b[39;00m tf\u001b[39m.\u001b[39mprofiler\u001b[39m.\u001b[39mexperimental\u001b[39m.\u001b[39mTrace(\n\u001b[1;32m   1643\u001b[0m     \u001b[39m\"\u001b[39m\u001b[39mtrain\u001b[39m\u001b[39m\"\u001b[39m,\n\u001b[1;32m   1644\u001b[0m     epoch_num\u001b[39m=\u001b[39mepoch,\n\u001b[0;32m   (...)\u001b[0m\n\u001b[1;32m   1647\u001b[0m     _r\u001b[39m=\u001b[39m\u001b[39m1\u001b[39m,\n\u001b[1;32m   1648\u001b[0m ):\n\u001b[1;32m   1649\u001b[0m     callbacks\u001b[39m.\u001b[39mon_train_batch_begin(step)\n\u001b[0;32m-> 1650\u001b[0m     tmp_logs \u001b[39m=\u001b[39m \u001b[39mself\u001b[39;49m\u001b[39m.\u001b[39;49mtrain_function(iterator)\n\u001b[1;32m   1651\u001b[0m     \u001b[39mif\u001b[39;00m data_handler\u001b[39m.\u001b[39mshould_sync:\n\u001b[1;32m   1652\u001b[0m         context\u001b[39m.\u001b[39masync_wait()\n",
      "File \u001b[0;32m~/.venv/tensorflow/lib/python3.8/site-packages/tensorflow/python/util/traceback_utils.py:150\u001b[0m, in \u001b[0;36mfilter_traceback.<locals>.error_handler\u001b[0;34m(*args, **kwargs)\u001b[0m\n\u001b[1;32m    148\u001b[0m filtered_tb \u001b[39m=\u001b[39m \u001b[39mNone\u001b[39;00m\n\u001b[1;32m    149\u001b[0m \u001b[39mtry\u001b[39;00m:\n\u001b[0;32m--> 150\u001b[0m   \u001b[39mreturn\u001b[39;00m fn(\u001b[39m*\u001b[39;49margs, \u001b[39m*\u001b[39;49m\u001b[39m*\u001b[39;49mkwargs)\n\u001b[1;32m    151\u001b[0m \u001b[39mexcept\u001b[39;00m \u001b[39mException\u001b[39;00m \u001b[39mas\u001b[39;00m e:\n\u001b[1;32m    152\u001b[0m   filtered_tb \u001b[39m=\u001b[39m _process_traceback_frames(e\u001b[39m.\u001b[39m__traceback__)\n",
      "File \u001b[0;32m~/.venv/tensorflow/lib/python3.8/site-packages/tensorflow/python/eager/polymorphic_function/polymorphic_function.py:880\u001b[0m, in \u001b[0;36mFunction.__call__\u001b[0;34m(self, *args, **kwds)\u001b[0m\n\u001b[1;32m    877\u001b[0m compiler \u001b[39m=\u001b[39m \u001b[39m\"\u001b[39m\u001b[39mxla\u001b[39m\u001b[39m\"\u001b[39m \u001b[39mif\u001b[39;00m \u001b[39mself\u001b[39m\u001b[39m.\u001b[39m_jit_compile \u001b[39melse\u001b[39;00m \u001b[39m\"\u001b[39m\u001b[39mnonXla\u001b[39m\u001b[39m\"\u001b[39m\n\u001b[1;32m    879\u001b[0m \u001b[39mwith\u001b[39;00m OptionalXlaContext(\u001b[39mself\u001b[39m\u001b[39m.\u001b[39m_jit_compile):\n\u001b[0;32m--> 880\u001b[0m   result \u001b[39m=\u001b[39m \u001b[39mself\u001b[39;49m\u001b[39m.\u001b[39;49m_call(\u001b[39m*\u001b[39;49margs, \u001b[39m*\u001b[39;49m\u001b[39m*\u001b[39;49mkwds)\n\u001b[1;32m    882\u001b[0m new_tracing_count \u001b[39m=\u001b[39m \u001b[39mself\u001b[39m\u001b[39m.\u001b[39mexperimental_get_tracing_count()\n\u001b[1;32m    883\u001b[0m without_tracing \u001b[39m=\u001b[39m (tracing_count \u001b[39m==\u001b[39m new_tracing_count)\n",
      "File \u001b[0;32m~/.venv/tensorflow/lib/python3.8/site-packages/tensorflow/python/eager/polymorphic_function/polymorphic_function.py:912\u001b[0m, in \u001b[0;36mFunction._call\u001b[0;34m(self, *args, **kwds)\u001b[0m\n\u001b[1;32m    909\u001b[0m   \u001b[39mself\u001b[39m\u001b[39m.\u001b[39m_lock\u001b[39m.\u001b[39mrelease()\n\u001b[1;32m    910\u001b[0m   \u001b[39m# In this case we have created variables on the first call, so we run the\u001b[39;00m\n\u001b[1;32m    911\u001b[0m   \u001b[39m# defunned version which is guaranteed to never create variables.\u001b[39;00m\n\u001b[0;32m--> 912\u001b[0m   \u001b[39mreturn\u001b[39;00m \u001b[39mself\u001b[39;49m\u001b[39m.\u001b[39;49m_no_variable_creation_fn(\u001b[39m*\u001b[39;49margs, \u001b[39m*\u001b[39;49m\u001b[39m*\u001b[39;49mkwds)  \u001b[39m# pylint: disable=not-callable\u001b[39;00m\n\u001b[1;32m    913\u001b[0m \u001b[39melif\u001b[39;00m \u001b[39mself\u001b[39m\u001b[39m.\u001b[39m_variable_creation_fn \u001b[39mis\u001b[39;00m \u001b[39mnot\u001b[39;00m \u001b[39mNone\u001b[39;00m:\n\u001b[1;32m    914\u001b[0m   \u001b[39m# Release the lock early so that multiple threads can perform the call\u001b[39;00m\n\u001b[1;32m    915\u001b[0m   \u001b[39m# in parallel.\u001b[39;00m\n\u001b[1;32m    916\u001b[0m   \u001b[39mself\u001b[39m\u001b[39m.\u001b[39m_lock\u001b[39m.\u001b[39mrelease()\n",
      "File \u001b[0;32m~/.venv/tensorflow/lib/python3.8/site-packages/tensorflow/python/eager/polymorphic_function/tracing_compiler.py:134\u001b[0m, in \u001b[0;36mTracingCompiler.__call__\u001b[0;34m(self, *args, **kwargs)\u001b[0m\n\u001b[1;32m    131\u001b[0m \u001b[39mwith\u001b[39;00m \u001b[39mself\u001b[39m\u001b[39m.\u001b[39m_lock:\n\u001b[1;32m    132\u001b[0m   (concrete_function,\n\u001b[1;32m    133\u001b[0m    filtered_flat_args) \u001b[39m=\u001b[39m \u001b[39mself\u001b[39m\u001b[39m.\u001b[39m_maybe_define_function(args, kwargs)\n\u001b[0;32m--> 134\u001b[0m \u001b[39mreturn\u001b[39;00m concrete_function\u001b[39m.\u001b[39;49m_call_flat(\n\u001b[1;32m    135\u001b[0m     filtered_flat_args, captured_inputs\u001b[39m=\u001b[39;49mconcrete_function\u001b[39m.\u001b[39;49mcaptured_inputs)\n",
      "File \u001b[0;32m~/.venv/tensorflow/lib/python3.8/site-packages/tensorflow/python/eager/polymorphic_function/monomorphic_function.py:1745\u001b[0m, in \u001b[0;36mConcreteFunction._call_flat\u001b[0;34m(self, args, captured_inputs, cancellation_manager)\u001b[0m\n\u001b[1;32m   1741\u001b[0m possible_gradient_type \u001b[39m=\u001b[39m gradients_util\u001b[39m.\u001b[39mPossibleTapeGradientTypes(args)\n\u001b[1;32m   1742\u001b[0m \u001b[39mif\u001b[39;00m (possible_gradient_type \u001b[39m==\u001b[39m gradients_util\u001b[39m.\u001b[39mPOSSIBLE_GRADIENT_TYPES_NONE\n\u001b[1;32m   1743\u001b[0m     \u001b[39mand\u001b[39;00m executing_eagerly):\n\u001b[1;32m   1744\u001b[0m   \u001b[39m# No tape is watching; skip to running the function.\u001b[39;00m\n\u001b[0;32m-> 1745\u001b[0m   \u001b[39mreturn\u001b[39;00m \u001b[39mself\u001b[39m\u001b[39m.\u001b[39m_build_call_outputs(\u001b[39mself\u001b[39;49m\u001b[39m.\u001b[39;49m_inference_function\u001b[39m.\u001b[39;49mcall(\n\u001b[1;32m   1746\u001b[0m       ctx, args, cancellation_manager\u001b[39m=\u001b[39;49mcancellation_manager))\n\u001b[1;32m   1747\u001b[0m forward_backward \u001b[39m=\u001b[39m \u001b[39mself\u001b[39m\u001b[39m.\u001b[39m_select_forward_and_backward_functions(\n\u001b[1;32m   1748\u001b[0m     args,\n\u001b[1;32m   1749\u001b[0m     possible_gradient_type,\n\u001b[1;32m   1750\u001b[0m     executing_eagerly)\n\u001b[1;32m   1751\u001b[0m forward_function, args_with_tangents \u001b[39m=\u001b[39m forward_backward\u001b[39m.\u001b[39mforward()\n",
      "File \u001b[0;32m~/.venv/tensorflow/lib/python3.8/site-packages/tensorflow/python/eager/polymorphic_function/monomorphic_function.py:378\u001b[0m, in \u001b[0;36m_EagerDefinedFunction.call\u001b[0;34m(self, ctx, args, cancellation_manager)\u001b[0m\n\u001b[1;32m    376\u001b[0m \u001b[39mwith\u001b[39;00m _InterpolateFunctionError(\u001b[39mself\u001b[39m):\n\u001b[1;32m    377\u001b[0m   \u001b[39mif\u001b[39;00m cancellation_manager \u001b[39mis\u001b[39;00m \u001b[39mNone\u001b[39;00m:\n\u001b[0;32m--> 378\u001b[0m     outputs \u001b[39m=\u001b[39m execute\u001b[39m.\u001b[39;49mexecute(\n\u001b[1;32m    379\u001b[0m         \u001b[39mstr\u001b[39;49m(\u001b[39mself\u001b[39;49m\u001b[39m.\u001b[39;49msignature\u001b[39m.\u001b[39;49mname),\n\u001b[1;32m    380\u001b[0m         num_outputs\u001b[39m=\u001b[39;49m\u001b[39mself\u001b[39;49m\u001b[39m.\u001b[39;49m_num_outputs,\n\u001b[1;32m    381\u001b[0m         inputs\u001b[39m=\u001b[39;49margs,\n\u001b[1;32m    382\u001b[0m         attrs\u001b[39m=\u001b[39;49mattrs,\n\u001b[1;32m    383\u001b[0m         ctx\u001b[39m=\u001b[39;49mctx)\n\u001b[1;32m    384\u001b[0m   \u001b[39melse\u001b[39;00m:\n\u001b[1;32m    385\u001b[0m     outputs \u001b[39m=\u001b[39m execute\u001b[39m.\u001b[39mexecute_with_cancellation(\n\u001b[1;32m    386\u001b[0m         \u001b[39mstr\u001b[39m(\u001b[39mself\u001b[39m\u001b[39m.\u001b[39msignature\u001b[39m.\u001b[39mname),\n\u001b[1;32m    387\u001b[0m         num_outputs\u001b[39m=\u001b[39m\u001b[39mself\u001b[39m\u001b[39m.\u001b[39m_num_outputs,\n\u001b[0;32m   (...)\u001b[0m\n\u001b[1;32m    390\u001b[0m         ctx\u001b[39m=\u001b[39mctx,\n\u001b[1;32m    391\u001b[0m         cancellation_manager\u001b[39m=\u001b[39mcancellation_manager)\n",
      "File \u001b[0;32m~/.venv/tensorflow/lib/python3.8/site-packages/tensorflow/python/eager/execute.py:52\u001b[0m, in \u001b[0;36mquick_execute\u001b[0;34m(op_name, num_outputs, inputs, attrs, ctx, name)\u001b[0m\n\u001b[1;32m     50\u001b[0m \u001b[39mtry\u001b[39;00m:\n\u001b[1;32m     51\u001b[0m   ctx\u001b[39m.\u001b[39mensure_initialized()\n\u001b[0;32m---> 52\u001b[0m   tensors \u001b[39m=\u001b[39m pywrap_tfe\u001b[39m.\u001b[39;49mTFE_Py_Execute(ctx\u001b[39m.\u001b[39;49m_handle, device_name, op_name,\n\u001b[1;32m     53\u001b[0m                                       inputs, attrs, num_outputs)\n\u001b[1;32m     54\u001b[0m \u001b[39mexcept\u001b[39;00m core\u001b[39m.\u001b[39m_NotOkStatusException \u001b[39mas\u001b[39;00m e:\n\u001b[1;32m     55\u001b[0m   \u001b[39mif\u001b[39;00m name \u001b[39mis\u001b[39;00m \u001b[39mnot\u001b[39;00m \u001b[39mNone\u001b[39;00m:\n",
      "\u001b[0;31mKeyboardInterrupt\u001b[0m: "
     ]
    }
   ],
   "source": [
    "history = caption_model.fit_generator(data_generator(batch_size=64),\n",
    "                                epochs=90,\n",
    "                                steps_per_epoch=1000,\n",
    "                                callbacks=[tf.keras.callbacks.ReduceLROnPlateau(monitor='loss', factor=0.2, patience=2, min_lr=0.00000001, verbose=1)],\n",
    "                                verbose=1)"
   ]
  },
  {
   "cell_type": "code",
   "execution_count": 18,
   "metadata": {},
   "outputs": [],
   "source": [
    "# load model:\n",
    "caption_model = tf.keras.models.load_model(\"/users/skoka/Documents/ML-Lab2-Multi-Modal/model.h5\")"
   ]
  },
  {
   "cell_type": "code",
   "execution_count": 19,
   "metadata": {},
   "outputs": [],
   "source": [
    "def predict_caption(model, image):\n",
    "    in_text = 'staaaart'\n",
    "    for i in range(MAX_CAPTION_LENGTH):\n",
    "        sequence = tokenizer.texts_to_sequences([in_text])[0]\n",
    "        sequence = pad_sequences([sequence], maxlen=MAX_CAPTION_LENGTH)\n",
    "        yhat = model.predict([image, sequence], verbose=0)\n",
    "        # print top 5 predicted words:\n",
    "        yhat = np.argmax(yhat)\n",
    "        word = tokenizer.index_word[yhat]\n",
    "        in_text += ' ' + word\n",
    "        if word == 'endddd':\n",
    "            break\n",
    "    return in_text"
   ]
  },
  {
   "cell_type": "code",
   "execution_count": 20,
   "metadata": {},
   "outputs": [],
   "source": [
    "model_path = \"/users/skoka/Documents/ML-Lab2-Multi-Modal/model.h5\"\n",
    "model = tf.keras.models.load_model(model_path)"
   ]
  },
  {
   "cell_type": "code",
   "execution_count": 21,
   "metadata": {},
   "outputs": [
    {
     "name": "stdout",
     "output_type": "stream",
     "text": [
      "Actual Caption:  Asian woman in crowd , carrying black bag with \" pain \" and spiked knuckle graphic .\n"
     ]
    },
    {
     "ename": "ValueError",
     "evalue": "in user code:\n\n    File \"/users/skoka/.venv/tensorflow/lib/python3.8/site-packages/keras/engine/training.py\", line 2137, in predict_function  *\n        return step_function(self, iterator)\n    File \"/users/skoka/.venv/tensorflow/lib/python3.8/site-packages/keras/engine/training.py\", line 2123, in step_function  **\n        outputs = model.distribute_strategy.run(run_step, args=(data,))\n    File \"/users/skoka/.venv/tensorflow/lib/python3.8/site-packages/keras/engine/training.py\", line 2111, in run_step  **\n        outputs = model.predict_step(data)\n    File \"/users/skoka/.venv/tensorflow/lib/python3.8/site-packages/keras/engine/training.py\", line 2079, in predict_step\n        return self(x, training=False)\n    File \"/users/skoka/.venv/tensorflow/lib/python3.8/site-packages/keras/utils/traceback_utils.py\", line 70, in error_handler\n        raise e.with_traceback(filtered_tb) from None\n    File \"/users/skoka/.venv/tensorflow/lib/python3.8/site-packages/keras/engine/input_spec.py\", line 295, in assert_input_compatibility\n        raise ValueError(\n\n    ValueError: Input 0 of layer \"model_1\" is incompatible with the layer: expected shape=(None, 224, 224, 3), found shape=(None, 1920)\n",
     "output_type": "error",
     "traceback": [
      "\u001b[0;31m---------------------------------------------------------------------------\u001b[0m",
      "\u001b[0;31mValueError\u001b[0m                                Traceback (most recent call last)",
      "Cell \u001b[0;32mIn[21], line 7\u001b[0m\n\u001b[1;32m      5\u001b[0m caption \u001b[39m=\u001b[39m images[image_name][\u001b[39m\"\u001b[39m\u001b[39mcaptions\u001b[39m\u001b[39m\"\u001b[39m][\u001b[39m0\u001b[39m]\n\u001b[1;32m      6\u001b[0m \u001b[39mprint\u001b[39m(\u001b[39m\"\u001b[39m\u001b[39mActual Caption:\u001b[39m\u001b[39m\"\u001b[39m, caption)\n\u001b[0;32m----> 7\u001b[0m predicted_caption \u001b[39m=\u001b[39m predict_caption(caption_model, image\u001b[39m.\u001b[39;49mreshape(\u001b[39m1\u001b[39;49m, \u001b[39m1920\u001b[39;49m))\n\u001b[1;32m      8\u001b[0m \u001b[39mprint\u001b[39m(\u001b[39m\"\u001b[39m\u001b[39mPredicted Caption:\u001b[39m\u001b[39m\"\u001b[39m, predicted_caption)\n",
      "Cell \u001b[0;32mIn[19], line 6\u001b[0m, in \u001b[0;36mpredict_caption\u001b[0;34m(model, image)\u001b[0m\n\u001b[1;32m      4\u001b[0m sequence \u001b[39m=\u001b[39m tokenizer\u001b[39m.\u001b[39mtexts_to_sequences([in_text])[\u001b[39m0\u001b[39m]\n\u001b[1;32m      5\u001b[0m sequence \u001b[39m=\u001b[39m pad_sequences([sequence], maxlen\u001b[39m=\u001b[39mMAX_CAPTION_LENGTH)\n\u001b[0;32m----> 6\u001b[0m yhat \u001b[39m=\u001b[39m model\u001b[39m.\u001b[39;49mpredict([image, sequence], verbose\u001b[39m=\u001b[39;49m\u001b[39m0\u001b[39;49m)\n\u001b[1;32m      7\u001b[0m \u001b[39m# print top 5 predicted words:\u001b[39;00m\n\u001b[1;32m      8\u001b[0m yhat \u001b[39m=\u001b[39m np\u001b[39m.\u001b[39margmax(yhat)\n",
      "File \u001b[0;32m~/.venv/tensorflow/lib/python3.8/site-packages/keras/utils/traceback_utils.py:70\u001b[0m, in \u001b[0;36mfilter_traceback.<locals>.error_handler\u001b[0;34m(*args, **kwargs)\u001b[0m\n\u001b[1;32m     67\u001b[0m     filtered_tb \u001b[39m=\u001b[39m _process_traceback_frames(e\u001b[39m.\u001b[39m__traceback__)\n\u001b[1;32m     68\u001b[0m     \u001b[39m# To get the full stack trace, call:\u001b[39;00m\n\u001b[1;32m     69\u001b[0m     \u001b[39m# `tf.debugging.disable_traceback_filtering()`\u001b[39;00m\n\u001b[0;32m---> 70\u001b[0m     \u001b[39mraise\u001b[39;00m e\u001b[39m.\u001b[39mwith_traceback(filtered_tb) \u001b[39mfrom\u001b[39;00m \u001b[39mNone\u001b[39m\n\u001b[1;32m     71\u001b[0m \u001b[39mfinally\u001b[39;00m:\n\u001b[1;32m     72\u001b[0m     \u001b[39mdel\u001b[39;00m filtered_tb\n",
      "File \u001b[0;32m/tmp/__autograph_generated_filex1p26lrr.py:15\u001b[0m, in \u001b[0;36mouter_factory.<locals>.inner_factory.<locals>.tf__predict_function\u001b[0;34m(iterator)\u001b[0m\n\u001b[1;32m     13\u001b[0m \u001b[39mtry\u001b[39;00m:\n\u001b[1;32m     14\u001b[0m     do_return \u001b[39m=\u001b[39m \u001b[39mTrue\u001b[39;00m\n\u001b[0;32m---> 15\u001b[0m     retval_ \u001b[39m=\u001b[39m ag__\u001b[39m.\u001b[39mconverted_call(ag__\u001b[39m.\u001b[39mld(step_function), (ag__\u001b[39m.\u001b[39mld(\u001b[39mself\u001b[39m), ag__\u001b[39m.\u001b[39mld(iterator)), \u001b[39mNone\u001b[39;00m, fscope)\n\u001b[1;32m     16\u001b[0m \u001b[39mexcept\u001b[39;00m:\n\u001b[1;32m     17\u001b[0m     do_return \u001b[39m=\u001b[39m \u001b[39mFalse\u001b[39;00m\n",
      "\u001b[0;31mValueError\u001b[0m: in user code:\n\n    File \"/users/skoka/.venv/tensorflow/lib/python3.8/site-packages/keras/engine/training.py\", line 2137, in predict_function  *\n        return step_function(self, iterator)\n    File \"/users/skoka/.venv/tensorflow/lib/python3.8/site-packages/keras/engine/training.py\", line 2123, in step_function  **\n        outputs = model.distribute_strategy.run(run_step, args=(data,))\n    File \"/users/skoka/.venv/tensorflow/lib/python3.8/site-packages/keras/engine/training.py\", line 2111, in run_step  **\n        outputs = model.predict_step(data)\n    File \"/users/skoka/.venv/tensorflow/lib/python3.8/site-packages/keras/engine/training.py\", line 2079, in predict_step\n        return self(x, training=False)\n    File \"/users/skoka/.venv/tensorflow/lib/python3.8/site-packages/keras/utils/traceback_utils.py\", line 70, in error_handler\n        raise e.with_traceback(filtered_tb) from None\n    File \"/users/skoka/.venv/tensorflow/lib/python3.8/site-packages/keras/engine/input_spec.py\", line 295, in assert_input_compatibility\n        raise ValueError(\n\n    ValueError: Input 0 of layer \"model_1\" is incompatible with the layer: expected shape=(None, 224, 224, 3), found shape=(None, 1920)\n"
     ]
    }
   ],
   "source": [
    "# Predict on a random image\n",
    "import random\n",
    "image_name = random.choice(list(images.keys()))\n",
    "image = features[image_name + \".jpg\"]\n",
    "caption = images[image_name][\"captions\"][0]\n",
    "print(\"Actual Caption:\", caption)\n",
    "predicted_caption = predict_caption(caption_model, image.reshape(1, 1920))\n",
    "print(\"Predicted Caption:\", predicted_caption)"
   ]
  },
  {
   "cell_type": "code",
   "execution_count": 28,
   "metadata": {},
   "outputs": [
    {
     "data": {
      "text/plain": [
       "0"
      ]
     },
     "execution_count": 28,
     "metadata": {},
     "output_type": "execute_result"
    }
   ],
   "source": [
    "len(images_passed_in)"
   ]
  },
  {
   "cell_type": "code",
   "execution_count": null,
   "metadata": {},
   "outputs": [],
   "source": []
  }
 ],
 "metadata": {
  "kernelspec": {
   "display_name": "Python 3 (ipykernel)",
   "language": "python",
   "name": "python3"
  },
  "language_info": {
   "codemirror_mode": {
    "name": "ipython",
    "version": 3
   },
   "file_extension": ".py",
   "mimetype": "text/x-python",
   "name": "python",
   "nbconvert_exporter": "python",
   "pygments_lexer": "ipython3",
   "version": "3.8.10"
  },
  "orig_nbformat": 4
 },
 "nbformat": 4,
 "nbformat_minor": 2
}
